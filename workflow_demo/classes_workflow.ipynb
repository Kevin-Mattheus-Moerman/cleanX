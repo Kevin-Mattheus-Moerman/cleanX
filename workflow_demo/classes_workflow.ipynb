{
 "cells": [
  {
   "cell_type": "markdown",
   "id": "d08587d9",
   "metadata": {},
   "source": [
    "# 1  Automated data cleaning for chest Xrays with cleanX: example code using classes\n",
    "\n",
    "Work by Candace Makeda Moore, MD, Oleg Sivokon, Andrew Murphy Please note this workflow does not cover the whole scope of cleanX, and is only meant to show some of the functionality that can be accoomplished using the classes in cleanX. It is essentially a workflow that can easily automate many tasks if a programmer is making many ML products from medical images."
   ]
  },
  {
   "cell_type": "code",
   "execution_count": 1,
   "id": "9f78c354",
   "metadata": {},
   "outputs": [],
   "source": [
    "\n",
    "import sys\n",
    "sys.path = ['D:/projects/cleanX'] + sys.path"
   ]
  },
  {
   "cell_type": "code",
   "execution_count": 2,
   "id": "cf9bb5c3",
   "metadata": {},
   "outputs": [],
   "source": [
    "from cleanX import (\n",
    "    dataset_processing as csvp,\n",
    "    dicom_processing as dicomp,\n",
    "    image_work as iwork,\n",
    ")"
   ]
  },
  {
   "cell_type": "markdown",
   "id": "6f942c76",
   "metadata": {},
   "source": [
    "## DICOM files"
   ]
  },
  {
   "cell_type": "markdown",
   "id": "b5d3677c",
   "metadata": {},
   "source": [
    "An example of using the dicom_processing to get a dataframe of data , and an image from a DICOM file."
   ]
  },
  {
   "cell_type": "code",
   "execution_count": 3,
   "id": "70a78c4c",
   "metadata": {},
   "outputs": [],
   "source": [
    "from cleanX.dicom_processing import DicomReader"
   ]
  },
  {
   "cell_type": "code",
   "execution_count": 4,
   "id": "4b806275",
   "metadata": {},
   "outputs": [
    {
     "data": {
      "text/plain": [
       "False"
      ]
     },
     "execution_count": 4,
     "metadata": {},
     "output_type": "execute_result"
    }
   ],
   "source": [
    "def pydicom_missing():\n",
    "    try:\n",
    "        import pydicom\n",
    "        return False\n",
    "    except ModuleNotFoundError:\n",
    "        \n",
    "        return True\n",
    "pydicom_missing()    "
   ]
  },
  {
   "cell_type": "code",
   "execution_count": 5,
   "id": "a90068aa",
   "metadata": {},
   "outputs": [
    {
     "data": {
      "text/html": [
       "<div>\n",
       "<style scoped>\n",
       "    .dataframe tbody tr th:only-of-type {\n",
       "        vertical-align: middle;\n",
       "    }\n",
       "\n",
       "    .dataframe tbody tr th {\n",
       "        vertical-align: top;\n",
       "    }\n",
       "\n",
       "    .dataframe thead th {\n",
       "        text-align: right;\n",
       "    }\n",
       "</style>\n",
       "<table border=\"1\" class=\"dataframe\">\n",
       "  <thead>\n",
       "    <tr style=\"text-align: right;\">\n",
       "      <th></th>\n",
       "      <th>file</th>\n",
       "      <th>Modality</th>\n",
       "      <th>SeriesTime</th>\n",
       "      <th>PatientSize</th>\n",
       "      <th>SmallestImagePixelValue</th>\n",
       "      <th>ImagesInAcquisition</th>\n",
       "      <th>SamplesPerPixel</th>\n",
       "      <th>PatientAge</th>\n",
       "      <th>StudyDescription</th>\n",
       "      <th>CorrectedImage</th>\n",
       "      <th>...</th>\n",
       "      <th>SeriesNumber</th>\n",
       "      <th>EnergyWindowVector</th>\n",
       "      <th>PatientID</th>\n",
       "      <th>PatientWeight</th>\n",
       "      <th>AccessionNumber</th>\n",
       "      <th>StorageMediaFileSetUID</th>\n",
       "      <th>ReferringPhysicianName</th>\n",
       "      <th>ContentDate</th>\n",
       "      <th>NumberOfEnergyWindows</th>\n",
       "      <th>NumberOfFrames</th>\n",
       "    </tr>\n",
       "  </thead>\n",
       "  <tbody>\n",
       "    <tr>\n",
       "      <th>0</th>\n",
       "      <td>IM-0001-0002.dcme3cbbe6b-2d21-4798-a27a-10226c...</td>\n",
       "      <td>NM</td>\n",
       "      <td>153319.140000</td>\n",
       "      <td>1.5</td>\n",
       "      <td>0</td>\n",
       "      <td>3</td>\n",
       "      <td>1</td>\n",
       "      <td>051Y</td>\n",
       "      <td>Thyroid Scan</td>\n",
       "      <td>UNIF</td>\n",
       "      <td>...</td>\n",
       "      <td>1</td>\n",
       "      <td>1</td>\n",
       "      <td>SIEMENS</td>\n",
       "      <td>40.0</td>\n",
       "      <td></td>\n",
       "      <td>1.3.12.2.1107.5.6.1.123.200310291824420019080</td>\n",
       "      <td></td>\n",
       "      <td>2001-01-31</td>\n",
       "      <td>1</td>\n",
       "      <td>1</td>\n",
       "    </tr>\n",
       "    <tr>\n",
       "      <th>1</th>\n",
       "      <td>IM-0001-0003.dcma8cf5740-b518-4e91-be5e-3b6cdb...</td>\n",
       "      <td>NM</td>\n",
       "      <td>153319.140000</td>\n",
       "      <td>1.5</td>\n",
       "      <td>0</td>\n",
       "      <td>3</td>\n",
       "      <td>1</td>\n",
       "      <td>051Y</td>\n",
       "      <td>Thyroid Scan</td>\n",
       "      <td>UNIF</td>\n",
       "      <td>...</td>\n",
       "      <td>1</td>\n",
       "      <td>1</td>\n",
       "      <td>SIEMENS</td>\n",
       "      <td>40.0</td>\n",
       "      <td></td>\n",
       "      <td>1.3.12.2.1107.5.6.1.123.200310291824420019080</td>\n",
       "      <td></td>\n",
       "      <td>2001-01-31</td>\n",
       "      <td>1</td>\n",
       "      <td>1</td>\n",
       "    </tr>\n",
       "    <tr>\n",
       "      <th>2</th>\n",
       "      <td>IM-0001-0004.dcm0a117e34-be84-4fa8-993d-249927...</td>\n",
       "      <td>NM</td>\n",
       "      <td>152842.140000</td>\n",
       "      <td>1.5</td>\n",
       "      <td>0</td>\n",
       "      <td>1</td>\n",
       "      <td>1</td>\n",
       "      <td>051Y</td>\n",
       "      <td>Thyroid Scan</td>\n",
       "      <td>UNIF</td>\n",
       "      <td>...</td>\n",
       "      <td>1</td>\n",
       "      <td>1</td>\n",
       "      <td>SIEMENS</td>\n",
       "      <td>40.0</td>\n",
       "      <td></td>\n",
       "      <td>1.3.12.2.1107.5.6.1.123.200310291824420019080</td>\n",
       "      <td></td>\n",
       "      <td>2001-01-31</td>\n",
       "      <td>1</td>\n",
       "      <td>1</td>\n",
       "    </tr>\n",
       "  </tbody>\n",
       "</table>\n",
       "<p>3 rows × 52 columns</p>\n",
       "</div>"
      ],
      "text/plain": [
       "                                                file Modality     SeriesTime  \\\n",
       "0  IM-0001-0002.dcme3cbbe6b-2d21-4798-a27a-10226c...       NM  153319.140000   \n",
       "1  IM-0001-0003.dcma8cf5740-b518-4e91-be5e-3b6cdb...       NM  153319.140000   \n",
       "2  IM-0001-0004.dcm0a117e34-be84-4fa8-993d-249927...       NM  152842.140000   \n",
       "\n",
       "   PatientSize  SmallestImagePixelValue  ImagesInAcquisition  SamplesPerPixel  \\\n",
       "0          1.5                        0                    3                1   \n",
       "1          1.5                        0                    3                1   \n",
       "2          1.5                        0                    1                1   \n",
       "\n",
       "  PatientAge StudyDescription CorrectedImage  ... SeriesNumber  \\\n",
       "0       051Y     Thyroid Scan           UNIF  ...            1   \n",
       "1       051Y     Thyroid Scan           UNIF  ...            1   \n",
       "2       051Y     Thyroid Scan           UNIF  ...            1   \n",
       "\n",
       "  EnergyWindowVector  PatientID  PatientWeight  AccessionNumber  \\\n",
       "0                  1    SIEMENS           40.0                    \n",
       "1                  1    SIEMENS           40.0                    \n",
       "2                  1    SIEMENS           40.0                    \n",
       "\n",
       "                          StorageMediaFileSetUID  ReferringPhysicianName  \\\n",
       "0  1.3.12.2.1107.5.6.1.123.200310291824420019080                           \n",
       "1  1.3.12.2.1107.5.6.1.123.200310291824420019080                           \n",
       "2  1.3.12.2.1107.5.6.1.123.200310291824420019080                           \n",
       "\n",
       "  ContentDate NumberOfEnergyWindows NumberOfFrames  \n",
       "0  2001-01-31                     1              1  \n",
       "1  2001-01-31                     1              1  \n",
       "2  2001-01-31                     1              1  \n",
       "\n",
       "[3 rows x 52 columns]"
      ]
     },
     "execution_count": 5,
     "metadata": {},
     "output_type": "execute_result"
    }
   ],
   "source": [
    "dicomfile_directory1 = 'D:/projects/cleanX/test/dicom_example_folder'\n",
    "source_column = 'file'\n",
    "reader = dicomp.pydicom_adapter.PydicomDicomReader(\n",
    "        exclude_fields=('PatientName',),\n",
    "    )\n",
    "source = dicomp.DirectorySource(dicomfile_directory1, source_column)\n",
    "df = reader.read(source)\n",
    "df"
   ]
  },
  {
   "cell_type": "code",
   "execution_count": 10,
   "id": "5194d8a0",
   "metadata": {},
   "outputs": [
    {
     "name": "stdout",
     "output_type": "stream",
     "text": [
      "2 image converted\n"
     ]
    }
   ],
   "source": [
    "output_folder = 'D:/projects/cleanX/test'\n",
    "rip = dicomp.rip_out_jpgs\n",
    "jpg = rip(dicomfile_directory1,output_folder)"
   ]
  },
  {
   "cell_type": "code",
   "execution_count": null,
   "id": "58f7f880",
   "metadata": {},
   "outputs": [],
   "source": [
    "# It worked, I checked ;) New imagages in my test folder!"
   ]
  },
  {
   "cell_type": "markdown",
   "id": "4a962d55",
   "metadata": {},
   "source": [
    "## Datasets"
   ]
  },
  {
   "cell_type": "code",
   "execution_count": null,
   "id": "9f6dfd7f",
   "metadata": {},
   "outputs": [],
   "source": [
    "from cleanX.dataset_processing import MLSetup"
   ]
  },
  {
   "cell_type": "code",
   "execution_count": null,
   "id": "8388465b",
   "metadata": {},
   "outputs": [],
   "source": [
    "# for the sake of the demo we will use nearly the same train and test source \n",
    "# i.e. all thousands of images are leaked images between test and train\n",
    "# setup parameters = train, test, uniqueID, sensitive list \n",
    "setup = MLSetup(\n",
    "    'example_csv.csv',\n",
    "    'duped1.csv',\n",
    "    unique_id='X_ray_image_name',\n",
    "    label_tag='Label',\n",
    "    sensitive_list=['gender'],\n",
    ")\n",
    "report = setup.generate_report()\n",
    "report.to_ipwidget()"
   ]
  },
  {
   "cell_type": "code",
   "execution_count": null,
   "id": "2d31c50b",
   "metadata": {},
   "outputs": [],
   "source": [
    "setup = MLSetup(\n",
    "    'example_csv.csv',\n",
    "    'duped1.csv',\n",
    "    unique_id='X_ray_image_name',\n",
    "    label_tag='Label',\n",
    "    sensitive_list=['gender'],\n",
    ")\n",
    "report = setup.generate_report()\n",
    "report.to_text()"
   ]
  },
  {
   "cell_type": "markdown",
   "id": "edecdd65",
   "metadata": {},
   "source": [
    "## Images\n"
   ]
  },
  {
   "cell_type": "markdown",
   "id": "22c49213",
   "metadata": {},
   "source": [
    "The image workflow is under development (7/22/2021). Stay tuned."
   ]
  },
  {
   "cell_type": "code",
   "execution_count": null,
   "id": "02d42d61",
   "metadata": {},
   "outputs": [],
   "source": []
  }
 ],
 "metadata": {
  "kernelspec": {
   "display_name": "Python 3 (ipykernel)",
   "language": "python",
   "name": "python3"
  },
  "language_info": {
   "codemirror_mode": {
    "name": "ipython",
    "version": 3
   },
   "file_extension": ".py",
   "mimetype": "text/x-python",
   "name": "python",
   "nbconvert_exporter": "python",
   "pygments_lexer": "ipython3",
   "version": "3.8.0"
  },
  "toc": {
   "base_numbering": 1,
   "nav_menu": {},
   "number_sections": true,
   "sideBar": true,
   "skip_h1_title": false,
   "title_cell": "Table of Contents",
   "title_sidebar": "Contents",
   "toc_cell": false,
   "toc_position": {},
   "toc_section_display": true,
   "toc_window_display": false
  }
 },
 "nbformat": 4,
 "nbformat_minor": 5
}
