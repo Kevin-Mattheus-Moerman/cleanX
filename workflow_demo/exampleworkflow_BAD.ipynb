{
 "cells": [
  {
   "cell_type": "markdown",
   "id": "flush-compound",
   "metadata": {},
   "source": [
    "# Automated data cleaning for chest Xrays \n",
    "Work by Candace Makeda Moore, MD, Oleg Sivokon, Andrew Murphy "
   ]
  },
  {
   "cell_type": "markdown",
   "id": "ongoing-grain",
   "metadata": {},
   "source": [
    "## Create example dataset to work off of"
   ]
  },
  {
   "cell_type": "markdown",
   "id": "hidden-providence",
   "metadata": {},
   "source": [
    "Move RANCZR images around for paper"
   ]
  },
  {
   "cell_type": "code",
   "execution_count": 185,
   "id": "driving-participation",
   "metadata": {},
   "outputs": [],
   "source": [
    "def white_normalize(image_folder, target_folder):\n",
    "    \"\"\"\n",
    "    This function takes X-rays and makes the highest pixel values converge to 255. \n",
    "    The \"white normalized\" pictures are put in a target folder with name norm+original name.\n",
    "    :param dataframe_label_column: name of dataframe column with label string\n",
    "    :type dataframe_label_column:string\n",
    "    :param image_folder: name of folder where images are\n",
    "    :type image_folder:string\n",
    "    \n",
    "    :return: list of titled average images per label\n",
    "    :rtype: list\n",
    "    \"\"\"\n",
    "    new_pics = []\n",
    "    suspects = glob.glob(os.path.join(image_folder, '*.jpg'))\n",
    "    pic_to_nlines = {}\n",
    "    for pic in suspects:\n",
    "        img = cv2.imread(pic, cv2.IMREAD_GRAYSCALE)\n",
    "    # load image\n",
    "    #image = cv2.imread(image_folder+example, cv2.IMREAD_GRAYSCALE)\n",
    "        pixels = img\n",
    "# confirm pixel range is 0-255\n",
    "#         print('Data Type: %s' % pixels.dtype)\n",
    "#         print('Min: %.3f, Max: %.3f' % (pixels.min(), pixels.max()))\n",
    "# convert from integers to floats\n",
    "        pixels = pixels.astype('float32')\n",
    "# normalize to the range 0-255\n",
    "        pixels *= 255/pixels.max() \n",
    "        #new_pics.append(pixels)\n",
    "        ho = cv2.imwrite('name',pixels)\n",
    "        novo = os.path.basename(pic)\n",
    "        ho.save(os.path.join(target_folder, novo + \".jpg\"))    \n",
    "    return(new_pics)    \n",
    "# confirm the normalization\n",
    "#         print('Min: %.3f, Max: %.3f' % (pixels.min(), pixels.max()))\n"
   ]
  },
  {
   "cell_type": "code",
   "execution_count": 186,
   "id": "comprehensive-distributor",
   "metadata": {},
   "outputs": [
    {
     "ename": "error",
     "evalue": "OpenCV(4.5.0) ..\\modules\\imgcodecs\\src\\loadsave.cpp:682: error: (-2:Unspecified error) could not find a writer for the specified extension in function 'cv::imwrite_'\n",
     "output_type": "error",
     "traceback": [
      "\u001b[1;31m---------------------------------------------------------------------------\u001b[0m",
      "\u001b[1;31merror\u001b[0m                                     Traceback (most recent call last)",
      "\u001b[1;32m<ipython-input-186-c68243f87507>\u001b[0m in \u001b[0;36m<module>\u001b[1;34m\u001b[0m\n\u001b[0;32m      1\u001b[0m \u001b[0morigin\u001b[0m \u001b[1;33m=\u001b[0m\u001b[1;34m'D:/my_academia/ncs/Coronahack-Chest-XRay-Dataset/Coronahack-Chest-XRay-Dataset/train/'\u001b[0m\u001b[1;33m\u001b[0m\u001b[1;33m\u001b[0m\u001b[0m\n\u001b[0;32m      2\u001b[0m \u001b[0mtag\u001b[0m\u001b[1;33m=\u001b[0m \u001b[1;34m'D:/my_academia/ncs/Coronahack-Chest-XRay-Dataset/Coronahack-Chest-XRay-Dataset/try/'\u001b[0m\u001b[1;33m\u001b[0m\u001b[1;33m\u001b[0m\u001b[0m\n\u001b[1;32m----> 3\u001b[1;33m \u001b[0mwhite_normalize\u001b[0m\u001b[1;33m(\u001b[0m\u001b[0morigin\u001b[0m\u001b[1;33m,\u001b[0m \u001b[0mtag\u001b[0m\u001b[1;33m)\u001b[0m\u001b[1;33m\u001b[0m\u001b[1;33m\u001b[0m\u001b[0m\n\u001b[0m",
      "\u001b[1;32m<ipython-input-185-ab2d0ba2fe68>\u001b[0m in \u001b[0;36mwhite_normalize\u001b[1;34m(image_folder, target_folder)\u001b[0m\n\u001b[0;32m     27\u001b[0m         \u001b[0mpixels\u001b[0m \u001b[1;33m*=\u001b[0m \u001b[1;36m255\u001b[0m\u001b[1;33m/\u001b[0m\u001b[0mpixels\u001b[0m\u001b[1;33m.\u001b[0m\u001b[0mmax\u001b[0m\u001b[1;33m(\u001b[0m\u001b[1;33m)\u001b[0m\u001b[1;33m\u001b[0m\u001b[1;33m\u001b[0m\u001b[0m\n\u001b[0;32m     28\u001b[0m         \u001b[1;31m#new_pics.append(pixels)\u001b[0m\u001b[1;33m\u001b[0m\u001b[1;33m\u001b[0m\u001b[1;33m\u001b[0m\u001b[0m\n\u001b[1;32m---> 29\u001b[1;33m         \u001b[0mho\u001b[0m \u001b[1;33m=\u001b[0m \u001b[0mcv2\u001b[0m\u001b[1;33m.\u001b[0m\u001b[0mimwrite\u001b[0m\u001b[1;33m(\u001b[0m\u001b[1;34m'name'\u001b[0m\u001b[1;33m,\u001b[0m\u001b[0mpixels\u001b[0m\u001b[1;33m)\u001b[0m\u001b[1;33m\u001b[0m\u001b[1;33m\u001b[0m\u001b[0m\n\u001b[0m\u001b[0;32m     30\u001b[0m         \u001b[0mnovo\u001b[0m \u001b[1;33m=\u001b[0m \u001b[0mos\u001b[0m\u001b[1;33m.\u001b[0m\u001b[0mpath\u001b[0m\u001b[1;33m.\u001b[0m\u001b[0mbasename\u001b[0m\u001b[1;33m(\u001b[0m\u001b[0mpic\u001b[0m\u001b[1;33m)\u001b[0m\u001b[1;33m\u001b[0m\u001b[1;33m\u001b[0m\u001b[0m\n\u001b[0;32m     31\u001b[0m         \u001b[0mho\u001b[0m\u001b[1;33m.\u001b[0m\u001b[0msave\u001b[0m\u001b[1;33m(\u001b[0m\u001b[0mos\u001b[0m\u001b[1;33m.\u001b[0m\u001b[0mpath\u001b[0m\u001b[1;33m.\u001b[0m\u001b[0mjoin\u001b[0m\u001b[1;33m(\u001b[0m\u001b[0mtarget_folder\u001b[0m\u001b[1;33m,\u001b[0m \u001b[0mnovo\u001b[0m \u001b[1;33m+\u001b[0m \u001b[1;34m\".jpg\"\u001b[0m\u001b[1;33m)\u001b[0m\u001b[1;33m)\u001b[0m\u001b[1;33m\u001b[0m\u001b[1;33m\u001b[0m\u001b[0m\n",
      "\u001b[1;31merror\u001b[0m: OpenCV(4.5.0) ..\\modules\\imgcodecs\\src\\loadsave.cpp:682: error: (-2:Unspecified error) could not find a writer for the specified extension in function 'cv::imwrite_'\n"
     ]
    }
   ],
   "source": [
    "origin ='D:/my_academia/ncs/Coronahack-Chest-XRay-Dataset/Coronahack-Chest-XRay-Dataset/train/'\n",
    "tag= 'D:/my_academia/ncs/Coronahack-Chest-XRay-Dataset/Coronahack-Chest-XRay-Dataset/try/'\n",
    "white_normalize(origin, tag)"
   ]
  },
  {
   "cell_type": "code",
   "execution_count": 109,
   "id": "studied-discharge",
   "metadata": {},
   "outputs": [],
   "source": [
    "def avg_image_maker_by_label(master_df,dataframe_image_column, dataframe_label_column, image_folder):\n",
    "    \"\"\"\n",
    "    :param master_df: Dataframe with image location and labels  \n",
    "    :type master_df: Dataframe   \n",
    "    :param dataframe_image_column: name of dataframe column with image location string\n",
    "    :type dataframe_image_column:string\n",
    "    :param dataframe_label_column: name of dataframe column with label string\n",
    "    :type dataframe_label_column:string\n",
    "    :param image_folder: name of folder where images are\n",
    "    :type image_folder:string\n",
    "    \n",
    "    :return: list of titled average images per label\n",
    "    :rtype: list\n",
    "    \"\"\"\n",
    "    final_img_list = []\n",
    "    final_name_list = []\n",
    "    set_of_labels = master_df[dataframe_label_column].unique()\n",
    "    for name in set_of_labels: \n",
    "        sets_of_images = []\n",
    "    \n",
    "        list_h = []\n",
    "        list_w = []\n",
    "    \n",
    "        for example in master_df[dataframe_image_column][master_df[dataframe_label_column] == name]:\n",
    "            example = cv2.imread(image_folder+example, cv2.IMREAD_GRAYSCALE)\n",
    "            ht= example.shape[0]\n",
    "            wt= example.shape[1]\n",
    "            list_h.append(ht)  \n",
    "            list_w.append(wt)\n",
    "           # print(example)\n",
    "        \n",
    "        h = int(sum(list_h)/len(list_h))    \n",
    "        w = int(sum(list_w)/len(list_w))\n",
    "        canvas = np.zeros((h, w))\n",
    "        for example in  master_df[dataframe_image_column]:\n",
    "            example = cv2.imread(image_folder+example, cv2.IMREAD_GRAYSCALE)    \n",
    "            example_small = cv2.resize(example, (w, h))\n",
    "            canvas += np.array(example_small)\n",
    "        final_avg = canvas / len(dataframe_image_column)    \n",
    "        final_img_list.append(final_avg)\n",
    "        final_name_list.append(name)\n",
    "    stick = pd.DataFrame(final_name_list)\n",
    "    stick_data = {'name': final_name_list, 'images': final_img_list}\n",
    "\n",
    "    df = pd.DataFrame(data=stick_data)\n",
    "\n",
    "\n",
    "    stick['images'] = final_img_list\n",
    "    return df\n",
    "    "
   ]
  },
  {
   "cell_type": "code",
   "execution_count": 97,
   "id": "collective-tender",
   "metadata": {},
   "outputs": [],
   "source": [
    "def show_images_in_df2(iter_ob, legnth_name):\n",
    "    \"\"\"\n",
    "    Args:\n",
    "        iter_ob: should be list(df.column)\n",
    "        legnth_name: size of image name going from end\n",
    "    Returns: plot of images with names    \n",
    "        \"\"\"\n",
    "    \n",
    "    \n",
    "    width = int(math.sqrt(len(iter_ob)))\n",
    "    height = int(math.ceil(len(iter_ob) / width))\n",
    "    f, axarr = plt.subplots(width, height, figsize=(14, 14))\n",
    "    if width > 1:\n",
    "        for x in range(width):\n",
    "            for y in range(height):\n",
    "                element = iter_ob[x * width + y]\n",
    "                fname = os.path.splitext(element)[0]\n",
    "                title = fname[-legnth_name:]\n",
    "                exop = cv2.imread(element, cv2.IMREAD_GRAYSCALE)\n",
    "                axarr[x, y].set_title(title)\n",
    "                axarr[x, y].imshow(exop, cmap='gray')\n",
    "                \n",
    "\n",
    "    else:\n",
    "        for y in range(height):\n",
    "            element = iter_ob[y]\n",
    "            exop = cv2.imread(element, cv2.IMREAD_GRAYSCALE)\n",
    "            fname = os.path.splitext(element)[0]\n",
    "            title = fname[-legnth_name:]\n",
    "            axarr[y].set_title(title) \n",
    "            axarr[y].imshow(exop, cmap='gray')\n",
    "                    \n",
    "    #plt.title('Outlier images')        \n",
    "    return plt.show()"
   ]
  },
  {
   "cell_type": "code",
   "execution_count": 60,
   "id": "present-importance",
   "metadata": {},
   "outputs": [],
   "source": [
    "dataframe1 = pd.read_csv(\n",
    "    'D:/my_academia/ncs/Coronahack-Chest-XRay-Dataset/Coronahack-Chest-XRay-Dataset/train/Chest_xray_Corona_Metadata.csv',\n",
    "    )\n",
    "dataframe2 = dataframe1[dataframe1.Dataset_type == 'TRAIN']\n"
   ]
  },
  {
   "cell_type": "code",
   "execution_count": 61,
   "id": "constitutional-maldives",
   "metadata": {},
   "outputs": [
    {
     "data": {
      "text/html": [
       "<div>\n",
       "<style scoped>\n",
       "    .dataframe tbody tr th:only-of-type {\n",
       "        vertical-align: middle;\n",
       "    }\n",
       "\n",
       "    .dataframe tbody tr th {\n",
       "        vertical-align: top;\n",
       "    }\n",
       "\n",
       "    .dataframe thead th {\n",
       "        text-align: right;\n",
       "    }\n",
       "</style>\n",
       "<table border=\"1\" class=\"dataframe\">\n",
       "  <thead>\n",
       "    <tr style=\"text-align: right;\">\n",
       "      <th></th>\n",
       "      <th>Unnamed: 0</th>\n",
       "      <th>X_ray_image_name</th>\n",
       "      <th>Label</th>\n",
       "      <th>Dataset_type</th>\n",
       "      <th>Label_2_Virus_category</th>\n",
       "      <th>Label_1_Virus_category</th>\n",
       "    </tr>\n",
       "  </thead>\n",
       "  <tbody>\n",
       "    <tr>\n",
       "      <th>0</th>\n",
       "      <td>0</td>\n",
       "      <td>IM-0128-0001.jpeg</td>\n",
       "      <td>Normal</td>\n",
       "      <td>TRAIN</td>\n",
       "      <td>NaN</td>\n",
       "      <td>NaN</td>\n",
       "    </tr>\n",
       "    <tr>\n",
       "      <th>1</th>\n",
       "      <td>1</td>\n",
       "      <td>IM-0127-0001.jpeg</td>\n",
       "      <td>Normal</td>\n",
       "      <td>TRAIN</td>\n",
       "      <td>NaN</td>\n",
       "      <td>NaN</td>\n",
       "    </tr>\n",
       "    <tr>\n",
       "      <th>2</th>\n",
       "      <td>2</td>\n",
       "      <td>IM-0125-0001.jpeg</td>\n",
       "      <td>Normal</td>\n",
       "      <td>TRAIN</td>\n",
       "      <td>NaN</td>\n",
       "      <td>NaN</td>\n",
       "    </tr>\n",
       "    <tr>\n",
       "      <th>3</th>\n",
       "      <td>3</td>\n",
       "      <td>IM-0122-0001.jpeg</td>\n",
       "      <td>Normal</td>\n",
       "      <td>TRAIN</td>\n",
       "      <td>NaN</td>\n",
       "      <td>NaN</td>\n",
       "    </tr>\n",
       "    <tr>\n",
       "      <th>4</th>\n",
       "      <td>4</td>\n",
       "      <td>IM-0119-0001.jpeg</td>\n",
       "      <td>Normal</td>\n",
       "      <td>TRAIN</td>\n",
       "      <td>NaN</td>\n",
       "      <td>NaN</td>\n",
       "    </tr>\n",
       "    <tr>\n",
       "      <th>...</th>\n",
       "      <td>...</td>\n",
       "      <td>...</td>\n",
       "      <td>...</td>\n",
       "      <td>...</td>\n",
       "      <td>...</td>\n",
       "      <td>...</td>\n",
       "    </tr>\n",
       "    <tr>\n",
       "      <th>5281</th>\n",
       "      <td>5304</td>\n",
       "      <td>1-s2.0-S0929664620300449-gr2_lrg-c.jpg</td>\n",
       "      <td>Pnemonia</td>\n",
       "      <td>TRAIN</td>\n",
       "      <td>COVID-19</td>\n",
       "      <td>Virus</td>\n",
       "    </tr>\n",
       "    <tr>\n",
       "      <th>5282</th>\n",
       "      <td>5305</td>\n",
       "      <td>1-s2.0-S0929664620300449-gr2_lrg-b.jpg</td>\n",
       "      <td>Pnemonia</td>\n",
       "      <td>TRAIN</td>\n",
       "      <td>COVID-19</td>\n",
       "      <td>Virus</td>\n",
       "    </tr>\n",
       "    <tr>\n",
       "      <th>5283</th>\n",
       "      <td>5306</td>\n",
       "      <td>1-s2.0-S0929664620300449-gr2_lrg-a.jpg</td>\n",
       "      <td>Pnemonia</td>\n",
       "      <td>TRAIN</td>\n",
       "      <td>COVID-19</td>\n",
       "      <td>Virus</td>\n",
       "    </tr>\n",
       "    <tr>\n",
       "      <th>5284</th>\n",
       "      <td>5307</td>\n",
       "      <td>1-s2.0-S0140673620303706-fx1_lrg.jpg</td>\n",
       "      <td>Pnemonia</td>\n",
       "      <td>TRAIN</td>\n",
       "      <td>COVID-19</td>\n",
       "      <td>Virus</td>\n",
       "    </tr>\n",
       "    <tr>\n",
       "      <th>5285</th>\n",
       "      <td>5308</td>\n",
       "      <td>01E392EE-69F9-4E33-BFCE-E5C968654078.jpeg</td>\n",
       "      <td>Pnemonia</td>\n",
       "      <td>TRAIN</td>\n",
       "      <td>COVID-19</td>\n",
       "      <td>Virus</td>\n",
       "    </tr>\n",
       "  </tbody>\n",
       "</table>\n",
       "<p>5286 rows × 6 columns</p>\n",
       "</div>"
      ],
      "text/plain": [
       "      Unnamed: 0                           X_ray_image_name     Label  \\\n",
       "0              0                          IM-0128-0001.jpeg    Normal   \n",
       "1              1                          IM-0127-0001.jpeg    Normal   \n",
       "2              2                          IM-0125-0001.jpeg    Normal   \n",
       "3              3                          IM-0122-0001.jpeg    Normal   \n",
       "4              4                          IM-0119-0001.jpeg    Normal   \n",
       "...          ...                                        ...       ...   \n",
       "5281        5304     1-s2.0-S0929664620300449-gr2_lrg-c.jpg  Pnemonia   \n",
       "5282        5305     1-s2.0-S0929664620300449-gr2_lrg-b.jpg  Pnemonia   \n",
       "5283        5306     1-s2.0-S0929664620300449-gr2_lrg-a.jpg  Pnemonia   \n",
       "5284        5307       1-s2.0-S0140673620303706-fx1_lrg.jpg  Pnemonia   \n",
       "5285        5308  01E392EE-69F9-4E33-BFCE-E5C968654078.jpeg  Pnemonia   \n",
       "\n",
       "     Dataset_type Label_2_Virus_category Label_1_Virus_category  \n",
       "0           TRAIN                    NaN                    NaN  \n",
       "1           TRAIN                    NaN                    NaN  \n",
       "2           TRAIN                    NaN                    NaN  \n",
       "3           TRAIN                    NaN                    NaN  \n",
       "4           TRAIN                    NaN                    NaN  \n",
       "...           ...                    ...                    ...  \n",
       "5281        TRAIN               COVID-19                  Virus  \n",
       "5282        TRAIN               COVID-19                  Virus  \n",
       "5283        TRAIN               COVID-19                  Virus  \n",
       "5284        TRAIN               COVID-19                  Virus  \n",
       "5285        TRAIN               COVID-19                  Virus  \n",
       "\n",
       "[5286 rows x 6 columns]"
      ]
     },
     "execution_count": 61,
     "metadata": {},
     "output_type": "execute_result"
    }
   ],
   "source": [
    "dataframe2"
   ]
  },
  {
   "cell_type": "code",
   "execution_count": 110,
   "id": "trained-ratio",
   "metadata": {},
   "outputs": [
    {
     "data": {
      "text/html": [
       "<div>\n",
       "<style scoped>\n",
       "    .dataframe tbody tr th:only-of-type {\n",
       "        vertical-align: middle;\n",
       "    }\n",
       "\n",
       "    .dataframe tbody tr th {\n",
       "        vertical-align: top;\n",
       "    }\n",
       "\n",
       "    .dataframe thead th {\n",
       "        text-align: right;\n",
       "    }\n",
       "</style>\n",
       "<table border=\"1\" class=\"dataframe\">\n",
       "  <thead>\n",
       "    <tr style=\"text-align: right;\">\n",
       "      <th></th>\n",
       "      <th>name</th>\n",
       "      <th>images</th>\n",
       "    </tr>\n",
       "  </thead>\n",
       "  <tbody>\n",
       "    <tr>\n",
       "      <th>0</th>\n",
       "      <td>Normal</td>\n",
       "      <td>[[14306.75, 16104.1875, 16378.875, 16380.125, ...</td>\n",
       "    </tr>\n",
       "    <tr>\n",
       "      <th>1</th>\n",
       "      <td>Pnemonia</td>\n",
       "      <td>[[14596.3125, 16363.5, 16367.25, 16464.6875, 1...</td>\n",
       "    </tr>\n",
       "  </tbody>\n",
       "</table>\n",
       "</div>"
      ],
      "text/plain": [
       "       name                                             images\n",
       "0    Normal  [[14306.75, 16104.1875, 16378.875, 16380.125, ...\n",
       "1  Pnemonia  [[14596.3125, 16363.5, 16367.25, 16464.6875, 1..."
      ]
     },
     "execution_count": 110,
     "metadata": {},
     "output_type": "execute_result"
    }
   ],
   "source": [
    "savg_image_set = avg_image_maker_by_label(dataframe2, 'X_ray_image_name', 'Label', 'D:/my_academia/ncs/Coronahack-Chest-XRay-Dataset/Coronahack-Chest-XRay-Dataset/train/')\n",
    "    \n",
    "savg_image_set"
   ]
  },
  {
   "cell_type": "code",
   "execution_count": 118,
   "id": "choice-crime",
   "metadata": {},
   "outputs": [
    {
     "data": {
      "text/plain": [
       "<matplotlib.image.AxesImage at 0x21b8238dc88>"
      ]
     },
     "execution_count": 118,
     "metadata": {},
     "output_type": "execute_result"
    },
    {
     "data": {
      "image/png": "[encoded data removed]",
      "text/plain": [
       "<Figure size 432x288 with 1 Axes>"
      ]
     },
     "metadata": {
      "needs_background": "light"
     },
     "output_type": "display_data"
    }
   ],
   "source": [
    "one = savg_image_set.images[1]\n",
    "one = cv2.resize(one, (1667, 1381)) \n",
    "plt.imshow(one)"
   ]
  },
  {
   "cell_type": "code",
   "execution_count": 116,
   "id": "temporal-tampa",
   "metadata": {},
   "outputs": [
    {
     "data": {
      "text/plain": [
       "(1381, 1667)"
      ]
     },
     "execution_count": 116,
     "metadata": {},
     "output_type": "execute_result"
    },
    {
     "data": {
      "image/png": "[encoded data removed]",
      "text/plain": [
       "<Figure size 432x288 with 1 Axes>"
      ]
     },
     "metadata": {
      "needs_background": "light"
     },
     "output_type": "display_data"
    }
   ],
   "source": [
    "plt.imshow(savg_image_set.images[0])\n",
    "savg_image_set.images[0].shape"
   ]
  },
  {
   "cell_type": "code",
   "execution_count": 159,
   "id": "related-portugal",
   "metadata": {},
   "outputs": [],
   "source": [
    "#ho= savg_image_set.images[1] -savg_image_set.images[0]\n",
    "nu = one - savg_image_set.images[0]\n",
    "margin1 = nu.min()\n",
    "nu -= margin1\n",
    "nu *= 255/nu.max() "
   ]
  },
  {
   "cell_type": "code",
   "execution_count": 165,
   "id": "incredible-secretariat",
   "metadata": {},
   "outputs": [
    {
     "data": {
      "text/plain": [
       "(array([      6,      22,     128,     609,    2454, 2290176,    7765,\n",
       "            895,      59,      13], dtype=int64),\n",
       " array([  0. ,  25.5,  51. ,  76.5, 102. , 127.5, 153. , 178.5, 204. ,\n",
       "        229.5, 255. ]))"
      ]
     },
     "execution_count": 165,
     "metadata": {},
     "output_type": "execute_result"
    }
   ],
   "source": [
    "np.histogram(nu)"
   ]
  },
  {
   "cell_type": "code",
   "execution_count": 161,
   "id": "conservative-nursery",
   "metadata": {},
   "outputs": [
    {
     "data": {
      "text/plain": [
       "array([[191.60818453,  67.86229353, 142.66324264, ..., 143.94665555,\n",
       "        146.18743034, 145.92323344],\n",
       "       [195.84732946,  70.73030572, 148.81668293, ..., 146.47977336,\n",
       "        145.48716062, 145.51547668],\n",
       "       [194.06000405,  69.43581673, 149.35079315, ..., 146.33358624,\n",
       "        144.53841498, 146.16368182],\n",
       "       ...,\n",
       "       [145.20387157, 147.90247674, 143.22319143, ..., 142.9779218 ,\n",
       "        145.80412094, 144.97343428],\n",
       "       [129.87624815, 136.18864358, 133.26132939, ..., 129.2775862 ,\n",
       "        130.20009495, 129.54475211],\n",
       "       [153.23363117, 159.03614105, 154.68578385, ..., 156.46985887,\n",
       "        153.85122418, 154.673558  ]])"
      ]
     },
     "execution_count": 161,
     "metadata": {},
     "output_type": "execute_result"
    }
   ],
   "source": [
    "nu"
   ]
  },
  {
   "cell_type": "code",
   "execution_count": 21,
   "id": "widespread-nomination",
   "metadata": {},
   "outputs": [],
   "source": [
    "#EDA images\n",
    "# function to make average image\n",
    "\n",
    "def avg_image_maker_by_label(master_df,dataframe_image_column, dataframe_label_column):\n",
    "    \"\"\"\n",
    "    :param master_df: Dataframe with image location and labels  \n",
    "    :type master_df: Dataframe   \n",
    "    :param dataframe_image_column:\n",
    "    :type dataframe_image_column:\n",
    "    :param dataframe_label_column: \n",
    "    :type dataframe_label_column:\n",
    "    \n",
    "    :return: list of titled average images per label\n",
    "    :rtype: list\n",
    "    \"\"\"\n",
    "    set_of_images = []\n",
    "    \n",
    "    list_h = []\n",
    "    list_w = []\n",
    "    \n",
    "    for example in set_of_images:\n",
    "        example = cv2.imread(example, cv2.IMREAD_GRAYSCALE)\n",
    "        ht= example.shape[0]\n",
    "        wt= example.shape[1]\n",
    "        list_h.append(ht)  \n",
    "        list_w.append(wt)\n",
    "        \n",
    "    h = int(sum(list_h)/len(list_h))    \n",
    "    w = int(sum(list_w)/len(list_w))\n",
    "    canvas = np.zeros((h, w))\n",
    "    for example in set_of_images:\n",
    "        example = cv2.imread(example, cv2.IMREAD_GRAYSCALE)    \n",
    "        example_small = cv2.resize(example, (w, h))\n",
    "        canvas += np.array(example_small)\n",
    "    final_avg = canvas / len(set_of_images)    \n",
    "    return final_avg"
   ]
  },
  {
   "cell_type": "code",
   "execution_count": null,
   "id": "whole-strike",
   "metadata": {},
   "outputs": [],
   "source": []
  },
  {
   "cell_type": "code",
   "execution_count": 308,
   "id": "sharp-middle",
   "metadata": {},
   "outputs": [],
   "source": [
    "\n",
    "\n",
    "def avg_image_maker(set_of_images):\n",
    "    \"\"\"\n",
    "    :param set_of_images: A set of images,\n",
    "    can be read in with glob.glob on a folder of jpgs.\n",
    "    :type set_of_images: list\n",
    "\n",
    "    :return: final_avg, an image that is the average image of images in the set\n",
    "    :rtype: nd.array\n",
    "    \"\"\"\n",
    "    list_h = []\n",
    "    list_w = []\n",
    "\n",
    "    for example in set_of_images:\n",
    "        example = cv2.imread(example, cv2.IMREAD_GRAYSCALE)\n",
    "        ht = example.shape[0]\n",
    "        wt = example.shape[1]\n",
    "        list_h.append(ht)\n",
    "        list_w.append(wt)\n",
    "\n",
    "    h = int(sum(list_h)/len(list_h))\n",
    "    w = int(sum(list_w)/len(list_w))\n",
    "    canvas = np.zeros((h, w))\n",
    "    for example in set_of_images:\n",
    "        example = cv2.imread(example, cv2.IMREAD_GRAYSCALE)\n",
    "        example_small = cv2.resize(example, (w, h))\n",
    "        canvas += np.array(example_small)\n",
    "    final_avg = canvas / len(set_of_images)\n",
    "    return final_avg\n"
   ]
  },
  {
   "cell_type": "code",
   "execution_count": 311,
   "id": "empirical-gibraltar",
   "metadata": {},
   "outputs": [],
   "source": [
    "def set_image_variability(set_of_images):\n",
    "    \"\"\"\n",
    "    :param list_of_images: Dataframe with image location and labels  \n",
    "    :type list_of_images: Dataframe   \n",
    "   \n",
    "    \n",
    "    :return: list of titled average images per label\n",
    "    :rtype: list\n",
    "    \"\"\"\n",
    "    final_avg = avg_image_maker(set_of_images)\n",
    "      \n",
    "    h= final_avg.shape[0]\n",
    "    w= final_avg.shape[1]\n",
    "    diff = np.zeros((h, w))\n",
    "    print(\"diff image\", diff.shape)\n",
    "    for example in set_of_images:\n",
    "        example = cv2.imread(example, cv2.IMREAD_GRAYSCALE) \n",
    "        example_small = cv2.resize(example, (w, h))\n",
    "        print(\"example_small image\", example_small.shape)\n",
    "        diff += (example_small - final_avg)**2\n",
    "        \n",
    "    final_diff = diff / len(set_of_images)    \n",
    "    return final_diff\n",
    "        #compare to corresponding pixels in each image"
   ]
  },
  {
   "cell_type": "code",
   "execution_count": null,
   "id": "clean-consumption",
   "metadata": {},
   "outputs": [],
   "source": []
  },
  {
   "cell_type": "code",
   "execution_count": 301,
   "id": "mounted-cocktail",
   "metadata": {},
   "outputs": [
    {
     "name": "stdout",
     "output_type": "stream",
     "text": [
      "<class 'numpy.ndarray'>\n"
     ]
    }
   ],
   "source": [
    "print(type(avg_image))"
   ]
  },
  {
   "cell_type": "code",
   "execution_count": 22,
   "id": "equal-designation",
   "metadata": {},
   "outputs": [
    {
     "ename": "NameError",
     "evalue": "name 'set_image_variability' is not defined",
     "output_type": "error",
     "traceback": [
      "\u001b[1;31m---------------------------------------------------------------------------\u001b[0m",
      "\u001b[1;31mNameError\u001b[0m                                 Traceback (most recent call last)",
      "\u001b[1;32m<ipython-input-22-c6ed83a56ad5>\u001b[0m in \u001b[0;36m<module>\u001b[1;34m\u001b[0m\n\u001b[1;32m----> 1\u001b[1;33m savg_image = set_image_variability(\n\u001b[0m\u001b[0;32m      2\u001b[0m     glob.glob(\n\u001b[0;32m      3\u001b[0m         \u001b[1;34m'D:/my_academia/dataset/augment_to_upside_down/*.jpg'\u001b[0m\u001b[1;33m\u001b[0m\u001b[1;33m\u001b[0m\u001b[0m\n\u001b[0;32m      4\u001b[0m     ))\n\u001b[0;32m      5\u001b[0m \u001b[0mplt\u001b[0m\u001b[1;33m.\u001b[0m\u001b[0mimshow\u001b[0m\u001b[1;33m(\u001b[0m\u001b[0msavg_image\u001b[0m\u001b[1;33m,\u001b[0m \u001b[0mcmap\u001b[0m \u001b[1;33m=\u001b[0m \u001b[1;34m'gray'\u001b[0m\u001b[1;33m)\u001b[0m\u001b[1;33m\u001b[0m\u001b[1;33m\u001b[0m\u001b[0m\n",
      "\u001b[1;31mNameError\u001b[0m: name 'set_image_variability' is not defined"
     ]
    }
   ],
   "source": [
    "savg_image = set_image_variability(\n",
    "    glob.glob(\n",
    "        'D:/my_academia/dataset/augment_to_upside_down/*.jpg'\n",
    "    ))\n",
    "plt.imshow(savg_image, cmap = 'gray')\n"
   ]
  },
  {
   "cell_type": "code",
   "execution_count": 310,
   "id": "civic-firewall",
   "metadata": {},
   "outputs": [
    {
     "data": {
      "text/plain": [
       "(2269, 2638)"
      ]
     },
     "execution_count": 310,
     "metadata": {},
     "output_type": "execute_result"
    }
   ],
   "source": [
    "avg_image.shape"
   ]
  },
  {
   "cell_type": "code",
   "execution_count": null,
   "id": "engaged-kingdom",
   "metadata": {},
   "outputs": [],
   "source": [
    "max_slider = 6\n",
    "# Find the edges in the image using canny detector\n",
    "edges = cv2.Canny(img,3,300)#, L2gradient = True)\n",
    "# Detect points that form a line\n",
    "lines = cv2.HoughLinesP(edges, 1, np.pi/180, max_slider, minLineLength=100, maxLineGap=2)"
   ]
  },
  {
   "cell_type": "code",
   "execution_count": null,
   "id": "confirmed-blind",
   "metadata": {},
   "outputs": [],
   "source": [
    "edges = cv2.Canny(img,3,30)#,apertureSize = 3)\n",
    "minLineLength = 1\n",
    "maxLineGap = 25\n",
    "lines = cv2.HoughLinesP(edges, 1, np.pi/180, max_slider, minLineLength=1, maxLineGap=25)\n",
    "# Draw lines on the image\n",
    "for line in lines:\n",
    "    x1, y1, x2, y2 = line[0]\n",
    "    cv2.line(img, (x1, y1), (x2, y2), (255, 0, 0), 3)\n",
    "# Show result\n",
    "\n",
    "cv2.imwrite('houghlines6.jpg',img)\n",
    "image_made =cv2.imread('houghlines6.jpg')\n",
    "plt.imshow( image_made)"
   ]
  },
  {
   "cell_type": "code",
   "execution_count": null,
   "id": "normal-testimony",
   "metadata": {},
   "outputs": [],
   "source": [
    "def find_big_lines(directory, line_length):\n",
    "    \"\"\"\n",
    "    Finds number of lines in images at or over the length of 'line_legnth',\n",
    "    gives back a dataframe with this information\n",
    "    \n",
    "    \n",
    "    \"\"\"\n",
    "    suspects = glob.glob(os.path.join(directory, '*.jpg'))\n",
    "    pic_to_nlines = {}\n",
    "    for pic in suspects:\n",
    "        img = cv2.imread(pic, cv2.IMREAD_GRAYSCALE)\n",
    "        edges = cv2.Canny(img,3,100)#,apertureSize = 3)\n",
    "        minLineLength = 50\n",
    "        maxLineGap = 2\n",
    "        max_slider = 6\n",
    "        lines = cv2.HoughLinesP(\n",
    "            edges, 1, np.pi/180, \n",
    "            max_slider, \n",
    "            minLineLength=1, \n",
    "            maxLineGap=25\n",
    "        )\n",
    "        nlines = 0\n",
    "        for line in lines:\n",
    "            # why line[0]- want tocheck all lines in a picture\n",
    "            if np.linalg.norm(line[0][:2] - line[0][2:]) > line_length:\n",
    "                nlines += 1\n",
    "        pic_to_nlines[pic] = nlines\n",
    "\n",
    "    return pd.DataFrame.from_dict(pic_to_nlines, columns=['nlines'], orient='index')"
   ]
  },
  {
   "cell_type": "code",
   "execution_count": null,
   "id": "trying-tennis",
   "metadata": {},
   "outputs": [],
   "source": [
    "liney100 = find_big_lines('D:/my_academia/dataset/augment_to_upside_down', 1000)"
   ]
  },
  {
   "cell_type": "code",
   "execution_count": null,
   "id": "appreciated-small",
   "metadata": {},
   "outputs": [],
   "source": [
    "liney100"
   ]
  },
  {
   "cell_type": "code",
   "execution_count": null,
   "id": "revised-cricket",
   "metadata": {},
   "outputs": [],
   "source": [
    "liney = find_big_lines('D:/my_academia/dataset/augment_to_upside_down',100)\n",
    "print(type(liney))"
   ]
  },
  {
   "cell_type": "code",
   "execution_count": null,
   "id": "mighty-judgment",
   "metadata": {},
   "outputs": [],
   "source": [
    "def show_major_lines_on_image(image): \n",
    "    img = cv2.imread(pic, cv2.IMREAD_GRAYSCALE)\n",
    "    max_slider = 6\n",
    "# Find the edges in the image using canny detector\n",
    "    edges = cv2.Canny(img,3,100)#, L2gradient = True)\n",
    "# Detect points that form a line\n",
    "    lines = cv2.HoughLinesP(edges, 1, np.pi/180, max_slider, minLineLength=30, maxLineGap=20)\n",
    "# Draw lines on the image\n",
    "    for line in lines:\n",
    "        x1, y1, x2, y2 = line[0]\n",
    "    #if abs(math.sqrt((x2 - x1)**2 + (y2 - y1)**2)) > 0:\n",
    "        imag_lined = cv2.line(img, (x1, y1), (x2, y2), (255, 0, 0), 3)\n",
    "    return plt.imshow(imag_lined, cmap = 'gray')# Show result"
   ]
  },
  {
   "cell_type": "code",
   "execution_count": 7,
   "id": "applicable-authentication",
   "metadata": {},
   "outputs": [
    {
     "data": {
      "text/plain": [
       "<matplotlib.image.AxesImage at 0x2199b703c88>"
      ]
     },
     "execution_count": 7,
     "metadata": {},
     "output_type": "execute_result"
    },
    {
     "data": {
      "image/png": "[encoded data removed]",
      "text/plain": [
       "<Figure size 432x288 with 1 Axes>"
      ]
     },
     "metadata": {
      "needs_background": "light"
     },
     "output_type": "display_data"
    }
   ],
   "source": [
    "pic = \"D:/my_academia/dataset/augment_to_upside_down/1.2.826.0.1.3680043.8.498.99564257536158506118998101216918000997.jpg.jpg\"\n",
    "img = cv2.imread(pic, cv2.IMREAD_GRAYSCALE)\n",
    "plt.imshow(img)"
   ]
  },
  {
   "cell_type": "code",
   "execution_count": 8,
   "id": "balanced-petroleum",
   "metadata": {},
   "outputs": [],
   "source": [
    "#print(type(lo))"
   ]
  },
  {
   "cell_type": "code",
   "execution_count": 9,
   "id": "distant-trading",
   "metadata": {},
   "outputs": [],
   "source": [
    "pic = \"D:/my_academia/dataset/augment_to_upside_down/1.2.826.0.1.3680043.8.498.99236713642388770230076987284006757631.jpg.jpg\"\n",
    "#img = cv2.imread(pic, cv2.IMREAD_GRAYSCALE)\n",
    "#plt.imshow(img)\n",
    "#lo = show_major_lines_on_image(pic)\n",
    "#print(type(lo))"
   ]
  },
  {
   "cell_type": "code",
   "execution_count": 109,
   "id": "given-mechanics",
   "metadata": {},
   "outputs": [
    {
     "data": {
      "text/plain": [
       "array([[142, 142, 144, ..., 114, 114, 115],\n",
       "       [142, 142, 144, ..., 113, 115, 116],\n",
       "       [142, 142, 144, ..., 113, 115, 116],\n",
       "       ...,\n",
       "       [139, 139, 139, ..., 138, 137, 135],\n",
       "       [139, 139, 139, ..., 136, 136, 135],\n",
       "       [138, 138, 138, ..., 134, 135, 135]], dtype=uint8)"
      ]
     },
     "execution_count": 109,
     "metadata": {},
     "output_type": "execute_result"
    }
   ],
   "source": [
    "love = img[900:1100, 200:350]\n",
    "love"
   ]
  },
  {
   "cell_type": "code",
   "execution_count": 20,
   "id": "sorted-waters",
   "metadata": {},
   "outputs": [],
   "source": [
    "images_list = reasonable_rotation_augmentation(0, 360, 100, pic)"
   ]
  },
  {
   "cell_type": "code",
   "execution_count": 45,
   "id": "reasonable-palestine",
   "metadata": {},
   "outputs": [
    {
     "data": {
      "image/png": "[encoded data removed]",
      "text/plain": [
       "<Figure size 432x288 with 1 Axes>"
      ]
     },
     "metadata": {
      "needs_background": "light"
     },
     "output_type": "display_data"
    }
   ],
   "source": [
    "\n"
   ]
  },
  {
   "cell_type": "code",
   "execution_count": 46,
   "id": "applied-hampshire",
   "metadata": {},
   "outputs": [
    {
     "name": "stdout",
     "output_type": "stream",
     "text": [
      "360\n"
     ]
    }
   ],
   "source": [
    "print(len(num_list))"
   ]
  },
  {
   "cell_type": "code",
   "execution_count": 65,
   "id": "combined-brooklyn",
   "metadata": {},
   "outputs": [],
   "source": [
    "def rotate_in_cv2(image, angle, center = None, scale = 1.0):\n",
    "    (h, w) = image.shape[:2]\n",
    "\n",
    "    if center is None:\n",
    "        center = (w / 2, h / 2)\n",
    "\n",
    "    \n",
    "    M = cv2.getRotationMatrix2D(center, angle, scale)\n",
    "    rotated = cv2.warpAffine(image, M, (w, h))\n",
    "\n",
    "    return rotated"
   ]
  },
  {
   "cell_type": "code",
   "execution_count": 124,
   "id": "raised-female",
   "metadata": {},
   "outputs": [
    {
     "name": "stdout",
     "output_type": "stream",
     "text": [
      "<class 'numpy.ndarray'>\n"
     ]
    }
   ],
   "source": [
    "list_of_rotation_angles = range(0,360,10)#plt.imshow(love)\n",
    "\n",
    "#love2 = cv2.imread(love, cv2.\n",
    "love2 = rotate_in_cv2(love, 2)\n",
    "#love3 = cv2.rotate(love,cv2.)\n",
    "#love4 = cv2.rotate(love,cv2.)\n",
    "love5 = rotate_in_cv2(love,5)\n",
    "print(type(love5))"
   ]
  },
  {
   "cell_type": "code",
   "execution_count": null,
   "id": "attached-immigration",
   "metadata": {},
   "outputs": [],
   "source": [
    "plt.imshow(love2)"
   ]
  },
  {
   "cell_type": "code",
   "execution_count": 67,
   "id": "banner-province",
   "metadata": {},
   "outputs": [
    {
     "data": {
      "text/plain": [
       "True"
      ]
     },
     "execution_count": 67,
     "metadata": {},
     "output_type": "execute_result"
    }
   ],
   "source": [
    "template2 = cv2.imwrite('template.jpg', love)\n",
    "cv2.imwrite('template2.jpg', love2)"
   ]
  },
  {
   "cell_type": "code",
   "execution_count": null,
   "id": "fleet-oxford",
   "metadata": {},
   "outputs": [],
   "source": [
    "# img = cv2.imread(pic,0)\n",
    "# cv2.imshow(\"main\",img)\n",
    "# cv2.waitKey(0)\n",
    "# template = cv2.imread(r'template1.png',0)\n",
    "# cv2.imshow(\"Template\",template)\n",
    "# cv2.waitKey(0)\n",
    "# w, h = template.shape[::-1]\n",
    "# methods = [ 'cv2.TM_CCOEFF_NORMED']\n",
    "# for meth in methods:\n",
    "    \n",
    "#     method = eval(meth)# Apply template Matching\n",
    "#     res = cv2.matchTemplate(img,template,method)\n",
    "#     min_val, max_val, min_loc, max_loc = cv2.minMaxLoc(res)\n",
    "#     threshold=0.95\n",
    "#     loc=np.where(res>threshold)\n",
    "#     if len(loc[0])>0:# If the method is TM_SQDIFF or TM_SQDIFF_NORMED, take minimum\n",
    "#         if method in [ cv2.TM_SQDIFF_NORMED]:\n",
    "#             top_left = min_loc\n",
    "#         bottom_right = (top_left[0] + w, top_left[1] + h)\n",
    "#         cv2.rectangle(img,top_left, bottom_right,100,20)\n",
    "#         plt.subplot(121),\n",
    "#         plt.imshow(res,cmap = 'gray')\n",
    "#         plt.title('Matching Result'), plt.xticks([]), plt.yticks([])\n",
    "#         plt.subplot(122),\n",
    "#         plt.imshow(img,cmap = 'gray')\n",
    "#         plt.title('Detected Point'), plt.xticks([]), plt.yticks([])\n",
    "#         plt.suptitle(meth)\n",
    "#         plt.show()\n",
    "#     else:\n",
    "#         print(\"Template not matched\")"
   ]
  },
  {
   "cell_type": "code",
   "execution_count": null,
   "id": "happy-milwaukee",
   "metadata": {},
   "outputs": [],
   "source": [
    "#import cv2 as cv\n",
    "#import numpy as np\n",
    "#from matplotlib import pyplot as plt\n",
    "# pic = \"D:/my_academia/dataset/augment_to_upside_down/1.2.826.0.1.3680043.8.498.99564257536158506118998101216918000997.jpg.jpg\"\n",
    "# #img = cv2.imread(pic, cv2.IMREAD_GRAYSCALE)\n",
    "# img_rgb = cv2.imread(pic)\n",
    "# img_gray = cv2.cvtColor(img_rgb, cv2.COLOR_BGR2GRAY)\n",
    "# #img_gray = cv2.imread(pic, cv2.IMREAD_GRAYSCALE)\n",
    "# template_name = 'template.jpg'\n",
    "# template = cv2.imread(template_name,0)\n",
    "# w, h = template.shape[::-1]\n",
    "# res = cv2.matchTemplate(img_gray,template,cv2.TM_SQDIFF)\n",
    "# threshold = 0.58\n",
    "# loc = np.where( res >= threshold)\n",
    "# for pt in zip(*loc[::-1]):\n",
    "#     cv2.rectangle(img_gray, pt, (pt[0] + w, pt[1] + h), (0,0,255), 2)\n",
    "# cv2.imwrite('result.jpg',img_rgb)\n",
    "# result = cv2.imread('result.jpg')"
   ]
  },
  {
   "cell_type": "code",
   "execution_count": null,
   "id": "reported-branch",
   "metadata": {},
   "outputs": [],
   "source": [
    "img_rgb = cv2.imread(pic)\n",
    "plt.imshow(img_rgb)\n",
    "# img_gray = cv2.cvtColor(img_rgb, cv2.COLOR_BGR2GRAY)\n",
    "# template = cv2.imread('mario_coin.png',0)\n",
    "# w, h = template.shape[::-1]\n",
    "\n",
    "# res = cv2.matchTemplate(img_gray,template,cv2.TM_CCOEFF_NORMED)\n",
    "# threshold = 0.8\n",
    "# loc = np.where( res >= threshold)\n",
    "# for pt in zip(*loc[::-1]):\n",
    "#     cv2.rectangle(img_rgb, pt, (pt[0] + w, pt[1] + h), (0,0,255), 2)\n",
    "\n",
    "# cv2.imwrite('res.png',img_rgb)"
   ]
  },
  {
   "cell_type": "code",
   "execution_count": 57,
   "id": "graphic-hacker",
   "metadata": {},
   "outputs": [
    {
     "name": "stdout",
     "output_type": "stream",
     "text": [
      "<class 'numpy.ndarray'>\n"
     ]
    }
   ],
   "source": [
    "#plt.imshow(result)\n",
    "# list_of_filenames = ['template.jpg','template2.jpg']\n",
    "# for element in list_of_filenames:\n",
    "#     template = cv2.imread(element,0)\n",
    "#whatis = cv2.imread(element,0)\n",
    "print(type(template))\n",
    "template.shape"
   ]
  },
  {
   "cell_type": "code",
   "execution_count": null,
   "id": "injured-crash",
   "metadata": {},
   "outputs": [],
   "source": [
    "class SimpleClass:\n",
    "    \"\"\"Class docstrings go here.\"\"\"\n",
    "\n",
    "    def say_hello(self, name: str):\n",
    "        \"\"\"Class method docstrings go here.\"\"\""
   ]
  },
  {
   "cell_type": "code",
   "execution_count": 70,
   "id": "champion-moisture",
   "metadata": {},
   "outputs": [],
   "source": [
    "\n",
    "class Rotator:\n",
    "     \"\"\"Class Rotator contains the class RotationIterator. \"\"\"\n",
    "\n",
    "    class RotationIterator:\n",
    "         \"\"\"Class RotationIterator is to build a generator for rotated images\"\"\"\n",
    "\n",
    "        def __init__(self, rotator, start, end, step):\n",
    "             \"\"\"Class method docstrings go here.\"\"\"\n",
    "            self.rotator = rotator\n",
    "            self.seq = np.arange(start, end, step)\n",
    "            self.pos = 0\n",
    "\n",
    "        def __next__(self):\n",
    "             \"\"\"Class method docstrings go here.\"\"\"\n",
    "            if self.pos >= len(self.seq):\n",
    "                raise StopIteration()\n",
    "            result = self.rotator[self.seq[self.pos]]\n",
    "            self.pos += 1\n",
    "            return result\n",
    "\n",
    "        def __iter__(self):\n",
    "             \"\"\"Class method __iter__ returns self\"\"\"\n",
    "            return self\n",
    "\n",
    "    def __init__(self, image, center=None, scale=1.0):\n",
    "        \"\"\"Class method docstrings go here.\"\"\"\n",
    "        self.image = image\n",
    "        self.center = center\n",
    "        self.scale = scale\n",
    "        self.h, self.w = self.image.shape[:2]\n",
    "        if self.center is None:\n",
    "            self.center = (self.w / 2, self.h / 2)\n",
    "\n",
    "    def __getitem__(self, angle):\n",
    "        \"\"\"credits to: https://stackoverflow.com/a/32929315/5691066\n",
    "        for this approach to cv2 rotation\"\"\"\n",
    "        # credits to: https://stackoverflow.com/a/32929315/5691066\n",
    "        matrix = cv2.getRotationMatrix2D(self.center, angle, self.scale)\n",
    "        rotated = cv2.warpAffine(self.image, matrix, (self.w, self.h))\n",
    "        return rotated\n",
    "\n",
    "    def iter(self, start=0, end=360, step=1):\n",
    "         \"\"\"Class method iter returns a generator group of images that are on angles from start\n",
    "         to stop with steps of step.\n",
    "          Usage example:\n",
    "         image = cv2.imread('normal-frontal-chest-x-ray.jpg')\n",
    "         rotator = Rotator(image)\n",
    "         for rotated in rotator.iter(0, 360, 10):\n",
    "             print(rotated) # shows the np arrays for all 36 (step of 10) images\"\"\"\n",
    "        return self.RotationIterator(self, start, end, step)\n",
    "\n",
    "# Usage example:\n",
    "# image = cv2.imread('normal-frontal-chest-x-ray.jpg')\n",
    "# rotator = Rotator(image)\n",
    "# for rotated in rotator.iter(0, 360, 10):\n",
    "#     print(rotated)\n"
   ]
  },
  {
   "cell_type": "code",
   "execution_count": 75,
   "id": "about-irish",
   "metadata": {},
   "outputs": [
    {
     "name": "stdout",
     "output_type": "stream",
     "text": [
      "<class 'numpy.ndarray'>\n",
      "<class 'numpy.ndarray'>\n",
      "<class 'numpy.ndarray'>\n",
      "<class 'numpy.ndarray'>\n",
      "<class 'numpy.ndarray'>\n",
      "<class 'numpy.ndarray'>\n",
      "<class 'numpy.ndarray'>\n",
      "<class 'numpy.ndarray'>\n",
      "<class 'numpy.ndarray'>\n",
      "<class 'numpy.ndarray'>\n",
      "<class 'numpy.ndarray'>\n",
      "<class 'numpy.ndarray'>\n",
      "<class 'numpy.ndarray'>\n",
      "<class 'numpy.ndarray'>\n",
      "<class 'numpy.ndarray'>\n",
      "<class 'numpy.ndarray'>\n",
      "<class 'numpy.ndarray'>\n",
      "<class 'numpy.ndarray'>\n",
      "<class 'numpy.ndarray'>\n",
      "<class 'numpy.ndarray'>\n",
      "<class 'numpy.ndarray'>\n",
      "<class 'numpy.ndarray'>\n",
      "<class 'numpy.ndarray'>\n",
      "<class 'numpy.ndarray'>\n",
      "<class 'numpy.ndarray'>\n",
      "<class 'numpy.ndarray'>\n",
      "<class 'numpy.ndarray'>\n",
      "<class 'numpy.ndarray'>\n",
      "<class 'numpy.ndarray'>\n",
      "<class 'numpy.ndarray'>\n",
      "<class 'numpy.ndarray'>\n",
      "<class 'numpy.ndarray'>\n",
      "<class 'numpy.ndarray'>\n",
      "<class 'numpy.ndarray'>\n",
      "<class 'numpy.ndarray'>\n",
      "<class 'numpy.ndarray'>\n"
     ]
    }
   ],
   "source": [
    "#image = cv2.imread()\n",
    "rotator = Rotator(love)\n",
    "generator = rotator.iter(0, 360, 10)\n",
    "for rotated in generator:\n",
    "    print(type(rotated))"
   ]
  },
  {
   "cell_type": "code",
   "execution_count": 61,
   "id": "enclosed-enforcement",
   "metadata": {},
   "outputs": [
    {
     "data": {
      "text/plain": [
       "<matplotlib.image.AxesImage at 0x2199def2048>"
      ]
     },
     "execution_count": 61,
     "metadata": {},
     "output_type": "execute_result"
    },
    {
     "data": {
      "image/png": "[encoded data removed]",
      "text/plain": [
       "<Figure size 432x288 with 1 Axes>"
      ]
     },
     "metadata": {
      "needs_background": "light"
     },
     "output_type": "display_data"
    }
   ],
   "source": [
    "\n",
    "num_list = np.arange(0, 360, 1)\n",
    "image4R = Image.open(pic)\n",
    "augmentos = []\n",
    "for i in num_list: \n",
    "    augmentos.append(image4R.rotate(i))\n",
    "        \n",
    "# for ij in augmentos:\n",
    "#     plt.imshow(ij)\n",
    "    \n",
    "\n",
    "pic = \"D:/my_academia/dataset/augment_to_upside_down/1.2.826.0.1.3680043.8.498.99564257536158506118998101216918000997.jpg.jpg\" \n",
    "img_rgb = cv2.imread(pic)\n",
    "copy_image = cv2.imread(pic)\n",
    "img_gray = cv2.cvtColor(img_rgb, cv2.COLOR_BGR2GRAY)\n",
    "#list_of_filenames = ['template.jpg','template2.jpg']\n",
    "for element in augmentos:\n",
    "    #open_cv_image = np.array(element) \n",
    "# Convert RGB to BGR \n",
    "    #open_cv_image = open_cv_image[:, :, :-1].copy() \n",
    "    template_start = np.array(element) \n",
    "    #template = cv2.imread(template_start,0)\n",
    "    w, h = template.shape[::-1]\n",
    "    res = cv2.matchTemplate(img_gray,template,cv2.TM_CCOEFF_NORMED)\n",
    "    threshold = .1\n",
    "    loc = np.where( res >= threshold)\n",
    "    for pt in zip(*loc[::-1]):\n",
    "        cv2.rectangle(copy_image, pt, (pt[0] + w, pt[1] + h), (0,0,255), 2)\n",
    "\n",
    "result = cv2.imwrite('res7.jpg',copy_image)\n",
    "#result_forshow = cv2.imread('res7.jpg')\n",
    "plt.imshow(copy_image)    "
   ]
  },
  {
   "cell_type": "code",
   "execution_count": 127,
   "id": "covered-joshua",
   "metadata": {},
   "outputs": [
    {
     "data": {
      "text/plain": [
       "<matplotlib.image.AxesImage at 0x21985a91088>"
      ]
     },
     "execution_count": 127,
     "metadata": {},
     "output_type": "execute_result"
    },
    {
     "data": {
      "image/png": "[encoded data removed]",
      "text/plain": [
       "<Figure size 432x288 with 1 Axes>"
      ]
     },
     "metadata": {
      "needs_background": "light"
     },
     "output_type": "display_data"
    }
   ],
   "source": [
    "hello = \"D:/my_academia/dataset/augment_to_upside_down/1.2.826.0.1.3680043.8.498.99564257536158506118998101216918000997.jpg.jpg\" \n",
    "pic = \"D:/my_academia/dataset/augment_to_upside_down/1.2.826.0.1.3680043.8.498.99564257536158506118998101216918000997.jpg.jpg\" \n",
    "img_rgb = cv2.imread(pic)\n",
    "copy_image = cv2.imread(pic)\n",
    "img_gray = cv2.cvtColor(img_rgb, cv2.COLOR_BGR2GRAY)\n",
    "list_of_filenames = ['template.jpg','template2.jpg']\n",
    "rotator_generator = generator\n",
    "for element in Rotator(love).iter(0, 36.7, 10.7):\n",
    "#     template = cv2.imread(element,0)\n",
    "    template = element\n",
    "    w, h = template.shape[::-1]\n",
    "    res = cv2.matchTemplate(img_gray,template,cv2.TM_CCOEFF_NORMED)\n",
    "    threshold = .7\n",
    "    loc = np.where( res >= threshold)\n",
    "    for pt in zip(*loc[::-1]):\n",
    "        cv2.rectangle(copy_image, pt, (pt[0] + w, pt[1] + h), (0,0,255), 2)\n",
    "\n",
    "result = cv2.imwrite('res7.jpg',copy_image)\n",
    "#result_forshow = cv2.imread('res7.jpg')\n",
    "plt.imshow(copy_image)"
   ]
  },
  {
   "cell_type": "code",
   "execution_count": 160,
   "id": "religious-michigan",
   "metadata": {},
   "outputs": [],
   "source": [
    "def simple_spinning_template(picy, greys_template, angle_start, angle_stop, slices, threshold4 = .7):\n",
    "    \"\"\"\n",
    "    :param picy: String for image name of base image\n",
    "    :type picy: string\n",
    "    :param greys_template: The image array of the template, \n",
    "    :type greys_template: numpy.ndarray\n",
    "    :param angle_start: angle to spin template to, \n",
    "        it would normally start at zero if picking up exact template itself is desired\n",
    "    :type angle_start: float\n",
    "    :param angle_stop: last angle to spin template to,\n",
    "    :type angle_stop: float\n",
    "    :param slices: number of different templates to make between angles\n",
    "    :type slices: float\n",
    "    :param threshold4: A number between zero and one which sets the precision of matching. \n",
    "        NB: .999 is stringent, .1 will pick up to much \n",
    "    :type threshold4: float    \n",
    "    \n",
    "    :return: copy_image, a copy of base image with the template areas caught\n",
    "        outlined in blue rectangeles\n",
    "    :rtype: nd.array\n",
    "    \"\"\"\n",
    "    \n",
    "    pic = picy\n",
    "    img_rgb = cv2.imread(pic)\n",
    "    copy_image = cv2.imread(pic)\n",
    "    img_gray = cv2.cvtColor(img_rgb, cv2.COLOR_BGR2GRAY)\n",
    "#list_of_filenames = ['template.jpg','template2.jpg']\n",
    "    #generator = rotator.iter(0, 360, 10)\n",
    "    #rotator_generator = generator\n",
    "    for element in Rotator(greys_template).iter(angle_start, angle_stop, slices):\n",
    "#     template = cv2.imread(element,0)\n",
    "        template = element\n",
    "        w, h = template.shape[::-1]\n",
    "        res = cv2.matchTemplate(img_gray,template,cv2.TM_CCOEFF_NORMED)\n",
    "        threshold = threshold4\n",
    "        loc = np.where( res >= threshold)\n",
    "        for pt in zip(*loc[::-1]):\n",
    "            cv2.rectangle(copy_image, pt, (pt[0] + w, pt[1] + h), (0,0,255), 2)\n",
    "    return copy_image\n"
   ]
  },
  {
   "cell_type": "code",
   "execution_count": 254,
   "id": "animated-election",
   "metadata": {},
   "outputs": [],
   "source": [
    "def contour_spinning_template(picy, Igreys_template, angle_start, angle_stop, slices, threshold4 = .7):\n",
    "    \"\"\"\n",
    "    :param picy: String for image name of base image\n",
    "    :type picy: string\n",
    "    :param Igreys_template: The image array of the template, \n",
    "    :type Igreys_template: string\n",
    "    :param angle_start: angle to spin template to, \n",
    "        it would normally start at zero if picking up exact template itself is desired\n",
    "    :type angle_start: float\n",
    "    :param angle_stop: last angle to spin template to,\n",
    "    :type angle_stop: float\n",
    "    :param slices: number of different templates to make between angles\n",
    "    :type slices: float\n",
    "    :param threshold4: A number between zero and one which sets the precision of matching. \n",
    "        NB: .999 is stringent, .1 will pick up to much \n",
    "    :type threshold4: float    \n",
    "    \n",
    "    :return: copy_image, a copy of base image with the template areas caught\n",
    "        outlined in blue rectangeles\n",
    "    :rtype: nd.array\n",
    "    \"\"\"\n",
    "    \n",
    "    pic = picy\n",
    "    img_rgb = cv2.imread(pic)\n",
    "    copy_image = make_contour_image(pic)\n",
    "    img_gray = cv2.cvtColor(img_rgb, cv2.COLOR_BGR2GRAY)\n",
    "    new_greys_template = make_contour_image(Igreys_template)\n",
    "    for element in Rotator(new_greys_template).iter(angle_start, angle_stop, slices):\n",
    "        template = element\n",
    "        w, h = template.shape[::-1]\n",
    "        res = cv2.matchTemplate(img_gray,template,cv2.TM_CCOEFF_NORMED)\n",
    "        threshold = threshold4\n",
    "        loc = np.where( res >= threshold)\n",
    "        for pt in zip(*loc[::-1]):\n",
    "            cv2.rectangle(copy_image, pt, (pt[0] + w, pt[1] + h), (0,0,255), 2)\n",
    "    return copy_image\n"
   ]
  },
  {
   "cell_type": "code",
   "execution_count": 256,
   "id": "induced-paradise",
   "metadata": {},
   "outputs": [
    {
     "ename": "ValueError",
     "evalue": "too many values to unpack (expected 2)",
     "output_type": "error",
     "traceback": [
      "\u001b[1;31m---------------------------------------------------------------------------\u001b[0m",
      "\u001b[1;31mValueError\u001b[0m                                Traceback (most recent call last)",
      "\u001b[1;32m<ipython-input-256-d035acf76d96>\u001b[0m in \u001b[0;36m<module>\u001b[1;34m\u001b[0m\n\u001b[0;32m      1\u001b[0m \u001b[1;31m#import cleanX\u001b[0m\u001b[1;33m\u001b[0m\u001b[1;33m\u001b[0m\u001b[1;33m\u001b[0m\u001b[0m\n\u001b[0;32m      2\u001b[0m \u001b[0mtemplate2\u001b[0m \u001b[1;33m=\u001b[0m \u001b[0mcv2\u001b[0m\u001b[1;33m.\u001b[0m\u001b[0mimwrite\u001b[0m\u001b[1;33m(\u001b[0m\u001b[1;34m'template.jpg'\u001b[0m\u001b[1;33m,\u001b[0m \u001b[0mlove\u001b[0m\u001b[1;33m)\u001b[0m\u001b[1;33m\u001b[0m\u001b[1;33m\u001b[0m\u001b[0m\n\u001b[1;32m----> 3\u001b[1;33m \u001b[0mcontour_spinning_template\u001b[0m\u001b[1;33m(\u001b[0m\u001b[0mpic\u001b[0m\u001b[1;33m,\u001b[0m \u001b[1;34m'template.jpg'\u001b[0m\u001b[1;33m,\u001b[0m \u001b[1;36m0\u001b[0m\u001b[1;33m,\u001b[0m \u001b[1;36m180\u001b[0m\u001b[1;33m,\u001b[0m \u001b[1;36m7\u001b[0m\u001b[1;33m)\u001b[0m\u001b[1;33m\u001b[0m\u001b[1;33m\u001b[0m\u001b[0m\n\u001b[0m\u001b[0;32m      4\u001b[0m \u001b[1;33m\u001b[0m\u001b[0m\n",
      "\u001b[1;32m<ipython-input-254-9370c09da3ce>\u001b[0m in \u001b[0;36mcontour_spinning_template\u001b[1;34m(picy, Igreys_template, angle_start, angle_stop, slices, threshold4)\u001b[0m\n\u001b[0;32m     33\u001b[0m \u001b[1;31m#     template = cv2.imread(element,0)\u001b[0m\u001b[1;33m\u001b[0m\u001b[1;33m\u001b[0m\u001b[1;33m\u001b[0m\u001b[0m\n\u001b[0;32m     34\u001b[0m         \u001b[0mtemplate\u001b[0m \u001b[1;33m=\u001b[0m \u001b[0melement\u001b[0m\u001b[1;33m\u001b[0m\u001b[1;33m\u001b[0m\u001b[0m\n\u001b[1;32m---> 35\u001b[1;33m         \u001b[0mw\u001b[0m\u001b[1;33m,\u001b[0m \u001b[0mh\u001b[0m \u001b[1;33m=\u001b[0m \u001b[0mtemplate\u001b[0m\u001b[1;33m.\u001b[0m\u001b[0mshape\u001b[0m\u001b[1;33m[\u001b[0m\u001b[1;33m:\u001b[0m\u001b[1;33m:\u001b[0m\u001b[1;33m-\u001b[0m\u001b[1;36m1\u001b[0m\u001b[1;33m]\u001b[0m\u001b[1;33m\u001b[0m\u001b[1;33m\u001b[0m\u001b[0m\n\u001b[0m\u001b[0;32m     36\u001b[0m         \u001b[0mres\u001b[0m \u001b[1;33m=\u001b[0m \u001b[0mcv2\u001b[0m\u001b[1;33m.\u001b[0m\u001b[0mmatchTemplate\u001b[0m\u001b[1;33m(\u001b[0m\u001b[0mimg_gray\u001b[0m\u001b[1;33m,\u001b[0m\u001b[0mtemplate\u001b[0m\u001b[1;33m,\u001b[0m\u001b[0mcv2\u001b[0m\u001b[1;33m.\u001b[0m\u001b[0mTM_CCOEFF_NORMED\u001b[0m\u001b[1;33m)\u001b[0m\u001b[1;33m\u001b[0m\u001b[1;33m\u001b[0m\u001b[0m\n\u001b[0;32m     37\u001b[0m         \u001b[0mthreshold\u001b[0m \u001b[1;33m=\u001b[0m \u001b[0mthreshold4\u001b[0m\u001b[1;33m\u001b[0m\u001b[1;33m\u001b[0m\u001b[0m\n",
      "\u001b[1;31mValueError\u001b[0m: too many values to unpack (expected 2)"
     ]
    }
   ],
   "source": [
    "#import cleanX\n",
    "template2 = cv2.imwrite('template.jpg', love)\n",
    "contour_spinning_template(pic, 'template.jpg', 0, 180, 7)\n",
    "    \n"
   ]
  },
  {
   "cell_type": "code",
   "execution_count": 231,
   "id": "southern-weight",
   "metadata": {},
   "outputs": [
    {
     "data": {
      "text/plain": [
       "True"
      ]
     },
     "execution_count": 231,
     "metadata": {},
     "output_type": "execute_result"
    }
   ],
   "source": [
    "imgL = cv2.imread(pic)\n",
    "cv2_vers = cv2.__version__\n",
    "major_cv2 = int(cv2.__version__.split('.')[0])\n",
    "middle_cv2 = int(cv2.__version__.split('.')[1])\n",
    "#imgray = cv2.cvtColor(im, cv2.COLOR_BGR2GRAY)\n",
    "edges = cv2.Canny(imgL,0,12)\n",
    "thresh = 128\n",
    "#get threshold image\n",
    "ret,thresh_img = cv2.threshold(edges, thresh, 255, cv2.THRESH_BINARY)\n",
    "#find contours\n",
    "#contours, hierarchy = cv2.findContours(thresh_img, cv2.RETR_TREE, cv2.CHAIN_APPROX_SIMPLE)\n",
    "\n",
    "if major_cv2 > 3:\n",
    "    contours, hierarchy = cv2.findContours(edges, cv2.RETR_EXTERNAL, cv2.CHAIN_APPROX_SIMPLE)\n",
    "    #ret = imgray.copy \n",
    "else:\n",
    "     ret2, contours, hierarchy = cv2.findContours(edges, cv2.RETR_EXTERNAL, cv2.CHAIN_APPROX_SIMPLE)\n",
    "\n",
    "#create an empty image for contours\n",
    "img_contours = np.zeros(im.shape)\n",
    "# draw the contours on the empty image\n",
    "cv2.drawContours(img_contours, contours, -1, (0,255,0), 3)\n",
    "#save image   \n",
    "cv2.imwrite('D:/contours.png',img_contours) "
   ]
  },
  {
   "cell_type": "code",
   "execution_count": 232,
   "id": "reported-controversy",
   "metadata": {},
   "outputs": [
    {
     "name": "stderr",
     "output_type": "stream",
     "text": [
      "Clipping input data to the valid range for imshow with RGB data ([0..1] for floats or [0..255] for integers).\n"
     ]
    },
    {
     "data": {
      "text/plain": [
       "<matplotlib.image.AxesImage at 0x21985f8ee88>"
      ]
     },
     "execution_count": 232,
     "metadata": {},
     "output_type": "execute_result"
    },
    {
     "data": {
      "image/png": "[encoded data removed]",
      "text/plain": [
       "<Figure size 432x288 with 1 Axes>"
      ]
     },
     "metadata": {
      "needs_background": "light"
     },
     "output_type": "display_data"
    }
   ],
   "source": [
    "plt.imshow(img_contours)"
   ]
  },
  {
   "cell_type": "code",
   "execution_count": 253,
   "id": "fabulous-conviction",
   "metadata": {},
   "outputs": [],
   "source": [
    "def make_contour_image(im):\n",
    "    \"\"\"\n",
    "    Makes an image into a contour image\n",
    "    :param im: image name\n",
    "    :type im: string\n",
    "\n",
    "    :return: drawing, the contour image\n",
    "    :rtype: nd.array\n",
    "    \"\"\"\n",
    "    imgL = cv2.imread(im)\n",
    "    cv2_vers = cv2.__version__\n",
    "    major_cv2 = int(cv2.__version__.split('.')[0])\n",
    "\n",
    "    #imgray = cv2.cvtColor(im, cv2.COLOR_BGR2GRAY)\n",
    "    edges = cv2.Canny(imgL,0,12)\n",
    "    thresh = 128\n",
    "    #get threshold image\n",
    "    ret,thresh_img = cv2.threshold(edges, thresh, 255, cv2.THRESH_BINARY)\n",
    "    #find contours\n",
    "    if major_cv2 > 3:\n",
    "        contours, hierarchy = cv2.findContours(edges, cv2.RETR_EXTERNAL, cv2.CHAIN_APPROX_SIMPLE)\n",
    "    else:\n",
    "         ret2, contours, hierarchy = cv2.findContours(edges, cv2.RETR_EXTERNAL, cv2.CHAIN_APPROX_SIMPLE)\n",
    "    #create an empty image for contours\n",
    "    img_contours = np.zeros(imgL.shape)\n",
    "    drawing = cv2.drawContours(img_contours, contours, -1, (0,255,0), 3)\n",
    "    return drawing"
   ]
  },
  {
   "cell_type": "code",
   "execution_count": 243,
   "id": "oriental-editor",
   "metadata": {},
   "outputs": [
    {
     "name": "stdout",
     "output_type": "stream",
     "text": [
      "<class 'numpy.ndarray'>\n"
     ]
    }
   ],
   "source": [
    "do = make_contour_image(pic)\n",
    "print(type(do))"
   ]
  },
  {
   "cell_type": "code",
   "execution_count": 208,
   "id": "rapid-jimmy",
   "metadata": {},
   "outputs": [
    {
     "ename": "ValueError",
     "evalue": "not enough values to unpack (expected 3, got 2)",
     "output_type": "error",
     "traceback": [
      "\u001b[1;31m---------------------------------------------------------------------------\u001b[0m",
      "\u001b[1;31mValueError\u001b[0m                                Traceback (most recent call last)",
      "\u001b[1;32m<ipython-input-208-6d8d64dfb1ca>\u001b[0m in \u001b[0;36m<module>\u001b[1;34m\u001b[0m\n\u001b[0;32m      1\u001b[0m \u001b[0mimgray\u001b[0m \u001b[1;33m=\u001b[0m \u001b[0mcv2\u001b[0m\u001b[1;33m.\u001b[0m\u001b[0mcvtColor\u001b[0m\u001b[1;33m(\u001b[0m\u001b[0mim\u001b[0m\u001b[1;33m,\u001b[0m \u001b[0mcv2\u001b[0m\u001b[1;33m.\u001b[0m\u001b[0mCOLOR_BGR2GRAY\u001b[0m\u001b[1;33m)\u001b[0m\u001b[1;33m\u001b[0m\u001b[1;33m\u001b[0m\u001b[0m\n\u001b[0;32m      2\u001b[0m \u001b[0medges\u001b[0m \u001b[1;33m=\u001b[0m \u001b[0mcv2\u001b[0m\u001b[1;33m.\u001b[0m\u001b[0mCanny\u001b[0m\u001b[1;33m(\u001b[0m\u001b[0mimg\u001b[0m\u001b[1;33m,\u001b[0m\u001b[1;36m60\u001b[0m\u001b[1;33m,\u001b[0m\u001b[1;36m200\u001b[0m\u001b[1;33m)\u001b[0m\u001b[1;33m\u001b[0m\u001b[1;33m\u001b[0m\u001b[0m\n\u001b[1;32m----> 3\u001b[1;33m \u001b[0mim2\u001b[0m\u001b[1;33m,\u001b[0m \u001b[0mcontours\u001b[0m\u001b[1;33m,\u001b[0m \u001b[0mhierarchy\u001b[0m \u001b[1;33m=\u001b[0m \u001b[0mcv2\u001b[0m\u001b[1;33m.\u001b[0m\u001b[0mfindContours\u001b[0m\u001b[1;33m(\u001b[0m\u001b[0medges\u001b[0m\u001b[1;33m,\u001b[0m \u001b[0mcv2\u001b[0m\u001b[1;33m.\u001b[0m\u001b[0mRETR_TREE\u001b[0m\u001b[1;33m,\u001b[0m \u001b[0mcv2\u001b[0m\u001b[1;33m.\u001b[0m\u001b[0mCHAIN_APPROX_SIMPLE\u001b[0m\u001b[1;33m)\u001b[0m\u001b[1;33m\u001b[0m\u001b[1;33m\u001b[0m\u001b[0m\n\u001b[0m",
      "\u001b[1;31mValueError\u001b[0m: not enough values to unpack (expected 3, got 2)"
     ]
    }
   ],
   "source": [
    "imgray = cv2.cvtColor(im, cv2.COLOR_BGR2GRAY)\n",
    "edges = cv2.Canny(img,60,200)\n",
    "im2, contours, hierarchy = cv2.findContours(edges, cv2.RETR_TREE, cv2.CHAIN_APPROX_SIMPLE)"
   ]
  },
  {
   "cell_type": "code",
   "execution_count": 204,
   "id": "expressed-cleaners",
   "metadata": {},
   "outputs": [
    {
     "name": "stderr",
     "output_type": "stream",
     "text": [
      "Clipping input data to the valid range for imshow with RGB data ([0..1] for floats or [0..255] for integers).\n"
     ]
    },
    {
     "data": {
      "text/plain": [
       "<matplotlib.image.AxesImage at 0x21990b87948>"
      ]
     },
     "execution_count": 204,
     "metadata": {},
     "output_type": "execute_result"
    },
    {
     "data": {
      "image/png": "[encoded data removed]",
      "text/plain": [
       "<Figure size 432x288 with 1 Axes>"
      ]
     },
     "metadata": {
      "needs_background": "light"
     },
     "output_type": "display_data"
    }
   ],
   "source": [
    "plt.imshow(img_contours)"
   ]
  },
  {
   "cell_type": "code",
   "execution_count": 174,
   "id": "departmental-editor",
   "metadata": {},
   "outputs": [
    {
     "name": "stdout",
     "output_type": "stream",
     "text": [
      "<class 'list'>\n"
     ]
    }
   ],
   "source": [
    "im = cv2.imread(pic)\n",
    "imgray = cv2.cvtColor(im, cv2.COLOR_BGR2GRAY)\n",
    "ret, thresh = cv2.threshold(imgray, 127, 255, 0)\n",
    "#plt.imshow(imgray)\n",
    "#contours, hierarchy = cv2.findContours(thresh, cv2.RETR_TREE, cv2.CHAIN_APPROX_SIMPLE)\n",
    "\n",
    "print(type(contours))"
   ]
  },
  {
   "cell_type": "code",
   "execution_count": null,
   "id": "featured-server",
   "metadata": {},
   "outputs": [],
   "source": [
    "#img = cv.imread('home.jpg')\n",
    "img = cv2.imread(pic)\n",
    "gray= cv2.cvtColor(img_rgb, cv2.COLOR_BGR2GRAY)\n",
    "sift = cv2.SIFT_create()\n",
    "kp = sift.detect(gray,None)\n",
    "img=cv2.drawKeypoints(gray,kp,img)\n",
    "what= cv2.imwrite('sift_keypoints.jpg',img)"
   ]
  },
  {
   "cell_type": "code",
   "execution_count": null,
   "id": "domestic-insight",
   "metadata": {},
   "outputs": [],
   "source": [
    "print(type(what))"
   ]
  },
  {
   "cell_type": "code",
   "execution_count": null,
   "id": "exposed-shirt",
   "metadata": {},
   "outputs": [],
   "source": [
    "# #img = cv.imread('simple.jpg',0)\n",
    "# # Initiate ORB detector\n",
    "# orb = cv2.ORB_create()\n",
    "# # find the keypoints with ORB\n",
    "# kp = orb.detect(img,None)\n",
    "# # compute the descriptors with ORB\n",
    "# kp, des = orb.compute(img, kp)\n",
    "# # draw only keypoints location,not size and orientation\n",
    "# img2 = cv2.drawKeypoints(img, kp, None, color=(0,255,0), flags=0)\n",
    "# plt.imshow(img2), plt.show()"
   ]
  },
  {
   "cell_type": "code",
   "execution_count": null,
   "id": "israeli-dispute",
   "metadata": {},
   "outputs": [],
   "source": [
    "# #img = cv2.imread('resources/1.jpg', cv2.IMREAD_COLOR)\n",
    "# #compare = cv2.imread('resources/template.jpg', cv2.IMREAD_GRAYSCALE)\n",
    "# #template = \n",
    "# #gray = cv2.cvtColor(img, cv2.COLOR_BGR2GRAY)\n",
    "# img = cv2.imread(pic, cv2.IMREAD_COLOR)\n",
    "# compare= cv2.imread('template2.jpg',cv2.IMREAD_GRAYSCALE)\n",
    "# gray= cv2.cvtColor(img_rgb, cv2.COLOR_BGR2GRAY)\n",
    "# gray = cv2.bilateralFilter(gray, 11, 17, 17)\n",
    "# edges = cv2.Canny(gray, 20, 10)\n",
    "# compare = cv2.Canny(compare, 200, 200)\n",
    "\n",
    "# contours, _ = cv2.findContours(gray.copy(), cv2.RETR_TREE, cv2.CHAIN_APPROX_SIMPLE)\n",
    "# compare_contours, _2 = cv2.findContours(compare.copy(), cv2.RETR_TREE, cv2.CHAIN_APPROX_SIMPLE)\n",
    "\n",
    "# for c in contours:\n",
    "#     for c2 in compare_contours:\n",
    "#         ret = cv2.matchShapes(c, c2, 1, 0.0)\n",
    "#         if ret < 0.5:\n",
    "#             peri = cv2.arcLength(c, True)\n",
    "#             approx = cv2.approxPolyDP(c, 0.02 * peri, True)\n",
    "#             cv2.drawContours(img, [approx], -1, (0, 255, 0), 7)"
   ]
  },
  {
   "cell_type": "code",
   "execution_count": null,
   "id": "vietnamese-newspaper",
   "metadata": {},
   "outputs": [],
   "source": [
    "#  cv2.imshow(\"Edges\",edges)\n",
    "#  cv2.waitKey(0)"
   ]
  },
  {
   "cell_type": "code",
   "execution_count": null,
   "id": "racial-eleven",
   "metadata": {},
   "outputs": [],
   "source": [
    "#  cv2.imshow(\"compare\",compare)\n",
    "#  cv2.waitKey(0)"
   ]
  },
  {
   "cell_type": "code",
   "execution_count": null,
   "id": "future-gross",
   "metadata": {},
   "outputs": [],
   "source": [
    "def main():\n",
    "    img = img_rgb\n",
    "    gray_image = cv2.cvtColor(img, cv2.COLOR_BGR2GRAY)\n",
    "    ret, thresh = cv2.threshold(gray_image, 50, 255, cv2.THRESH_BINARY)\n",
    "    blur  = cv2.medianBlur(thresh, 7)\n",
    "\n",
    "    img2, contours, hierarchy = cv2.findContours(~blur, cv2.RETR_TREE, cv2.CHAIN_APPROX_SIMPLE)\n",
    "\n",
    "    cv2.imshow('original img', img)\n",
    "    \n",
    "\n",
    "    cv2.imshow('thresh', thresh)\n",
    "    cv2.imshow('blur', blur)\n",
    "    \n",
    "    cv2.drawContours(img, contours, -1, (255,255,0), 1)\n",
    "    cv2.imshow('img with roi drawn', img)\n",
    "\n",
    "    cv2.waitKey(0)\n",
    "    cv2.destroyAllWindows()\n",
    "main()    \n",
    "\n",
    "# if __name__ == '__main__':\n",
    "#     main()"
   ]
  },
  {
   "cell_type": "code",
   "execution_count": 1,
   "id": "specified-optimum",
   "metadata": {},
   "outputs": [],
   "source": [
    "# libraries\n",
    "import cv2\n",
    "import pandas as pd\n",
    "import numpy as np\n",
    "import matplotlib.pyplot as plt\n",
    "import glob\n",
    "import os \n",
    "\n",
    "#import shutil\n",
    "from PIL import Image, ImageOps\n",
    "import math\n",
    "import filecmp\n",
    "import tesserocr\n",
    "from tesserocr import PyTessBaseAPI\n",
    "from filecmp import cmp\n",
    "from pathlib import Path\n",
    "import re\n",
    "import makedalytics as ma"
   ]
  },
  {
   "cell_type": "code",
   "execution_count": null,
   "id": "higher-triangle",
   "metadata": {},
   "outputs": [],
   "source": []
  },
  {
   "cell_type": "code",
   "execution_count": null,
   "id": "concerned-headset",
   "metadata": {},
   "outputs": [],
   "source": []
  },
  {
   "cell_type": "markdown",
   "id": "fabulous-librarian",
   "metadata": {},
   "source": [
    "Took images in a to be augmented folder and applied inversion:"
   ]
  },
  {
   "cell_type": "code",
   "execution_count": null,
   "id": "collected-trout",
   "metadata": {},
   "outputs": [],
   "source": [
    "# not_already_inverted = 'D:/my_academia/dataset/augmented_to_inverted'\n",
    "# aflip_back_target = 'D:/my_academia/dataset/augmented_to_inverted'\n",
    "# non_suspects = glob.glob(os.path.join(not_already_inverted, '*.jpg'))\n",
    "\n",
    "# for picy in non_suspects:\n",
    "#     example = cv2.imread(picy, cv2.IMREAD_GRAYSCALE)\n",
    "#     flipped2 = np.invert(example)\n",
    "#     imlot = Image.fromarray(flipped2)\n",
    "#     imlot.save(os.path.join(aflip_back_target, picy + \"inv.jpg\"))"
   ]
  },
  {
   "cell_type": "markdown",
   "id": "completed-seeker",
   "metadata": {},
   "source": [
    "Applied mirroring:"
   ]
  },
  {
   "cell_type": "code",
   "execution_count": null,
   "id": "computational-gambling",
   "metadata": {},
   "outputs": [],
   "source": [
    "\n",
    "# target_upside_down= 'D:/my_academia/dataset/within_domain_images'\n",
    "# to_be_target_upside_down = 'D:/my_academia/dataset/within_domain_images'\n",
    "# non_suspects = glob.glob(os.path.join(target_upside_down, '*.jpg'))\n",
    "# for picy in non_suspects:\n",
    "#     example= Image.open(picy)\n",
    "#     #example = cv2.imread(picy, cv2.IMREAD_GRAYSCALE)\n",
    "#     mir_over= ImageOps.mirror(example)\n",
    "#     mir_over.save(os.path.join(to_be_target_upside_down,picy+ \"mir.jpg\"))"
   ]
  },
  {
   "cell_type": "markdown",
   "id": "celtic-percentage",
   "metadata": {},
   "source": [
    "Applied vertical mirroring:"
   ]
  },
  {
   "cell_type": "code",
   "execution_count": null,
   "id": "expected-perry",
   "metadata": {},
   "outputs": [],
   "source": [
    "# target_mirror_down= 'D:/my_academia/dataset/augment_to_veritcal_flipmirror'\n",
    "# #                     D:/my_academia/dataset/augment_to_veritcal_flipmirror\n",
    "# to_be_target_mirror_down = 'D:/my_academia/dataset/augment_to_veritcal_flipmirror'\n",
    "# non_suspects = glob.glob(os.path.join(target_mirror_down, '*.jpgmir.jpg'))\n",
    "# for picy in non_suspects:\n",
    "#     example= Image.open(picy)\n",
    "#     #example = cv2.imread(picy, cv2.IMREAD_GRAYSCALE)\n",
    "#     mirrored_over= ImageOps.mirror(example)\n",
    "#     mirrored_over.save(os.path.join(to_be_target_mirror_down,picy+ \"lovespive.jpg\"))\n",
    "    \n"
   ]
  },
  {
   "cell_type": "code",
   "execution_count": null,
   "id": "intellectual-machine",
   "metadata": {},
   "outputs": [],
   "source": [
    "target_upside_down= 'D:/my_academia/dataset/within_domain_images'\n",
    "to_be_target_upside_down = 'D:/my_academia/dataset/within_domain_images'\n",
    "non_suspects = glob.glob(os.path.join(target_upside_down, '*.jpg'))\n",
    "pic_list = []\n",
    "for picy in non_suspects:\n",
    "    pic_list.append(picy)"
   ]
  },
  {
   "cell_type": "markdown",
   "id": "regulated-somalia",
   "metadata": {},
   "source": [
    "Start a dataframe"
   ]
  },
  {
   "cell_type": "code",
   "execution_count": null,
   "id": "exciting-understanding",
   "metadata": {},
   "outputs": [],
   "source": [
    "lists_to_frames1 = pd.DataFrame(pic_list)\n",
    "lists_to_frames1['problem'] = 'none'\n",
    "lists_to_frames1['image_path'] = lists_to_frames1[0]"
   ]
  },
  {
   "cell_type": "code",
   "execution_count": null,
   "id": "impressive-money",
   "metadata": {},
   "outputs": [],
   "source": [
    "target_mirror= 'D:/my_academia/dataset/augment_to_veritcal_flipmirror'\n",
    "#target_upside_down= 'D:/my_academia/dataset/within_domain_images'\n",
    "non_suspectsB = glob.glob(os.path.join(target_mirror, '*.jpg'))\n",
    "#non_suspects = glob.glob(os.path.join(target_upside_down, '*.jpg'))\n",
    "pic_list_mirror = []\n",
    "for picy in non_suspectsB:\n",
    "    pic_list_mirror.append(picy)\n",
    "   "
   ]
  },
  {
   "cell_type": "markdown",
   "id": "controlled-decimal",
   "metadata": {},
   "source": [
    "Add to dataframe"
   ]
  },
  {
   "cell_type": "code",
   "execution_count": null,
   "id": "mature-links",
   "metadata": {},
   "outputs": [],
   "source": [
    "lists_to_frames2 = pd.DataFrame(pic_list_mirror)\n",
    "lists_to_frames2['problem']= 'mirrored' \n",
    "lists_to_frames2['image_path'] = lists_to_frames2[0]\n",
    "lists_to_frames2"
   ]
  },
  {
   "cell_type": "code",
   "execution_count": null,
   "id": "stupid-flashing",
   "metadata": {},
   "outputs": [],
   "source": [
    "target_mi= 'D:/my_academia/dataset/augment_to_upside_down'\n",
    "\n",
    "non_suspectsC = glob.glob(os.path.join(target_mi, '*.jpg'))\n",
    "\n",
    "pic_list_mi = []\n",
    "for picy in non_suspectsC:\n",
    "    pic_list_mi.append(picy)\n",
    "lists_to_frames3 = pd.DataFrame(pic_list_mi)\n",
    "lists_to_frames3['problem']= 'upside_down' \n",
    "lists_to_frames3['image_path'] = lists_to_frames3[0]\n",
    "lists_to_frames3   "
   ]
  },
  {
   "cell_type": "code",
   "execution_count": null,
   "id": "exceptional-works",
   "metadata": {},
   "outputs": [],
   "source": [
    "target_inv= 'D:/my_academia/dataset/augmented_to_inverted'\n",
    "\n",
    "non_suspectsD = glob.glob(os.path.join(target_inv, '*.jpg'))\n",
    "\n",
    "pic_list_inv = []\n",
    "for picy in non_suspectsD:\n",
    "    pic_list_inv.append(picy)\n",
    "lists_to_frames4 = pd.DataFrame(pic_list_inv)\n",
    "lists_to_frames4['problem']= 'inverted' \n",
    "lists_to_frames4['image_path'] = lists_to_frames4[0]\n",
    "lists_to_frames4  "
   ]
  },
  {
   "cell_type": "code",
   "execution_count": null,
   "id": "wooden-papua",
   "metadata": {},
   "outputs": [],
   "source": [
    "target_leaked= 'D:/my_academia/dataset/label_leaked_images'\n",
    "\n",
    "non_suspectsE = glob.glob(os.path.join(target_leaked, '*.jpg'))\n",
    "\n",
    "pic_list_leaked = []\n",
    "for picy in non_suspectsE:\n",
    "    pic_list_leaked.append(picy)\n",
    "lists_to_frames5 = pd.DataFrame(pic_list_leaked)\n",
    "lists_to_frames5['problem']= 'leaked' \n",
    "lists_to_frames5['image_path'] = lists_to_frames5[0]\n",
    "lists_to_frames5.to_csv('leaved.csv')  "
   ]
  },
  {
   "cell_type": "code",
   "execution_count": null,
   "id": "solar-motel",
   "metadata": {},
   "outputs": [],
   "source": [
    "target_origo_inv= 'D:/my_academia/dataset/inverted_images'\n",
    "\n",
    "non_suspectsF = glob.glob(os.path.join(target_origo_inv, '*.jpg'))\n",
    "\n",
    "pic_list_Oinv = []\n",
    "for picy in non_suspectsF:\n",
    "    pic_list_Oinv.append(picy)\n",
    "lists_to_frames6 = pd.DataFrame(pic_list_Oinv)\n",
    "lists_to_frames6['problem']= 'original_inverted' \n",
    "lists_to_frames6['image_path'] = lists_to_frames6[0]\n",
    "lists_to_frames6  "
   ]
  },
  {
   "cell_type": "markdown",
   "id": "fresh-musician",
   "metadata": {},
   "source": [
    "Make one big csv of images and paths"
   ]
  },
  {
   "cell_type": "code",
   "execution_count": null,
   "id": "corrected-cattle",
   "metadata": {},
   "outputs": [],
   "source": [
    "frames = [lists_to_frames1 ,lists_to_frames2 ,lists_to_frames3 ,lists_to_frames4 ,lists_to_frames5 ,lists_to_frames6] \n",
    "result = pd.concat(frames)\n",
    "result"
   ]
  },
  {
   "cell_type": "code",
   "execution_count": null,
   "id": "unusual-spirit",
   "metadata": {},
   "outputs": [],
   "source": [
    "#result.to_csv('D:/my_academia/dataset/big_list_images.csv')"
   ]
  },
  {
   "cell_type": "markdown",
   "id": "floral-share",
   "metadata": {},
   "source": [
    "Add additional images known to be acceptable i.e. not needing to be cleaned away at random\n"
   ]
  },
  {
   "cell_type": "code",
   "execution_count": null,
   "id": "consistent-identity",
   "metadata": {},
   "outputs": [],
   "source": [
    "def make_df_from_picyinfolder(input_folder, problem):\n",
    "    target_origo_inv= input_folder\n",
    "\n",
    "    non_suspectsF = glob.glob(os.path.join(target_origo_inv, '*.jpg'))\n",
    "\n",
    "    pic_list_Oinv = []\n",
    "    for picy in non_suspectsF:\n",
    "        pic_list_Oinv.append(picy)\n",
    "    lists_to_frames = pd.DataFrame(pic_list_Oinv)\n",
    "    lists_to_frames['problem']= problem \n",
    "    lists_to_frames['image_path'] = lists_to_frames[0]\n",
    "    return lists_to_frames \n",
    "    \n",
    "list_to_frames7 = make_df_from_picyinfolder('D:/my_academia/dataset/random_within_domain','random_within_domain')"
   ]
  },
  {
   "cell_type": "code",
   "execution_count": null,
   "id": "turned-popularity",
   "metadata": {},
   "outputs": [],
   "source": [
    "list_to_frames7"
   ]
  },
  {
   "cell_type": "markdown",
   "id": "classified-alignment",
   "metadata": {},
   "source": [
    "Automated augmentation  code"
   ]
  },
  {
   "cell_type": "markdown",
   "id": "arctic-spelling",
   "metadata": {},
   "source": [
    "# This needs fixing- right now only working of jpgs?"
   ]
  },
  {
   "cell_type": "code",
   "execution_count": null,
   "id": "upper-broadcasting",
   "metadata": {},
   "outputs": [],
   "source": [
    "def dimensions_to_df(folder_name):\n",
    "    non_suspects = glob.glob(os.path.join(folder_name, '*.jpg'))\n",
    "    picy_list, list_ht, list_wt = [], [], []\n",
    "\n",
    "    for picy in non_suspects:\n",
    "        picy_list.append(picy)\n",
    "        image = cv2.imread(picy, cv2.IMREAD_GRAYSCALE)\n",
    "        ht, wt= image.shape\n",
    "        list_ht.append(ht)  \n",
    "        list_wt.append(wt)\n",
    "        new_dataframe = pd.DataFrame({\n",
    "            'images': picy_list,\n",
    "            'height': list_ht,\n",
    "            'width': list_wt\n",
    "        })\n",
    "    new_dataframe['proportion'] = new_dataframe['height']/new_dataframe['width']\n",
    "    \n",
    "    return new_dataframe\n",
    "    "
   ]
  },
  {
   "cell_type": "code",
   "execution_count": null,
   "id": "overall-substance",
   "metadata": {},
   "outputs": [],
   "source": [
    "dimensions_to_df('D:/my_academia/dataset/NUCLEAR_TO')"
   ]
  },
  {
   "cell_type": "code",
   "execution_count": null,
   "id": "lucky-vision",
   "metadata": {},
   "outputs": [],
   "source": [
    "def dimensions_to_histos(folder_name):\n",
    "    non_suspects = glob.glob(os.path.join(folder_name, '*.jpg'))\n",
    "    picy_list, list_ht, list_wt = [], [], []\n",
    "\n",
    "    for picy in non_suspects:\n",
    "        picy_list.append(picy)\n",
    "        image = cv2.imread(picy, cv2.IMREAD_GRAYSCALE)\n",
    "        ht, wt= image.shape\n",
    "        list_ht.append(ht)  \n",
    "        list_wt.append(wt)\n",
    "        new_dataframe = pd.DataFrame({\n",
    "            'images': picy_list,\n",
    "            'height': list_ht,\n",
    "            'width': list_wt\n",
    "        })\n",
    "    new_dataframe['proportion'] = new_dataframe['height']/new_dataframe['width']\n",
    "    n, bins, patches = plt.hist(new_dataframe.height, bins='auto', color='#0504aa',\n",
    "                            alpha=0.7, rwidth=0.85, label = \"height\")\n",
    "    plt.grid(axis='y', alpha=0.75)\n",
    "    plt.xlabel('measurement')\n",
    "    plt.ylabel('Frequency')\n",
    "    plt.title('Image sizes: heights and widths')\n",
    "    #plt.text(23, 45, r'$\\mu=15, b=3$')\n",
    "    lovilier = n, bins, patches\n",
    "    z, bins2, patches2 = plt.hist(new_dataframe.width, bins='auto', color='red',\n",
    "                            alpha=0.7, rwidth=0.85, label =\"width\")\n",
    "    plt.grid(axis='y', alpha=0.75)\n",
    "    plt.xlabel('measurement')\n",
    "    plt.ylabel('Frequency')\n",
    "    plt.title('Image sizes: heights and widths')\n",
    "    lonilier = z, bins2, patches2\n",
    "    return lovilier, lonilier\n",
    "    #return  new_dataframe.height.hist(bins = 10),new_dataframe.width.hist(bins = 10)"
   ]
  },
  {
   "cell_type": "code",
   "execution_count": null,
   "id": "electoral-mobility",
   "metadata": {},
   "outputs": [],
   "source": [
    "bins = np.arange(1600, 2501, 50)\n",
    "\n",
    "# Set up a figure with set of axes\n",
    "fig, ax = plt.subplots(1, 1)\n",
    "\n",
    "# Add axis labels\n",
    "ax.set_xlabel('Cross-sectional area (µm$^2$)')\n",
    "ax.set_ylabel('count');\n",
    "\n",
    "# Generate the histogram for the low-density fed mother\n",
    "_ = ax.hist((xa_low, xa_high), bins=bins)\n",
    "\n",
    "# Add a legend\n",
    "ax.legend(('low', 'high'), loc='upper right');"
   ]
  },
  {
   "cell_type": "code",
   "execution_count": null,
   "id": "sufficient-screening",
   "metadata": {},
   "outputs": [],
   "source": [
    "def dimensions_to_histosax(folder_name, bins_count=10):\n",
    "    \"\"\"\n",
    "    Looks in the directory given, and produces a histogram of variosu widths\n",
    "    and heights.Important information as many neural nets take images all the\n",
    "    same size. Clasically most chestXrays are 2500*2000 or 2500 *2048;\n",
    "    however the dataset may be different and/or varied\n",
    "\n",
    "    :param folder_name: folder_name, directory name\n",
    "    :type folder_name: string\n",
    "    :param bins_count: bins_count, number of bins desired (defaults to 10)\n",
    "    :type bins_count: int\n",
    "\n",
    "    :return: histo_ht_wt, a labeled histogram\n",
    "    :rtype: nd.array\n",
    "\n",
    "    \"\"\"\n",
    "    non_suspects = glob.glob(os.path.join(folder_name, '*.jpg'))\n",
    "    picy_list, list_ht, list_wt = [], [], []\n",
    "\n",
    "    for picy in non_suspects:\n",
    "        picy_list.append(picy)\n",
    "        image = cv2.imread(picy, cv2.IMREAD_GRAYSCALE)\n",
    "        ht, wt = image.shape\n",
    "        list_ht.append(ht)\n",
    "        list_wt.append(wt)\n",
    "        new_datafrme = pd.DataFrame({\n",
    "            'images': picy_list,\n",
    "            'height': list_ht,\n",
    "            'width': list_wt\n",
    "        })\n",
    "    new_datafrme['proportion'] = new_datafrme['height']/new_datafrme['width']\n",
    "    fig, ax = plt.subplots(1, 1)\n",
    "\n",
    "    # Add axis labels\n",
    "    ax.set_xlabel('dimension size')\n",
    "    ax.set_ylabel('count')\n",
    "\n",
    "    # Generate the histogram\n",
    "    histo_ht_wt = ax.hist(\n",
    "        (new_datafrme.height, new_datafrme.width),\n",
    "        bins=bins_count\n",
    "    )\n",
    "\n",
    "    # Add a legend\n",
    "    ax.legend(('height', 'width'), loc='upper right')\n",
    "    return histo_ht_wt"
   ]
  },
  {
   "cell_type": "code",
   "execution_count": null,
   "id": "postal-society",
   "metadata": {},
   "outputs": [],
   "source": [
    "def proportions_ht_wt_to_histo(folder_name, bins_count=10):\n",
    "    \"\"\"\n",
    "    Looks in the directory given, and produces a histogram of various proportions\n",
    "    of the images by dividing their height by widths.\n",
    "    Important information as many neural nets take images all the\n",
    "    same size. Clasically most chestXrays are 2500*2000 or 2500 *2048;\n",
    "    however the dataset may be different and/or varied\n",
    "    :param folder_name: folder_name, directory name\n",
    "    :type folder_name: string\n",
    "    :param bins_count: bins_count, number of bins desired (defaults to 10)\n",
    "    :type bins_count: int\n",
    "    :return: histo_ht_wt_p, a labeled histogram\n",
    "    :rtype: tuple\n",
    "    \"\"\"\n",
    "    non_suspects = glob.glob(os.path.join(folder_name, '*.jpg'))\n",
    "    picy_list, list_ht, list_wt = [], [], []\n",
    "\n",
    "    for picy in non_suspects:\n",
    "        picy_list.append(picy)\n",
    "        image = cv2.imread(picy, cv2.IMREAD_GRAYSCALE)\n",
    "        ht, wt = image.shape\n",
    "        list_ht.append(ht)\n",
    "        list_wt.append(wt)\n",
    "        new_datafrme = pd.DataFrame({\n",
    "            'images': picy_list,\n",
    "            'height': list_ht,\n",
    "            'width': list_wt\n",
    "        })\n",
    "    new_datafrme['proportion'] = new_datafrme['height']/new_datafrme['width']\n",
    "    fig, ax = plt.subplots(1, 1)\n",
    "\n",
    "    # Add axis labels\n",
    "    ax.set_xlabel('proportion height/width')\n",
    "    ax.set_ylabel('count')\n",
    "\n",
    "    # Generate the histogram\n",
    "    histo_ht_wt_p = ax.hist(\n",
    "        (new_datafrme.proportion),\n",
    "        bins=bins_count\n",
    "    )\n",
    "\n",
    "    # Add a legend\n",
    "\n",
    "    return histo_ht_wt_p"
   ]
  },
  {
   "cell_type": "code",
   "execution_count": null,
   "id": "union-insertion",
   "metadata": {},
   "outputs": [],
   "source": [
    "def forsee_some_bias(df, list_senstive_columns, label):\n",
    "    \n",
    "    picy_list, sensitive = [], []\n",
    "\n",
    "    for picy in non_suspects:\n",
    "        picy_list.append(picy)\n",
    "        sensitive = df.list_sensitive_columns\n",
    "        new_datafrme = pd.DataFrame({\n",
    "            'images': picy_list,\n",
    "            'sensitive': sensitive,\n",
    "            \n",
    "        })\n",
    "    "
   ]
  },
  {
   "cell_type": "code",
   "execution_count": null,
   "id": "scientific-understanding",
   "metadata": {},
   "outputs": [],
   "source": [
    "cars = {'Name': ['Leo Tovo', 'Linus May','A.J. Smith','Hope Civic','Theodore Carol','Fungi Focus','Audi Allo','Harold Cho', 'Leo Kim', 'malachi Veno'],\n",
    "        'Gender': ['M','M','M','M','F','M','M','M','M','M'],\n",
    "        'Race': ['white', 'asian', 'white','black', 'asian','latinx','white', 'asian', 'asian', 'asian'],\n",
    "        'Label': ['CA', 'WNL', 'CA', 'WNL', 'CA', 'WNL','CA', 'WNL', 'CA', 'WNL',],\n",
    "        'Hair_color': ['g', 'g', 'g', 'g', 'g', 'g','g', 'g', 'g', 'g',]\n",
    "        }\n",
    "\n",
    "example = pd.DataFrame(cars, columns = ['Name', 'Gender', 'Race','Label','Hair_color'])\n",
    "example.to_csv('example_for_bias.csv')\n"
   ]
  },
  {
   "cell_type": "code",
   "execution_count": null,
   "id": "posted-excuse",
   "metadata": {},
   "outputs": [],
   "source": [
    "def see_part_potential_bias(df, label, sensitive_column_list):\n",
    "    \"\"\"\n",
    "    This function gives you a tabulated dataframe of sensitive columns e.g. gender, race, or\n",
    "    whichever you think are relevant, in terms of a labels (put in the label column name).\n",
    "    You may discover all your pathologically labeled sample are of one ethnic group,\n",
    "    gender or other category in your dataframe. Remeber some early neural nets\n",
    "    for chest-Xrays were less accurate in women and the fact that there were fewer Xrays\n",
    "    of women in the datasets did not help\n",
    "    \n",
    "    :param df: dataframe that includes at least your sample names, labels, and sensitive columns\n",
    "    :type df: Dataframe\n",
    "    \n",
    "    :return: tab_fight_bias2, a neatly sorted dataframe\n",
    "    :rtype: Dataframe\n",
    "    \"\"\"\n",
    "       \n",
    "    label_and_sensitive_column_list = [label]+sensitive_column_list\n",
    "    tab_fight_bias = pd.DataFrame(example[label_and_sensitive_column_list].value_counts())\n",
    "    tab_fight_bias2 = tab_fight_bias.groupby(label_and_sensitive_column_list).sum()\n",
    "    tab_fight_bias2 = tab_fight_bias2.rename(columns= {0:'sums'})\n",
    "    return tab_fight_bias2\n",
    "    #return label_and_sensitive_column_list\n",
    "#print(example[[\"Gender\", \"Race\", \"Label\"]].value_counts())\n",
    "lo= see_part_potential_bias(example,\"Label\", [\"Gender\", \"Race\"])\n",
    "print(type(lo))\n",
    "lo#print(example.loc[\"Label\" is \"WNL\"]) #[[\"Gender\", \"Race\"]].value_counts())"
   ]
  },
  {
   "cell_type": "code",
   "execution_count": null,
   "id": "earned-boston",
   "metadata": {},
   "outputs": [],
   "source": [
    "def test_see_part_potential_bias():\n",
    "    e2 = (os.path.join('example_for_bias.csv'))\n",
    "    donwa = see_part_potential_bias(e2,\"Label\", [\"Gender\", \"Race\"])\n",
    "    assert len(donwa) > 1"
   ]
  },
  {
   "cell_type": "code",
   "execution_count": null,
   "id": "sticky-visit",
   "metadata": {},
   "outputs": [],
   "source": [
    "test_see_part_potential_bias"
   ]
  },
  {
   "cell_type": "code",
   "execution_count": null,
   "id": "technological-apparel",
   "metadata": {},
   "outputs": [],
   "source": [
    "label_and_sensitive_column_list= [\"Label\", \"Gender\",\"Race\"]\n",
    "print_v = pd.DataFrame(example[label_and_sensitive_column_list].value_counts())\n",
    "print_v = print_v.groupby(label_and_sensitive_column_list).sum()\n",
    "print_v"
   ]
  },
  {
   "cell_type": "code",
   "execution_count": null,
   "id": "imperial-integral",
   "metadata": {},
   "outputs": [],
   "source": [
    "print_v = pd.DataFrame(example[[\"Label\", \"Gender\",\"Race\"]].value_counts())\n",
    "print_v = print_v.groupby([ \"Label\", \"Gender\",\"Race\"]).sum()\n",
    "print_v"
   ]
  },
  {
   "cell_type": "code",
   "execution_count": null,
   "id": "according-major",
   "metadata": {},
   "outputs": [],
   "source": [
    "#abnormals_to_mask = glob.glob(os.path.join(abnormal_dir, '*.jpg'))\n",
    "#output_directory = ''\n",
    "def mask_halo_them_all(folder_name): \n",
    "    abnormals_to_mask = glob.glob(os.path.join(folder_name, '*.jpg'))\n",
    "    for example_pic in folder_name:\n",
    "        example = cv2.imread(example_pic, cv2.IMREAD_GRAYSCALE)\n",
    "        mask = np.zeros(example.shape)\n",
    "        center_coordinates = (example.shape[1] // 2, example.shape[0] // 3)\n",
    "        radius = (min(example.shape) // 100) * 45\n",
    "        color = 255\n",
    "        thickness = -1\n",
    "        mask = cv2.circle(mask, center_coordinates, radius, color, thickness)\n",
    "        ksize = (400, 400)\n",
    "        mask = cv2.blur(mask, ksize) \n",
    "        ksize = (100, 100)\n",
    "        blurred = cv2.blur(example, ksize)\n",
    "        dst = os.path.abspath(\n",
    "            os.path.join('masked', os.path.basename(example_pic)),\n",
    "        )\n",
    "        now_mased = mask_image(example, blurred, mask)\n",
    "       # cv2.imwrite(dst, now_mased)\n",
    "    return   now_mased   \n",
    "        "
   ]
  },
  {
   "cell_type": "code",
   "execution_count": null,
   "id": "martial-closing",
   "metadata": {},
   "outputs": [],
   "source": [
    "def blur_out_edges(image):\n",
    "    \"\"\"\n",
    "    For an individual image, blurs out the edges as an augmentation.\n",
    "\n",
    "    :param image: Image\n",
    "    :type image: Image (JPEG)\n",
    "\n",
    "    :return: blurred_edge_image an array of an image blurred around the edges\n",
    "    :rtype: nd.array\n",
    "    \"\"\"\n",
    "    example = cv2.imread(image, cv2.IMREAD_GRAYSCALE)\n",
    "    msk = np.zeros(example.shape)\n",
    "    center_coordinates = (example.shape[1] // 2, example.shape[0] // 2)\n",
    "    radius = int((min(example.shape) // 100) * (min(example.shape)/40))\n",
    "    color = 255\n",
    "    thickness = -1\n",
    "    msk = cv2.circle(msk, center_coordinates, radius, color, thickness)\n",
    "    ksize = (600, 600)\n",
    "    msk = cv2.blur(msk, ksize)\n",
    "    filtered = cv2.blur(example, ksize)\n",
    "    blurred_edge_image = example * (msk / 255) + filtered * ((255 - msk) / 255)\n",
    "    return blurred_edge_image\n",
    "lo = blur_out_edges('D:/my_academia/dataset/NUCLEAR_TO/new.jpg')\n",
    "type(lo)"
   ]
  },
  {
   "cell_type": "code",
   "execution_count": null,
   "id": "prime-illinois",
   "metadata": {},
   "outputs": [],
   "source": [
    "file_names=glob.glob(\"test/*.jpg\")\n",
    "\n",
    "list_ht = []\n",
    "list_wt = []\n",
    "#list_proportion = []\n",
    "    #print(type(images[7]))\n",
    "for file_name in file_names:\n",
    "    image = cv2.imread(file_name,  cv2.IMREAD_GRAYSCALE)\n",
    "    ht, wt= image.shape\n",
    "    list_ht.append(ht)  \n",
    "    list_wt.append(wt)\n",
    "   # list_proportion.append(ht/wt)\n",
    "    #data= [ht, wt, ht/wt]\n",
    "    \n",
    "    \n",
    "new_dataframe = pd.DataFrame(list_ht, list_wt)"
   ]
  },
  {
   "cell_type": "code",
   "execution_count": null,
   "id": "centered-recipe",
   "metadata": {},
   "outputs": [],
   "source": [
    "def augment_and_move(origin_folder, target_folder, transformations):\n",
    "    non_suspects = glob.glob(os.path.join(origin_folder, '*.jpg'))\n",
    "    for picy in non_suspects:\n",
    "        example = Image.open(picy)\n",
    "        if example.mode == 'RGBA':\n",
    "            example = example.convert('RGB')\n",
    "        novo = os.path.basename(picy)\n",
    "        for transformation in transformations:\n",
    "            example = transformation(example)\n",
    "        example.save(os.path.join(target_folder, novo + \".jpg\"))"
   ]
  },
  {
   "cell_type": "markdown",
   "id": "peaceful-allah",
   "metadata": {},
   "source": [
    "Example"
   ]
  },
  {
   "cell_type": "code",
   "execution_count": null,
   "id": "bulgarian-crawford",
   "metadata": {},
   "outputs": [],
   "source": [
    "from functools import partial\n",
    "def capture(angle1):\n",
    "    def thunk(image):\n",
    "        return simple_rotation_augmentation(angle1, image)\n",
    "    return think"
   ]
  },
  {
   "cell_type": "code",
   "execution_count": null,
   "id": "unable-decline",
   "metadata": {},
   "outputs": [],
   "source": [
    "# class RotationAugmentation:\n",
    "    \n",
    "#     def __init__(self, angle):\n",
    "#         self.angle = angle\n",
    "        \n",
    "#     def __call__(self, image):\n",
    "#         return simple_rotation_augmentation(self.angle, image)\n",
    "\n",
    "augment_and_move(\n",
    "    'D:/my_academia/dataset/random_within_domain',\n",
    "    'D:/my_academia/elo',\n",
    "#     [capture(5)],\n",
    "    #[RotationAugmentation(5)],\n",
    "    [partial(simple_rotation_augmentation,5)],\n",
    ")"
   ]
  },
  {
   "cell_type": "code",
   "execution_count": null,
   "id": "english-trial",
   "metadata": {},
   "outputs": [],
   "source": [
    "augment_and_move(\n",
    "    'D:/my_academia/dataset/NUCLEAR_TO',\n",
    "    'D:/my_academia/elo',\n",
    "    [crop],\n",
    ")"
   ]
  },
  {
   "cell_type": "code",
   "execution_count": null,
   "id": "uniform-applicant",
   "metadata": {},
   "outputs": [],
   "source": [
    "def crop_them_all(origin_folder, target_folder):\n",
    "    augment_and_move(\n",
    "    origin_folder,\n",
    "    target_folder,\n",
    "    [crop],\n",
    ")\n",
    "    "
   ]
  },
  {
   "cell_type": "code",
   "execution_count": null,
   "id": "talented-notebook",
   "metadata": {},
   "outputs": [],
   "source": [
    "crop_them_all('D:/my_academia/dataset/NUCLEAR_TO',\n",
    "    'D:/my_academia/dataset/exp2',)"
   ]
  },
  {
   "cell_type": "markdown",
   "id": "finite-probe",
   "metadata": {},
   "source": [
    "Adding to my big dataframe"
   ]
  },
  {
   "cell_type": "code",
   "execution_count": null,
   "id": "governmental-yahoo",
   "metadata": {},
   "outputs": [],
   "source": [
    "frames = [list_to_frames7 ,result] \n",
    "result2 = pd.concat(frames)\n",
    "#result2['upper_sample_mean_pixels']= 'pending'\n",
    "#result2['np_mean_pixels']= 'pending'\n"
   ]
  },
  {
   "cell_type": "code",
   "execution_count": null,
   "id": "pharmaceutical-commercial",
   "metadata": {},
   "outputs": [],
   "source": []
  },
  {
   "cell_type": "markdown",
   "id": "golden-kennedy",
   "metadata": {},
   "source": [
    "Adding info to dataframe "
   ]
  },
  {
   "cell_type": "code",
   "execution_count": null,
   "id": "cardiac-parks",
   "metadata": {},
   "outputs": [],
   "source": [
    "result2['np_mean_pixels'] = pd.Series(\n",
    "    np.mean(cv2.imread(f, cv2.IMREAD_GRAYSCALE))\n",
    "    for f in result2[0]\n",
    ")\n",
    "result2['np_mean_pixels']"
   ]
  },
  {
   "cell_type": "code",
   "execution_count": null,
   "id": "drawn-elizabeth",
   "metadata": {},
   "outputs": [],
   "source": [
    "# most images about 2500 tall, so 300 is about 12%\n",
    "result2['np_mean_upper_300'] = pd.Series(\n",
    "    np.mean(cv2.imread(f, cv2.IMREAD_GRAYSCALE)[0:300, :])\n",
    "    for f in result2[0]\n",
    ")\n",
    "result2['np_mean_upper_300']"
   ]
  },
  {
   "cell_type": "code",
   "execution_count": null,
   "id": "third-repeat",
   "metadata": {},
   "outputs": [],
   "source": [
    "# # TAlk to Oleg to make upper 10 percent\n",
    "# g\n",
    "# result2['np_mean_upper_p10p'] = pd.Series(\n",
    "#     np.mean(cv2.imread(f, cv2.IMREAD_GRAYSCALE)[0:(0.1*g.shape[0]), :])\n",
    "#     for f in result2[0]\n",
    "# )\n",
    "# result2['np_mean_upper_p10p']#write one for np mean of upper 10 percent"
   ]
  },
  {
   "cell_type": "markdown",
   "id": "ignored-cloud",
   "metadata": {},
   "source": [
    "## Algorithms for data cleaning"
   ]
  },
  {
   "cell_type": "markdown",
   "id": "orange-smith",
   "metadata": {},
   "source": [
    "The function find_by_sample_upper picks off anything in the percent height you give that is greater than a certain value by mean. For the dataframe of experiment it is algorithm A."
   ]
  },
  {
   "cell_type": "code",
   "execution_count": null,
   "id": "tough-wisconsin",
   "metadata": {},
   "outputs": [],
   "source": [
    "def find_by_sample_upper(source_directory, percent_height_of_sample,  value_for_line):\n",
    "    suspects = glob.glob(os.path.join(source_directory, '*.jpg'))\n",
    "    estimates, piclist = [],[]\n",
    "    for pic in suspects:\n",
    "        piclist.append(pic)\n",
    "        example = cv2.imread(pic, cv2.IMREAD_GRAYSCALE)\n",
    "        height = example.shape[0]\n",
    "        height_of_sample = int((percent_height_of_sample / 100)* height)\n",
    "        estimates.append(np.mean(example[0:height_of_sample, :]))\n",
    "        lovereturn = pd.DataFrame({'images': piclist, 'estimates_b_find_by_sample_upper': estimates})\n",
    "        lovereturn['where']= 'less'\n",
    "        #lovereturn['where'][lovereturn.estimates_b_find_by_sample_upper >= value_for_line] = 'same or more'\n",
    "        lovereturn.loc[lovereturn.estimates_b_find_by_sample_upper >= value_for_line,'where'] = 'same or more'\n",
    "      \n",
    "        \n",
    "    return lovereturn"
   ]
  },
  {
   "cell_type": "code",
   "execution_count": null,
   "id": "dressed-firewall",
   "metadata": {},
   "outputs": [],
   "source": [
    "find_by_sample_upper('D:/projects/cleanX/test/directory', 10,  50)"
   ]
  },
  {
   "cell_type": "markdown",
   "id": "certified-region",
   "metadata": {},
   "source": [
    "The function find_sample_upper_greater_than_lower allows you to pick a top and bottom percent of the image, then compare. In a normal chest X-ray top should be darker than bottom (neck is narrower than waist). For the dataframe of experiment it is algorithm B."
   ]
  },
  {
   "cell_type": "code",
   "execution_count": null,
   "id": "perceived-stroke",
   "metadata": {},
   "outputs": [],
   "source": []
  },
  {
   "cell_type": "code",
   "execution_count": null,
   "id": "rubber-substitute",
   "metadata": {},
   "outputs": [],
   "source": [
    "def find_sample_upper_greater_than_lower(source_directory, percent_height_of_sample):\n",
    "    estup, estdown, piclist = [], [], []\n",
    "    suspects = glob.glob(os.path.join(source_directory, '*.jpg'))\n",
    "    for pic in suspects:\n",
    "        piclist.append(pic)\n",
    "        example = cv2.imread(pic, cv2.IMREAD_GRAYSCALE)\n",
    "        height = example.shape[0]\n",
    "        height_of_sample = int((percent_height_of_sample / 100) * height)\n",
    "        estup.append(np.mean(example[0:height_of_sample, :]))\n",
    "        estdown.append(np.mean(example[(height - height_of_sample):height, :]))\n",
    "    love = pd. DataFrame({'images': piclist,'estup': estup, 'estdown': estdown})  \n",
    "    love['which_greater'] = 'upper less'\n",
    "    love.loc[love.estup > love.estdown, 'which_greater'] = 'upper more'\n",
    "    return love    \n",
    "#         "
   ]
  },
  {
   "cell_type": "code",
   "execution_count": null,
   "id": "neural-going",
   "metadata": {},
   "outputs": [],
   "source": [
    "find_sample_upper_greater_than_lower('D:/projects/cleanX/test/directory', 50)"
   ]
  },
  {
   "cell_type": "markdown",
   "id": "exempt-veteran",
   "metadata": {},
   "source": [
    "The function find_outliers_by_total_mean compares the mean of pixel values in images and finds outliers. For the experiment this is algorithm C."
   ]
  },
  {
   "cell_type": "code",
   "execution_count": null,
   "id": "historical-violence",
   "metadata": {},
   "outputs": [],
   "source": [
    "def find_outliers_by_total_mean(source_directory, percentage_to_say_outliers):\n",
    "        \"\"\"\n",
    "        Args:\n",
    "        source_directory: directory with image files (should be more than 20)\n",
    "        percentage_to_say_outliers: a number which will be the percentage of images contained in \n",
    "        the high mean and low mean sets\n",
    "    \n",
    "        Returns:\n",
    "        lows,highs: images with low mean, images with high mean\n",
    "        \"\"\"\n",
    "        suspects = glob.glob(os.path.join(source_directory, '*.jpg'))\n",
    "        images, means = [], []\n",
    "        for pic in suspects:\n",
    "            example = cv2.imread(pic, cv2.IMREAD_GRAYSCALE)\n",
    "            mean = np.mean(example)\n",
    "            images.append(pic)\n",
    "            means.append(mean)\n",
    "        df = pd.DataFrame({'images': images, 'means': means})\n",
    "        df.sort_values(by='means', inplace=True)\n",
    "        percentile = int((len(df) / 100) * percentage_to_say_outliers)\n",
    "        lows = df.head(percentile)\n",
    "        highs = df.tail(percentile)\n",
    "        return (lows,highs)\n",
    "    "
   ]
  },
  {
   "cell_type": "code",
   "execution_count": null,
   "id": "likely-particle",
   "metadata": {},
   "outputs": [],
   "source": [
    "def find_outliers_by_mean_to_df(source_directory, percentage_to_say_outliers):\n",
    "        \"\"\"\n",
    "        Important note: approximate, and it can by chance cut the group so images with \n",
    "        the same mean are in and out of normal range if the knife so falls\n",
    "        \n",
    "        Args:\n",
    "        source_directory: directory with image files (should be more than 20)\n",
    "        percentage_to_say_outliers: a number which will be the percentage of images contained in \n",
    "        the high mean OR low mean sets- note if you set to 50, then all images will be high or low\n",
    "    \n",
    "        Returns:\n",
    "        lows,highs: images with low mean, images with high mean into a dataframe\n",
    "        \"\"\"\n",
    "        suspects = glob.glob(os.path.join(source_directory, '*.jpg'))\n",
    "        images, means = [], []\n",
    "        for pic in suspects:\n",
    "            example = cv2.imread(pic, cv2.IMREAD_GRAYSCALE)\n",
    "            mean = np.mean(example)\n",
    "            images.append(pic)\n",
    "            means.append(mean)\n",
    "        df = pd.DataFrame({'images': images, 'means': means})\n",
    "        df.sort_values(by='means', inplace=True)\n",
    "        df.reset_index(inplace=True, drop=True)\n",
    "        percentile = int((len(df) / 100) * percentage_to_say_outliers)\n",
    "        #lows = df.head(percentile)\n",
    "        #highs = df.tail(percentile)\n",
    "        df['results'] = 'within range'\n",
    "        df.loc[:percentile, 'results'] = 'low'\n",
    "        df.loc[len(df) - percentile:, 'results'] = 'high'\n",
    "        #whole = [lows, highs]\n",
    "        #new_df= pd.concat(whole)\n",
    "        return(df)\n",
    "    "
   ]
  },
  {
   "cell_type": "code",
   "execution_count": null,
   "id": "stainless-middle",
   "metadata": {},
   "outputs": [],
   "source": [
    "find_outliers_by_mean_to_df('D:/my_academia/dataset/NUCLEAR_TO',25)"
   ]
  },
  {
   "cell_type": "markdown",
   "id": "computational-platform",
   "metadata": {},
   "source": [
    "The function check_paths_for_group_leakage checks the train and test dataframes to make sure there are no listings of shared images"
   ]
  },
  {
   "cell_type": "code",
   "execution_count": null,
   "id": "liquid-purple",
   "metadata": {},
   "outputs": [],
   "source": [
    "def check_paths_for_group_leakage(train_df, test_df, uniqueID):\n",
    "    \"\"\"\n",
    "    Args:\n",
    "        train_df (dataframe): dataframe describing train dataset\n",
    "        test_df (dataframe): dataframe describing test dataset\n",
    "        uniqueID (str): string name of column with image ID, patient IDs or some other unique ID that is in all dfs\n",
    "    \n",
    "    Returns:\n",
    "        pics_in_both_groups: duplications of any image into both sets as a new dataframe\n",
    "    \"\"\"\n",
    "    \n",
    "    pics_in_both_groups = train_df.merge(test_df, on = uniqueID, how='inner')\n",
    "    return pics_in_both_groups"
   ]
  },
  {
   "cell_type": "code",
   "execution_count": null,
   "id": "alert-warrant",
   "metadata": {},
   "outputs": [],
   "source": [
    "roho_example = check_paths_for_group_leakage(lists_to_frames2, result,'image_path' )\n",
    "print(type(roho_example))\n",
    "print(len(roho_example))"
   ]
  },
  {
   "cell_type": "code",
   "execution_count": null,
   "id": "bronze-shuttle",
   "metadata": {},
   "outputs": [],
   "source": [
    "test_df"
   ]
  },
  {
   "cell_type": "code",
   "execution_count": null,
   "id": "played-refund",
   "metadata": {},
   "outputs": [],
   "source": [
    "train_dfE = 'D:/projects/cleanX/test/directory/train_sample_df.csv'\n",
    "test_dfE = 'D:/projects/cleanX/test/directory/test_sample_df.csv'\n",
    "train_df= pd.read_csv(train_dfE)\n",
    "test_df = pd.read_csv(test_dfE)\n",
    "#uniqueIDE = 'image_path'\n",
    "check_paths_for_group_leakage(train_df, test_df, 'image_path')"
   ]
  },
  {
   "cell_type": "code",
   "execution_count": null,
   "id": "proved-alias",
   "metadata": {},
   "outputs": [],
   "source": [
    "def test_check_paths_for_group_leakage():\n",
    "    train_dfE = (os.path.join(image_directory,'train_sample_df.csv'))\n",
    "    test_dfE = (os.path.join(image_directory,'test_sample_df.csv'))\n",
    "    train_df= pd.read_csv(train_dfE)\n",
    "    test_df = pd.read_csv(test_dfE)\n",
    "    uniqueIDE = 'image_path'\n",
    "    checked_example = cleanX.check_paths_for_group_leakage(train_df, test_df, uniqueIDE)\n",
    "    #assert len(checked_example) > 1 \n"
   ]
  },
  {
   "cell_type": "markdown",
   "id": "continent-tobacco",
   "metadata": {},
   "source": [
    "The function seperate_image_averger applies an averaging to a shrunken version of all images in a set to make a protoype small image of height s and width s.  For the experiment this is algorithm D."
   ]
  },
  {
   "cell_type": "code",
   "execution_count": null,
   "id": "statutory-lucas",
   "metadata": {},
   "outputs": [],
   "source": [
    "def seperate_image_averger(set_of_images, s=5 ):\n",
    "    canvas = np.zeros((s, s))\n",
    "    for example in set_of_images:\n",
    "        example = cv2.imread(example, cv2.IMREAD_GRAYSCALE)\n",
    "        example_small = cv2.resize(example, (s, s))\n",
    "        canvas += np.array(example_small)\n",
    "    return canvas / len(set_of_images)"
   ]
  },
  {
   "cell_type": "code",
   "execution_count": null,
   "id": "continuing-checkout",
   "metadata": {},
   "outputs": [],
   "source": [
    "avg_image = seperate_image_averger(\n",
    "    glob.glob(\n",
    "        'D:/projects/cleanX/test/directory/to_average/*.jpg'\n",
    "    ))\n",
    "plt.imshow(avg_image, cmap = 'gray')"
   ]
  },
  {
   "cell_type": "code",
   "execution_count": null,
   "id": "sealed-court",
   "metadata": {},
   "outputs": [],
   "source": [
    "print(type(avg_image))"
   ]
  },
  {
   "cell_type": "code",
   "execution_count": null,
   "id": "billion-antarctica",
   "metadata": {},
   "outputs": [],
   "source": [
    "avg_image = seperate_image_averger(\n",
    "    glob.glob(\n",
    "        'D:/my_academia/dataset/ranzcr-clip-catheter-line-classification/test37/*.jpg'\n",
    "    ))\n",
    "plt.imshow(avg_image, cmap = 'gray')"
   ]
  },
  {
   "cell_type": "markdown",
   "id": "aggressive-advertising",
   "metadata": {},
   "source": [
    "The function crop crops off extra black padding."
   ]
  },
  {
   "cell_type": "code",
   "execution_count": null,
   "id": "wrapped-typing",
   "metadata": {},
   "outputs": [],
   "source": [
    "sep_images = glob.glob(\n",
    "        'D:/my_academia/dataset/ranzcr-clip-catheter-line-classification/test37/*.jpg'\n",
    "    )\n",
    "shapes = tuple(\n",
    "    (pic, np.array(cv2.imread(pic, cv2.IMREAD_GRAYSCALE)).shape)\n",
    "    for pic in sep_images\n",
    ")\n",
    "p0, s0 = shapes[0]\n",
    "for p1, s1 in shapes:\n",
    "    if s0 != s1:\n",
    "        print('Images of different shapes: {}, {}: {}, {}'.format(p0, s0, p1, s1))"
   ]
  },
  {
   "cell_type": "code",
   "execution_count": null,
   "id": "killing-struggle",
   "metadata": {},
   "outputs": [],
   "source": [
    "def crop_np(image_array):\n",
    "    nonzero = np.nonzero(image_array)\n",
    "    y_nonzero = nonzero[0]\n",
    "    x_nonzero = nonzero[1]\n",
    "    \n",
    "    return image_array[\n",
    "        np.min(y_nonzero):np.max(y_nonzero),\n",
    "        np.min(x_nonzero):np.max(x_nonzero),\n",
    "    ]\n",
    "\n",
    "def crop_pil(image):\n",
    "    mode = image.mode\n",
    "    return Image.fromarray(\n",
    "        crop_np(np.array(image)),\n",
    "        mode=mode,\n",
    "    )\n",
    "\n",
    "def crop(image):\n",
    "    if isinstance(image, Image.Image):\n",
    "        return crop_pil(image)\n",
    "    if isinstance(image, np.ndarray):\n",
    "        return crop_np(image)"
   ]
  },
  {
   "cell_type": "code",
   "execution_count": 2,
   "id": "auburn-combining",
   "metadata": {},
   "outputs": [
    {
     "name": "stdout",
     "output_type": "stream",
     "text": [
      "<class 'PIL.Image.Image'>\n"
     ]
    },
    {
     "data": {
      "text/plain": [
       "(200, 200, 4)"
      ]
     },
     "execution_count": 2,
     "metadata": {},
     "output_type": "execute_result"
    }
   ],
   "source": [
    "def simple_rotation_augmentation(angle_list1, image):\n",
    "    \"\"\"\n",
    "    This function takes one picture and rotates is by a number of degress is angle_list1.\n",
    "    This function can be used with the augment_and_move function as follows:\n",
    "    \n",
    "    augment_and_move(\n",
    "        'D:/my_academia/dataset/random_within_domain',\n",
    "        'D:/my_academia/elo',\n",
    "        [partial(simple_rotation_augmentation,5)],\n",
    "    )\n",
    "    \n",
    "    \"\"\"\n",
    "    if isinstance(image, str):\n",
    "        image4R = Image.open(image)\n",
    "    else:\n",
    "        image4R = image\n",
    "    rotated1 = image4R.rotate(angle_list1)\n",
    "    return rotated1# Create an Image object from an Image\n",
    "#sampleImage  = Image.open(\"D:/projects/cleanX/test/cleanXpic.png\")\n",
    "# Rotate it by 5 degrees\n",
    "#rotated = sampleImage.rotate(5)\n",
    "\n",
    "\n",
    "#sampleImage.show()\n",
    "# Display the Image rotated by 45 degrees\n",
    "#rotated.show()\n",
    "\n",
    " \n",
    "love = simple_rotation_augmentation(5.5553254, \"D:/projects/cleanX/test/cleanXpic.png\")\n",
    "print(type(love))\n",
    "np.array(love).shape"
   ]
  },
  {
   "cell_type": "code",
   "execution_count": null,
   "id": "junior-training",
   "metadata": {},
   "outputs": [],
   "source": [
    "angle1 = -1\n",
    "angle2 = 5\n",
    "number_slices =10\n",
    "angle1f = float(angle1)\n",
    "angle2f = float(angle2)\n",
    "number_slicesf =float(number_slices)\n",
    "increment= abs(angle1f-angle2f)/number_slicesf\n",
    "    \n",
    "num_list = np.arange(angle1f, angle2f,  increment)\n",
    "print(num_list)"
   ]
  },
  {
   "cell_type": "code",
   "execution_count": 16,
   "id": "disturbed-workshop",
   "metadata": {},
   "outputs": [],
   "source": [
    "import numpy as np\n",
    "def reasonable_rotation_augmentation(angle1, angle2, number_slices, image):\n",
    "    \n",
    "    increment= abs(angle1-angle2)/number_slices\n",
    "    \n",
    "    angle1f = float(angle1)\n",
    "    angle2f = float(angle2)\n",
    "    number_slicesf =float(number_slices)\n",
    "    increment= abs(angle1f-angle2f)/number_slicesf\n",
    "    \n",
    "    num_list = np.arange(angle1f, angle2f,  increment)\n",
    "    \n",
    "    image4R = Image.open(image)\n",
    "\n",
    "    #elements = []\n",
    "    augmentos = []\n",
    "    for i in num_list: \n",
    "        augmentos.append(image4R.rotate(i))\n",
    "        \n",
    "    return augmentos\n",
    " \n"
   ]
  },
  {
   "cell_type": "code",
   "execution_count": 17,
   "id": "substantial-evaluation",
   "metadata": {},
   "outputs": [],
   "source": [
    "def rotation_aug2_folder(angle1, angle2, number_slices, origin_folder, target_folder):\n",
    "    suspects = glob.glob(os.path.join(origin_folder, '*.jpg'))\n",
    "    increment= abs(angle1-angle2)/number_slices\n",
    "    angle1f = float(angle1)\n",
    "    angle2f = float(angle2)\n",
    "    number_slicesf =float(number_slices)\n",
    "    increment= abs(angle1f-angle2f)/number_slicesf\n",
    "    num_list = np.arange(angle1f, angle2f,  increment)\n",
    "    augmentos = []\n",
    "    for pic in suspects:\n",
    "        image4R = cv2.imread(pic, cv2.IMREAD_GRAYSCALE)  \n",
    "        augmentos.append(image4R)\n",
    "        #for i in num_list: \n",
    "                #augmentos.append(image4R.rotate(i))\n",
    "    return augmentos        \n",
    "        #augmentos.save(os.path.join(target_folder, augmentos + \".jpg\"))\n",
    "        \n",
    "        #return augmentos"
   ]
  },
  {
   "cell_type": "code",
   "execution_count": null,
   "id": "local-estate",
   "metadata": {},
   "outputs": [],
   "source": [
    "feeder_image = Image.open(\"D:/projects/cleanX/test/cleanXpic.png\")\n",
    "love = rotation_aug2_folder(-9,5.555, 13, \"D:/projects/cleanX/test\", \"D:/my_academia/elo\")\n",
    "#print(type(love))\n",
    "print(type(love))\n",
    "love\n",
    "#plt.imshow(np.array(love))"
   ]
  },
  {
   "cell_type": "code",
   "execution_count": null,
   "id": "small-leader",
   "metadata": {},
   "outputs": [],
   "source": [
    "print(type(love[3]))\n",
    "np.array(feeder_image).shape"
   ]
  },
  {
   "cell_type": "code",
   "execution_count": null,
   "id": "posted-absence",
   "metadata": {},
   "outputs": [],
   "source": [
    "pic = \"D:/projects/cleanX/test/cleanXpic.png\"\n",
    "image = cv2.imread(pic, cv2.IMREAD_GRAYSCALE)\n",
    "# loop over the rotation angles\n",
    "image2\n",
    "# loop over the rotation angles again, this time ensuring\n",
    "# no part of the image is cut off\n"
   ]
  },
  {
   "cell_type": "code",
   "execution_count": null,
   "id": "handed-sampling",
   "metadata": {},
   "outputs": [],
   "source": [
    "for angle in np.arange(0, 360, 15):\n",
    "\trotated = imutils.rotate_bound(image, angle)\n",
    "\tcv2.imshow(\"Rotated (Correct)\", rotated)\n",
    "\tcv2.waitKey(0)"
   ]
  },
  {
   "cell_type": "code",
   "execution_count": null,
   "id": "physical-franchise",
   "metadata": {},
   "outputs": [],
   "source": [
    "# crop of padding of every image in a folder and move to another folder\n",
    "## def crop_in_folder(directory):\n",
    "##     suspects = glob.glob(os.path.join(directory, '*.jpg'))\n",
    "##     for pic in suspects:\n",
    "##         example = cv2.imread(pic, cv2.IMREAD_GRAYSCALE)\n",
    "##         example_clipped = crop(example)\n",
    "def crop_and_move(origin_folder, target_folder): #, transformations):\n",
    "    non_suspects = glob.glob(os.path.join(origin_folder, '*.jpg'))\n",
    "    for picy in non_suspects:\n",
    "        example = Image.open(picy)\n",
    "        novo = os.path.basename(picy)\n",
    "        \n",
    "        example = crop(example)\n",
    "        example.save(os.path.join(target_folder, novo + \".jpg\"))"
   ]
  },
  {
   "cell_type": "code",
   "execution_count": null,
   "id": "conservative-smile",
   "metadata": {},
   "outputs": [],
   "source": [
    "crop_and_move('D:/my_academia/dataset/NUCLEAR_TO','D:/my_academia/dataset/exp')"
   ]
  },
  {
   "cell_type": "markdown",
   "id": "adjustable-fishing",
   "metadata": {},
   "source": [
    "The function find_tiny_image_differences examines differences between a members of a set of images in the directory made small(default size is 5 ), and an average image obtained by seperate_image_averger .  For the experiment this is algorithm E."
   ]
  },
  {
   "cell_type": "code",
   "execution_count": null,
   "id": "ordered-picture",
   "metadata": {},
   "outputs": [],
   "source": [
    "def find_tiny_image_differences(directory, s=5, percentile=8): \n",
    "    \"\"\"\n",
    "    Note: percentile returned is approximate, may be a tad more \n",
    "    Args:\n",
    "        directory: directory of all the images you want to compare\n",
    "        s: size of image sizes to compare\n",
    "        percentile: what percentage you want to return\n",
    "    Returns:\n",
    "        difference_outliers: outliers in terms of difference from an average image\n",
    "    \"\"\"\n",
    "    suspects = glob.glob(os.path.join(directory, '*.jpg'))\n",
    "    avg_image = seperate_image_averger(suspects, s)#np.zeros((5, 5)) + 128\n",
    "    images, sums = [], []\n",
    "    for pic in suspects:\n",
    "        example = cv2.imread(pic, cv2.IMREAD_GRAYSCALE)\n",
    "        example_clipped = crop(example)\n",
    "        example_small = cv2.resize(example_clipped, (s, s))\n",
    "        experiment_a = (example_small - avg_image) ** 2   \n",
    "        experiment_sum = experiment_a.sum()\n",
    "        images.append(pic)\n",
    "        sums.append(experiment_sum)\n",
    "    df = pd.DataFrame({'images': images, 'sums': sums})\n",
    "    df.sort_values('sums', inplace=True, ignore_index=True)\n",
    "    df.reset_index(inplace=True, drop=True)\n",
    "    #return df.tail(int((len(df) / 100) * percentile))\n",
    "    #df.loc((int((len(df) / 100) * percentile): ) = True\n",
    "    df['results'] = 'within range'\n",
    "    df.loc[int((len(df) / 100) * (100 - percentile)):, 'results'] = 'mismatch'\n",
    "    #df.loc[len(df) - percentile:, 'results'] = 'high'\n",
    "    return df         "
   ]
  },
  {
   "cell_type": "code",
   "execution_count": null,
   "id": "pressed-chamber",
   "metadata": {},
   "outputs": [],
   "source": [
    "# lovers = find_tiny_image_differences(\n",
    "#     'D:/my_academia/dataset/big_test_pile',\n",
    "#     2,\n",
    "# )"
   ]
  },
  {
   "cell_type": "code",
   "execution_count": null,
   "id": "graphic-solution",
   "metadata": {},
   "outputs": [],
   "source": [
    "# pd.set_option('max_colwidth', 800)\n",
    "# lovers.reset_index(inplace=True, drop=True)\n",
    "# lovers.tail(80)\n"
   ]
  },
  {
   "cell_type": "code",
   "execution_count": null,
   "id": "matched-medication",
   "metadata": {},
   "outputs": [],
   "source": [
    "# lotus = lovers[lovers.results == 'within range']\n",
    "# opplotus = lovers[lovers.results == 'mismatch']"
   ]
  },
  {
   "cell_type": "code",
   "execution_count": null,
   "id": "stuck-solomon",
   "metadata": {},
   "outputs": [],
   "source": [
    "# pd.set_option('max_colwidth', 800)\n",
    "# lotus"
   ]
  },
  {
   "cell_type": "code",
   "execution_count": null,
   "id": "russian-classification",
   "metadata": {},
   "outputs": [],
   "source": [
    "#opplotus"
   ]
  },
  {
   "cell_type": "markdown",
   "id": "assured-winter",
   "metadata": {},
   "source": [
    "The function show_images_in_df plots images in a dataframe of the type made by the function find_tiny_image_differences, but it must take an iterable object i.e. iter_ob, the column with file names and the number of alphanumeric charecters of the file name to print (some file names are too long to print the whole thing)"
   ]
  },
  {
   "cell_type": "code",
   "execution_count": null,
   "id": "under-pursuit",
   "metadata": {},
   "outputs": [],
   "source": [
    "\n",
    "def show_images_in_df(iter_ob, legnth_name):\n",
    "    \"\"\"\n",
    "    Args:\n",
    "        iter_ob: should be list(df.column)\n",
    "        legnth_name: size of image name going from end\n",
    "    Returns: plot of images with names    \n",
    "        \"\"\"\n",
    "    \n",
    "    \n",
    "    width = int(math.sqrt(len(iter_ob)))\n",
    "    height = int(math.ceil(len(iter_ob) / width))\n",
    "    f, axarr = plt.subplots(width, height, figsize=(14, 14))\n",
    "    if width > 1:\n",
    "        for x in range(width):\n",
    "            for y in range(height):\n",
    "                element = iter_ob[x * width + y]\n",
    "                fname = os.path.splitext(element)[0]\n",
    "                title = fname[-legnth_name:]\n",
    "                exop = cv2.imread(element, cv2.IMREAD_GRAYSCALE)\n",
    "                axarr[x, y].set_title(title)\n",
    "                axarr[x, y].imshow(exop, cmap='gray')\n",
    "                \n",
    "\n",
    "    else:\n",
    "        for y in range(height):\n",
    "            element = iter_ob[y]\n",
    "            exop = cv2.imread(element, cv2.IMREAD_GRAYSCALE)\n",
    "            fname = os.path.splitext(element)[0]\n",
    "            title = fname[-legnth_name:]\n",
    "            axarr[y].set_title(title) \n",
    "            axarr[y].imshow(exop, cmap='gray')\n",
    "                    \n",
    "    #plt.title('Outlier images')        \n",
    "    return plt.show()"
   ]
  },
  {
   "cell_type": "markdown",
   "id": "aquatic-webmaster",
   "metadata": {},
   "source": [
    "Example of show_images_in_df:, commented out... may need work so it doesn't show tiny images"
   ]
  },
  {
   "cell_type": "code",
   "execution_count": null,
   "id": "unable-mount",
   "metadata": {},
   "outputs": [],
   "source": [
    "love = show_images_in_df(lists_to_frames3.image_path, 20)"
   ]
  },
  {
   "cell_type": "code",
   "execution_count": null,
   "id": "substantial-subsection",
   "metadata": {},
   "outputs": [],
   "source": [
    "print(type(love))"
   ]
  },
  {
   "cell_type": "code",
   "execution_count": null,
   "id": "above-thought",
   "metadata": {},
   "outputs": [],
   "source": []
  },
  {
   "cell_type": "markdown",
   "id": "romance-drawing",
   "metadata": {},
   "source": [
    "The function tesseract_specific will do optical charecter recognition. For this experiment it will be algorithm X. "
   ]
  },
  {
   "cell_type": "code",
   "execution_count": null,
   "id": "automotive-sussex",
   "metadata": {},
   "outputs": [],
   "source": [
    "def tesseract_specific(directory):\n",
    "\n",
    "    suspects = glob.glob(os.path.join(directory, '*.jpg'))\n",
    "    texts,clean_texts, confidences = [], [], []\n",
    "\n",
    "    with PyTessBaseAPI() as api:\n",
    "        for pic in suspects:\n",
    "            api.SetImageFile(pic)\n",
    "            texts.append(api.GetUTF8Text())\n",
    "           # bummers= ['\\n', '\\n\\n']\n",
    "            ctext = api.GetUTF8Text().strip()\n",
    "            dctext = ctext.strip()\n",
    "            clean_texts.append(dctext)\n",
    "            #confidences.append(api.AllWordConfidences())\n",
    "    df = pd.DataFrame({\n",
    "        'images': suspects,\n",
    "        'text': texts,\n",
    "        'clean_text':clean_texts,\n",
    "        #'confidence': confidences,\n",
    "    })\n",
    "    return df"
   ]
  },
  {
   "cell_type": "code",
   "execution_count": null,
   "id": "incorporate-lloyd",
   "metadata": {},
   "outputs": [],
   "source": [
    "## example\n",
    "#tesseract_specific('D:/my_academia/dataset/NUCLEAR_TO')"
   ]
  },
  {
   "cell_type": "markdown",
   "id": "upper-devon",
   "metadata": {},
   "source": [
    "The function find_suspect_text finds images with text you specify, and shows filename and text"
   ]
  },
  {
   "cell_type": "code",
   "execution_count": null,
   "id": "configured-danish",
   "metadata": {},
   "outputs": [],
   "source": [
    "def find_suspect_text(directory, label_word):\n",
    "\n",
    "\n",
    "    suspects = glob.glob(os.path.join(directory, '*.jpg'))\n",
    "    images,texts, clean_texts= [], [], []\n",
    "\n",
    "    with PyTessBaseAPI() as api:\n",
    "        for pic in suspects:\n",
    "            api.SetImageFile(pic)\n",
    "            texts.append(api.GetUTF8Text())\n",
    "           \n",
    "            ctext = api.GetUTF8Text().strip()\n",
    "           \n",
    "            clean_texts.append(ctext)\n",
    "            images.append(pic)\n",
    "    df = pd.DataFrame({'images': images, 'text': clean_texts})\n",
    "    df = df[df['text'].str.contains(label_word)]\n",
    "    \n",
    "    return df        \n",
    "    "
   ]
  },
  {
   "cell_type": "code",
   "execution_count": null,
   "id": "urban-increase",
   "metadata": {},
   "outputs": [],
   "source": [
    "## example\n",
    "#find_suspect_text('D:/my_academia/dataset/NUCLEAR_TO','SUPINE')"
   ]
  },
  {
   "cell_type": "markdown",
   "id": "otherwise-telling",
   "metadata": {},
   "source": [
    "The function find_suspect_text_by_legnth finds images with text above the legnth you specify, and shows filename and text.  For the experiment this is algorithm G."
   ]
  },
  {
   "cell_type": "code",
   "execution_count": null,
   "id": "digital-sapphire",
   "metadata": {},
   "outputs": [],
   "source": [
    "def find_suspect_text_by_legnth(directory, legnth):\n",
    "    suspects = glob.glob(os.path.join(directory, '*.jpg'))\n",
    "    images,texts, clean_texts= [], [], []\n",
    "    with PyTessBaseAPI() as api:\n",
    "        for pic in suspects:\n",
    "            api.SetImageFile(pic)\n",
    "            texts.append(api.GetUTF8Text())\n",
    "           \n",
    "            ctext = api.GetUTF8Text().strip()\n",
    "           \n",
    "            clean_texts.append(ctext)\n",
    "            images.append(pic)\n",
    "    #n = len(label_word_list)#return grabbed, pic\n",
    "    df = pd.DataFrame({'images': images, 'text': clean_texts})\n",
    "#     if df['text'].str.len() < legnth:\n",
    "#         df['text'] = 'shorter'\n",
    "    yes = df[df['text'].str.len() >= legnth ]\n",
    "    no = df[df['text'].str.len() < legnth ]\n",
    "    no['text']= 'shorter'\n",
    "    df= pd.concat([yes,no])\n",
    "    #df.reset_index(drop=True, inplace=True)\n",
    "    return df"
   ]
  },
  {
   "cell_type": "code",
   "execution_count": null,
   "id": "corporate-shadow",
   "metadata": {},
   "outputs": [],
   "source": [
    "find_suspect_text_by_legnth('D:/my_academia/dataset/NUCLEAR_TO',7)"
   ]
  },
  {
   "cell_type": "markdown",
   "id": "known-helmet",
   "metadata": {},
   "source": [
    "The function histogram_difference_for_inverts is made assuming a pixel scale from the lowest value pixel found to the highest.  This is appropriate for most jpgs and png files made from Xrays where there will be a peak of values representing air.  For the experiment it will be algorithm H"
   ]
  },
  {
   "cell_type": "code",
   "execution_count": null,
   "id": "spatial-aruba",
   "metadata": {},
   "outputs": [],
   "source": [
    "def histogram_difference_for_inverts(directory):\n",
    "    \n",
    "    suspects = glob.glob(os.path.join(directory, '*.jpg'))\n",
    "    regulars, inverts, unclear = [],[], []\n",
    "    for pic in suspects:\n",
    "        example = cv2.imread(pic, cv2.IMREAD_GRAYSCALE)\n",
    "        lows =np.count_nonzero(example < (example.min()+11))\n",
    "        highs =np.count_nonzero(example > (example.max()-11))\n",
    "        if lows > highs:\n",
    "            regulars.append(pic)\n",
    "        elif highs >lows:\n",
    "            inverts.append(pic)\n",
    "        else:    \n",
    "            unclear.append(pic)\n",
    "           \n",
    "    return inverts        \n"
   ]
  },
  {
   "cell_type": "code",
   "execution_count": null,
   "id": "narrative-mineral",
   "metadata": {},
   "outputs": [],
   "source": [
    "should =histogram_difference_for_inverts('D:/projects/cleanX/test/directory')\n",
    "#histogram_difference_for_inverts('D:/my_academia/dataset/inverted_images')\n",
    "print(type(should))"
   ]
  },
  {
   "cell_type": "code",
   "execution_count": null,
   "id": "treated-declaration",
   "metadata": {},
   "outputs": [],
   "source": [
    "def histogram_difference_for_inverts_todf(directory):\n",
    "    \n",
    "    suspects = glob.glob(os.path.join(directory, '*.jpg'))\n",
    "    regulars, inverts, unclear = [],[], []\n",
    "    for pic in suspects:\n",
    "        example = cv2.imread(pic, cv2.IMREAD_GRAYSCALE)\n",
    "        lows =np.count_nonzero(example < (example.min()+11))\n",
    "        highs =np.count_nonzero(example > (example.max()-11))\n",
    "        if lows > highs:\n",
    "            regulars.append(pic)\n",
    "        elif highs > lows:\n",
    "            inverts.append(pic)\n",
    "        else:    \n",
    "            unclear.append(pic)\n",
    "            \n",
    "    dfr = pd.DataFrame(regulars)\n",
    "    dfr['label'] = 'regular'   \n",
    "    dfh = pd.DataFrame(inverts)\n",
    "    dfh['label'] = 'inverts' \n",
    "    dfl = pd.DataFrame(unclear)\n",
    "    dfl['label'] = 'unclear' \n",
    "    df = pd.concat([dfr,dfh,dfl])\n",
    "    df = df.rename(columns= {0:'image', 'label':'label'})\n",
    "    return df  "
   ]
  },
  {
   "cell_type": "code",
   "execution_count": null,
   "id": "binary-detective",
   "metadata": {},
   "outputs": [],
   "source": [
    "inverted =histogram_difference_for_inverts_todf('D:/my_academia/dataset/augmented_to_inverted')\n",
    "regulars = histogram_difference_for_inverts_todf('D:/my_academia/dataset/augment_to_veritcal_flipmirror')"
   ]
  },
  {
   "cell_type": "code",
   "execution_count": null,
   "id": "interior-world",
   "metadata": {},
   "outputs": [],
   "source": [
    "print(inverted)"
   ]
  },
  {
   "cell_type": "code",
   "execution_count": null,
   "id": "intimate-access",
   "metadata": {},
   "outputs": [],
   "source": [
    "print(\"inverts: \", len(inverted[inverted.label == 'inverts']), \"of\" , len(inverted))\n",
    "print(\"regs\",len(regulars[regulars.label == 'inverts']), \"of\", len(regulars))"
   ]
  },
  {
   "cell_type": "markdown",
   "id": "forced-constitutional",
   "metadata": {},
   "source": [
    "The function find_duplicated_images finds duplicated images , and will be algorithm I for the experiment"
   ]
  },
  {
   "cell_type": "code",
   "execution_count": null,
   "id": "designing-target",
   "metadata": {},
   "outputs": [],
   "source": [
    "def find_duplicated_images(directory):\n",
    "    picture_directory = Path(directory)\n",
    "    files = sorted(os.listdir(picture_directory))\n",
    "    duplicates = []\n",
    "    class_list= []\n",
    "    # comparison of the files\n",
    "    for file in files:\n",
    "\n",
    "        is_duplicate = False\n",
    "\n",
    "        for class_ in duplicates:\n",
    "            is_duplicate = filecmp.cmp(\n",
    "                picture_directory / file,\n",
    "                picture_directory / class_[0],\n",
    "                shallow = False\n",
    "            )\n",
    "            if is_duplicate:\n",
    "                class_list.append(file)\n",
    "                break\n",
    "\n",
    "        if not is_duplicate:\n",
    "            duplicates.append([file])     \n",
    "  \n",
    "    return class_list"
   ]
  },
  {
   "cell_type": "code",
   "execution_count": null,
   "id": "apart-pharmaceutical",
   "metadata": {},
   "outputs": [],
   "source": [
    "#import filecmp\n",
    "def find_duplicated_images_todf(directory):\n",
    "    picture_directory = Path(directory)\n",
    "    files = sorted(os.listdir(picture_directory))\n",
    "    duplicates, class_list = [] , []\n",
    "    #class_list= []\n",
    "    # comparison of the files\n",
    "    for file in files:\n",
    "\n",
    "        is_duplicate = False\n",
    "\n",
    "        for class_ in duplicates:\n",
    "            is_duplicate = filecmp.cmp(\n",
    "                picture_directory / file,\n",
    "                picture_directory / class_[0],\n",
    "                shallow = False\n",
    "            )\n",
    "            if is_duplicate:\n",
    "                class_list.append(file)\n",
    "                break\n",
    "\n",
    "        if not is_duplicate:\n",
    "            duplicates.append([file]) \n",
    "    df = pd.DataFrame(duplicates)#, columns = 'image_name' ) \n",
    "    df['status'] = 'not duped'\n",
    "    df= df.rename(columns = {0:'images'})\n",
    "    pdf = pd.DataFrame(class_list)        \n",
    "    pdf['status'] = 'duplicated'\n",
    "    pdf= pdf.rename(columns = {0:'images'})\n",
    "    final_df = pd.concat([df, pdf])\n",
    "    final_df.reset_index(drop=True, inplace=True)\n",
    "    #final_df = final_df.reset_index(inplace=True, drop = False)\n",
    "  \n",
    "    #return class_list\n",
    "    #return duplicates\n",
    "    return final_df"
   ]
  },
  {
   "cell_type": "code",
   "execution_count": null,
   "id": "moral-preview",
   "metadata": {},
   "outputs": [],
   "source": [
    "def dataframe_up_my_pics(directory, diagnosis_string):\n",
    "    picture_directory = Path(directory)\n",
    "    files = sorted(os.listdir(picture_directory))\n",
    "    dupli = []\n",
    "    for file in files:\n",
    "        dupli.append(file)\n",
    "    df = pd.DataFrame(dupli)\n",
    "    df['diagnosis'] = diagnosis_string\n",
    "    df = df.rename(columns={0:'identifier_pic_name'})\n",
    "    return df"
   ]
  },
  {
   "cell_type": "code",
   "execution_count": null,
   "id": "printable-corpus",
   "metadata": {},
   "outputs": [],
   "source": [
    "dataframe_up_my_pics('D:/my_academia/dataset/augmented_to_inverted', 'diagnosing')"
   ]
  },
  {
   "cell_type": "markdown",
   "id": "coastal-provincial",
   "metadata": {},
   "source": [
    " ## Experimental results over datasets"
   ]
  },
  {
   "cell_type": "markdown",
   "id": "broadband-chassis",
   "metadata": {},
   "source": [
    "### Understanding constructed dataset"
   ]
  },
  {
   "cell_type": "code",
   "execution_count": null,
   "id": "hairy-fighter",
   "metadata": {},
   "outputs": [],
   "source": [
    "print(\"The dataset is\", len(result2), \"number of pictures with data.\\n\",\n",
    "     \"The dataset cotains \", result2.problem.unique(), \"types of pictures\\n\",\n",
    "     \"This means there are\", len(result2.problem.unique()), \"types\" )"
   ]
  },
  {
   "cell_type": "markdown",
   "id": "regional-diversity",
   "metadata": {},
   "source": [
    " Note none and random within domain are types that are almost the same. \n",
    "They should have no problems, however random within domain are picked at random. \n",
    "None were not. \n",
    " Leaked refers to leaked label by text inside the images."
   ]
  },
  {
   "cell_type": "code",
   "execution_count": null,
   "id": "alpha-camcorder",
   "metadata": {},
   "outputs": [],
   "source": [
    "result2.problem.value_counts()"
   ]
  },
  {
   "cell_type": "code",
   "execution_count": null,
   "id": "charming-duration",
   "metadata": {},
   "outputs": [],
   "source": [
    "result2.problem.value_counts().sum()"
   ]
  },
  {
   "cell_type": "markdown",
   "id": "perceived-dollar",
   "metadata": {},
   "source": [
    "### There are no longer1000 images within the dataset (result2). The old result2 was 1000, and 0.3% have leaked label text, 2.67% are inverted, 2.56% are changed in orientation. This represents a realistic task in terms of cleaning X-rays. Problems X-rays are anomalous occurences. In thats dataset they are about 6%. Currently running a new 872 image folder/set"
   ]
  },
  {
   "cell_type": "code",
   "execution_count": null,
   "id": "aware-transsexual",
   "metadata": {},
   "outputs": [],
   "source": [
    "# move everthing here into one folder"
   ]
  },
  {
   "cell_type": "code",
   "execution_count": null,
   "id": "widespread-stranger",
   "metadata": {},
   "outputs": [],
   "source": [
    "# take dataset from folder instead, which should have a simpler csv"
   ]
  },
  {
   "cell_type": "code",
   "execution_count": null,
   "id": "acknowledged-shareware",
   "metadata": {},
   "outputs": [],
   "source": [
    "result2.head(5)"
   ]
  },
  {
   "cell_type": "code",
   "execution_count": null,
   "id": "instant-karma",
   "metadata": {},
   "outputs": [],
   "source": [
    "\n",
    "# import pathlib\n",
    "# for path in pathlib.Path(\"D:/my_academia/dataset/augmented_to_inverted\").iterdir():\n",
    "\n",
    "#     if path.is_file():\n",
    "\n",
    "#         old_name = path.stem\n",
    "#         old_extension = path.suffix\n",
    "#         directory = path.parent\n",
    "#         new_name = \"invertnewname\" + old_name + old_extension\n",
    "#         path.rename(pathlib.Path(directory, new_name))"
   ]
  },
  {
   "cell_type": "code",
   "execution_count": null,
   "id": "allied-career",
   "metadata": {},
   "outputs": [],
   "source": [
    "# print(old_name)"
   ]
  },
  {
   "cell_type": "code",
   "execution_count": null,
   "id": "covered-yorkshire",
   "metadata": {},
   "outputs": [],
   "source": [
    "## blocked out because it would just create duplicates that already exist\n",
    "# for path in pathlib.Path(\"D:/my_academia/dataset/random_double\").iterdir():\n",
    "\n",
    "#     if path.is_file():\n",
    "\n",
    "#         old_name = path.stem\n",
    "#         old_extension = path.suffix\n",
    "#         directory = path.parent\n",
    "#         new_name = \"randomdubname\" + old_name + old_extension\n",
    "#         path.rename(pathlib.Path(directory, new_name))"
   ]
  },
  {
   "cell_type": "code",
   "execution_count": null,
   "id": "identified-angle",
   "metadata": {},
   "outputs": [],
   "source": [
    "result2"
   ]
  },
  {
   "cell_type": "code",
   "execution_count": null,
   "id": "actual-terrain",
   "metadata": {},
   "outputs": [],
   "source": [
    "# for path in pathlib.Path(\"D:/my_academia/dataset/random_doubleflip\").iterdir():\n",
    "\n",
    "#     if path.is_file():\n",
    "\n",
    "#         old_name = path.stem\n",
    "#         old_extension = path.suffix\n",
    "#         directory = path.parent\n",
    "#         new_name = \"randomdubflipname\" + old_name + old_extension\n",
    "#         path.rename(pathlib.Path(directory, new_name))"
   ]
  },
  {
   "cell_type": "code",
   "execution_count": null,
   "id": "heated-finance",
   "metadata": {},
   "outputs": [],
   "source": [
    "# for path in pathlib.Path(\"D:/my_academia/dataset/within_domain_images\").iterdir():\n",
    "\n",
    "#     if path.is_file():\n",
    "\n",
    "#         old_name = path.stem\n",
    "#         old_extension = path.suffix\n",
    "#         directory = path.parent\n",
    "#         new_name = \"withindomainname\" + old_name + old_extension\n",
    "#         path.rename(pathlib.Path(directory, new_name))\n"
   ]
  },
  {
   "cell_type": "code",
   "execution_count": null,
   "id": "viral-techno",
   "metadata": {},
   "outputs": [],
   "source": [
    "# mother_directory= 'D:/my_academia/dataset/NEWxray1000fromRANCZRKaggle'\n",
    "\n",
    "# non_suspects = glob.glob(os.path.join(mother_directory, '*.jpg'))\n",
    "# pic_list = []\n",
    "# for picylo in non_suspects:\n",
    "#     pic_list.append(picylo)\n",
    "    \n",
    "# lists_to_mother_frames = pd.DataFrame(pic_list)\n",
    "# #lists_to_mother_frames['problem_placeholder'] = 'unknown'\n",
    "# lists_to_mother_frames['image_path'] = lists_to_mother_frames[0]    \n",
    "# lists_to_mother_frames['image_name'] = lists_to_mother_frames['image_path'].str.replace('D:/my_academia/dataset/xray1000fromRANCZRKaggle','')\n",
    "\n",
    "# #lists_to_mother_frames['carmichael'] = lists_to_mother_frames[0]\n",
    "# lists_to_mother_frames"
   ]
  },
  {
   "cell_type": "code",
   "execution_count": null,
   "id": "proof-listening",
   "metadata": {},
   "outputs": [],
   "source": [
    "result2['almost_image_name']= result2['image_path'].str.replace('D:/my_academia/dataset/','')\n",
    "\n",
    "result2['image_name'] = result2['almost_image_name'].str.replace(r'random_within_domain', '')\n",
    "result2['image_name'] =result2['image_name'].str.replace(r'inverted_images', '')\n",
    "result2['image_name'] =result2['image_name'].str.replace(r'augment_to_veritcal_flipmirror', '')\n",
    "result2['image_name'] =result2['image_name'].str.replace(r'augment_to_upside_down', '')\n",
    "result2['image_name'] =result2['image_name'].str.replace(r'augmented_to_inverted', '')\n",
    "result2['image_name'] =result2['image_name'].str.replace(r'inverted_images', '')\n",
    "result2['image_name'] =result2['image_name'].str.replace(r'label_leaked_images', '')\n",
    "result2['image_name'] =result2['image_name'].str.replace(r'upside_down_images', '')\n",
    "result2['image_name'] =result2['image_name'].str.replace(r'within_domain_images', '')"
   ]
  },
  {
   "cell_type": "code",
   "execution_count": null,
   "id": "flexible-butterfly",
   "metadata": {},
   "outputs": [],
   "source": [
    "len(result2['image_name'].unique())"
   ]
  },
  {
   "cell_type": "code",
   "execution_count": null,
   "id": "featured-gregory",
   "metadata": {},
   "outputs": [],
   "source": [
    "#result2"
   ]
  },
  {
   "cell_type": "markdown",
   "id": "fancy-stretch",
   "metadata": {},
   "source": [
    "## Example about histograms for Andrew + Oleg"
   ]
  },
  {
   "cell_type": "code",
   "execution_count": null,
   "id": "growing-success",
   "metadata": {},
   "outputs": [],
   "source": [
    "def subtle_sharpie_enhance(image):\n",
    "    \"\"\"\n",
    "    Makes a new image that is very subtly sharper to the human eye,\n",
    "    but has new values in most of the pixels(besides the background)\n",
    "    \n",
    "    :param image: String for image name\n",
    "    :type image: string\n",
    "    \n",
    "    :return: new_image_array, a nearly imperceptibly sharpened image for humans\n",
    "    :rtype: nd.array\n",
    "    \n",
    "    \"\"\"\n",
    "    ksize = (2, 2)\n",
    "    image_body = cv2.imread(image)\n",
    "    blur_mask = cv2.blur(image_body, ksize) \n",
    "    new_image_array = (2*image_body) - (blur_mask)\n",
    "    return new_image_array\n",
    "\n",
    "def harsh_sharpie_enhance(image):\n",
    "    \"\"\"\n",
    "    Makes a new image that is very sharper to the human eye,\n",
    "    and has new values in most of the pixels(besides the background)\n",
    "    \n",
    "    :param image: String for image name\n",
    "    :type image: string\n",
    "    \n",
    "    :return: new_image_array, a sharpened image for humans\n",
    "    :rtype: nd.array\n",
    "    \"\"\"\n",
    "    ksize = (20, 20)\n",
    "    image_body = cv2.imread(image)\n",
    "    blur_mask = cv2.blur(image_body, ksize) \n",
    "    new_image_array = (2*image_body) - (blur_mask)\n",
    "    return new_image_array"
   ]
  },
  {
   "cell_type": "code",
   "execution_count": null,
   "id": "manufactured-climate",
   "metadata": {},
   "outputs": [],
   "source": [
    "lu = harsh_sharpie_enhance('D:/my_academia/dataset/ranzcr-clip-catheter-line-classification/test37/1.2.826.0.1.3680043.8.498.10003659706701445041816900371598078663.jpg'\n",
    "    )\n",
    "print(type(lu))\n",
    "plt.imshow(lu)"
   ]
  },
  {
   "cell_type": "code",
   "execution_count": null,
   "id": "powerful-photography",
   "metadata": {},
   "outputs": [],
   "source": [
    "ksize = (200, 200)\n",
    "blur_mask = cv2.blur(show_hist_image, ksize) \n",
    "plt.imshow(blur_mask, cmap = 'gray')"
   ]
  },
  {
   "cell_type": "code",
   "execution_count": null,
   "id": "hindu-engineer",
   "metadata": {},
   "outputs": [],
   "source": [
    "#plt.imshow((new_image-show_hist_image), cmap= 'gray')"
   ]
  },
  {
   "cell_type": "code",
   "execution_count": null,
   "id": "textile-canyon",
   "metadata": {},
   "outputs": [],
   "source": [
    "new_image = (2*show_hist_image) - (blur_mask)\n",
    "plt.imshow(new_image, cmap= 'gray')"
   ]
  },
  {
   "cell_type": "code",
   "execution_count": null,
   "id": "committed-brave",
   "metadata": {},
   "outputs": [],
   "source": [
    "show_hist_image = cv2.imread(\n",
    "        'D:/my_academia/dataset/ranzcr-clip-catheter-line-classification/test37/1.2.826.0.1.3680043.8.498.10003659706701445041816900371598078663.jpg'\n",
    "    )\n",
    "plt.imshow(show_hist_image, cmap = 'gray')"
   ]
  },
  {
   "cell_type": "code",
   "execution_count": null,
   "id": "collective-detroit",
   "metadata": {},
   "outputs": [],
   "source": [
    "show_hist_image = cv2.imread(\n",
    "        'D:/my_academia/dataset/ranzcr-clip-catheter-line-classification/test37/1.2.826.0.1.3680043.8.498.10003659706701445041816900371598078663.jpg'\n",
    "    )\n",
    "edges= cv2.Canny(show_hist_image,30,200)\n",
    "img_edges = cv2.Canny(show_hist_image,400,200, L2gradient = True)\n",
    "plt.imshow(img_edges)"
   ]
  },
  {
   "cell_type": "code",
   "execution_count": null,
   "id": "corporate-lancaster",
   "metadata": {},
   "outputs": [],
   "source": [
    "img = cv2.imread(\n",
    "        'D:/my_academia/dataset/ranzcr-clip-catheter-line-classification/test37/1.2.826.0.1.3680043.8.498.10003659706701445041816900371598078663.jpg'\n",
    "    )\n",
    "\n",
    "rgb_planes = cv2.split(img)\n",
    "\n",
    "result_planes = []\n",
    "result_norm_planes = []\n",
    "for plane in rgb_planes:\n",
    "    dilated_img = cv2.dilate(plane, np.ones((7,7), np.uint8))\n",
    "    bg_img = cv2.medianBlur(dilated_img, 21)\n",
    "    diff_img = 255 - cv2.absdiff(plane, bg_img)\n",
    "    norm_img = cv2.normalize(diff_img,None, alpha=0, beta=255, norm_type=cv2.NORM_MINMAX, dtype=cv2.CV_8UC1)\n",
    "    result_planes.append(diff_img)\n",
    "    result_norm_planes.append(norm_img)\n",
    "\n",
    "result = cv2.merge(result_planes)\n",
    "result_norm = cv2.merge(result_norm_planes)\n",
    "\n",
    "cv2.imwrite('shadows_out.png', result)\n",
    "cv2.imwrite('shadows_out_norm.png', result_norm)"
   ]
  },
  {
   "cell_type": "code",
   "execution_count": null,
   "id": "knowing-minutes",
   "metadata": {},
   "outputs": [],
   "source": [
    "plt.imshow((img))"
   ]
  },
  {
   "cell_type": "code",
   "execution_count": null,
   "id": "classical-destiny",
   "metadata": {},
   "outputs": [],
   "source": [
    "def salting(img):\n",
    "    \"\"\"\n",
    "    This function adds some noise to an image.\n",
    "    \n",
    "    :param img_name: String for image name\n",
    "    :type img_name: string\n",
    "    \n",
    "    :return: new_image_array, with noise\n",
    "    :rtype: nd.array\n",
    "    \n",
    "    \"\"\"\n",
    "    kernel = (5,5)\n",
    "    img = cv2.imread(img)\n",
    "    erosion = cv2.erode(img,kernel,iterations = 90)\n",
    "    dilation = cv2.dilate(erosion,kernel,iterations = 10)\n",
    "    salty_noised =(img +(erosion -dilation))\n",
    "    return salty_noised\n"
   ]
  },
  {
   "cell_type": "code",
   "execution_count": null,
   "id": "under-medicare",
   "metadata": {},
   "outputs": [],
   "source": [
    "dil = salting('D:/my_academia/dataset/ranzcr-clip-catheter-line-classification/test37/1.2.826.0.1.3680043.8.498.10003659706701445041816900371598078663.jpg')\n",
    "plt.imshow(dil)"
   ]
  },
  {
   "cell_type": "code",
   "execution_count": null,
   "id": "mysterious-taiwan",
   "metadata": {},
   "outputs": [],
   "source": [
    "plt.imshow(img)"
   ]
  },
  {
   "cell_type": "code",
   "execution_count": null,
   "id": "invisible-crazy",
   "metadata": {},
   "outputs": [],
   "source": [
    "\n",
    "# load the image and resize it to a smaller factor so that\n",
    "# the shapes can be approximated better\n",
    "# image = cv2.imread(\n",
    "#         'D:/my_academia/dataset/ranzcr-clip-catheter-line-classification/test37/1.2.826.0.1.3680043.8.498.10003659706701445041816900371598078663.jpg'\n",
    "#     )\n",
    "# # white color mask\n",
    "# D:/my_academia/maxcor.jpg\n",
    "# img = cv2.imread(\n",
    "#         'D:/my_academia/dataset/ranzcr-clip-catheter-line-classification/test37/1.2.826.0.1.3680043.8.498.10003659706701445041816900371598078663.jpg'\n",
    "#     )\n",
    "#img = cv2.imread('D:/my_academia/maxcor.jpg')\n",
    "#converted = convert_hls(img)\n",
    "image = cv2.imread('D:/my_academia/dataset/NUCLEAR_TO/1.2.826.0.1.3680043.8.498.64992159572035424878190882593325982688.jpg')\n",
    "lower = np.uint8([0, 200, 0])\n",
    "upper = np.uint8([255, 255, 255])\n",
    "white_mask = cv2.inRange(image, lower, upper)\n",
    "# yellow color mask\n",
    "lower = np.uint8([10, 0,   100])\n",
    "upper = np.uint8([40, 255, 255])\n",
    "yellow_mask = cv2.inRange(image, lower, upper)\n",
    "# combine the mask\n",
    "mask = cv2.bitwise_or(white_mask, yellow_mask)\n",
    "result = img.copy()\n",
    "#cv2.imshow(\"mask\",mask) \n",
    "plt.imshow(mask)"
   ]
  },
  {
   "cell_type": "code",
   "execution_count": null,
   "id": "mobile-recipient",
   "metadata": {},
   "outputs": [],
   "source": [
    "plt.imshow(image)"
   ]
  },
  {
   "cell_type": "code",
   "execution_count": null,
   "id": "distributed-browser",
   "metadata": {},
   "outputs": [],
   "source": [
    "image = cv2.imread('D:/my_academia/dataset/NUCLEAR_TO/1.2.826.0.1.3680043.8.498.64992159572035424878190882593325982688.jpg')\n",
    "ksize = (100, 100)\n",
    "def create_matrix(width, height, default_element):\n",
    "   \n",
    "    result = [0] * width\n",
    "\n",
    "    for i in range(width):\n",
    "        result[i] = [default_element] * height\n",
    "\n",
    "    return result\n",
    "heightH=image.shape[1]\n",
    "wtH=image.shape[0]\n",
    "#empty = create_matrix(heightH,wtH,0)\n",
    "edges= cv2.Canny(image,30,200)\n",
    "#image2= cv2.blur(image, ksize)\n",
    "#edges2blur= cv2.Canny(image2,30,200)\n",
    "#if edges -emp !=empty:\n",
    "#print(type(wtH))\n",
    "#print((wtH))\n",
    "#print(type(600))\n",
    "#q = edges2blur[edges2blur[:] > 0]\n",
    "z = edges[edges[:] > 0]\n",
    "if z.sum() < 10:\n",
    "    print('none')\n",
    "# elif z.sum <= 10:\n",
    "#     print('less than 10')\n",
    "else:\n",
    "    print('more than 10')\n",
    "\n",
    "#print( edges[edges[0:wtH]>1]) \n",
    "#empty\n",
    "# is there are edges--> nonbioligical"
   ]
  },
  {
   "cell_type": "code",
   "execution_count": null,
   "id": "greatest-highlight",
   "metadata": {},
   "outputs": [],
   "source": [
    "def find_very_hazy(directory):\n",
    "    suspects = glob.glob(os.path.join(directory, '*.jpg'))\n",
    "    hazy, lined = [], []\n",
    "    for pic in suspects:\n",
    "        image2 = cv2.imread(pic, cv2.IMREAD_GRAYSCALE)\n",
    "        edges= cv2.Canny(image2,400,200)\n",
    "        z = edges[edges[:] > 0]\n",
    "        asumy = z.sum()\n",
    "        f = image2.shape[0]*image2.shape[1]\n",
    "        sumdivf = z.sum()/f\n",
    "        if sumdivf == 0:\n",
    "            hazy.append(pic)\n",
    "\n",
    "        else:\n",
    "            lined.append(pic)\n",
    "\n",
    "    dfr = pd.DataFrame(hazy)\n",
    "    dfr['label'] = 'hazy'\n",
    "    dfh = pd.DataFrame(lined)\n",
    "    dfh['label'] = 'lined'\n",
    "    df = pd.concat([dfr, dfh])\n",
    "\n",
    "    return df"
   ]
  },
  {
   "cell_type": "code",
   "execution_count": null,
   "id": "smart-tension",
   "metadata": {},
   "outputs": [],
   "source": [
    "biologic = find_very_hazy('D:/my_academia/dataset/augment_to_upside_down')\n",
    "#bio2 =biologic[biologic.label != 'regular']\n",
    "\n",
    "biologic#[biologic.qou == 0]"
   ]
  },
  {
   "cell_type": "code",
   "execution_count": null,
   "id": "thousand-cisco",
   "metadata": {},
   "outputs": [],
   "source": [
    "found = cv2.imread('D:/my_academia/dataset/augment_to_upside_down/1.2.826.0.1.3680043.8.498.98442591954141058453770590633539735123.jpg.jpg')\n",
    "plt.imshow(found)"
   ]
  },
  {
   "cell_type": "code",
   "execution_count": null,
   "id": "modified-cocktail",
   "metadata": {},
   "outputs": [],
   "source": [
    "height,width = mask.shape\n",
    "skel = np.zeros([height,width],dtype=np.uint8)      #[height,width,3]\n",
    "kernel = cv2.getStructuringElement(cv2.MORPH_CROSS, (3,3))\n",
    "temp_nonzero = np.count_nonzero(mask)\n",
    "while(np.count_nonzero(mask) != 0 ):\n",
    "    eroded = cv2.erode(mask,kernel)\n",
    "    cv2.imshow(\"eroded\",eroded)   \n",
    "    temp = cv2.dilate(eroded,kernel)\n",
    "    cv2.imshow(\"dilate\",temp)\n",
    "    temp = cv2.subtract(mask,temp)\n",
    "    skel = cv2.bitwise_or(skel,temp)\n",
    "    mask = eroded.copy()\n",
    " \n",
    "#cv2.imshow(\"skel\",skel)\n",
    "plt.imshow(skel)"
   ]
  },
  {
   "cell_type": "code",
   "execution_count": null,
   "id": "exciting-notification",
   "metadata": {},
   "outputs": [],
   "source": [
    "edges = cv2.Canny(skel, 50, 150)\n",
    "cv2.imshow(\"edges\",edges)\n",
    "lines = cv2.HoughLinesP(edges,1,np.pi/180,40,minLineLength=30,maxLineGap=30)\n",
    "i = 0\n",
    "for x1,y1,x2,y2 in lines[0]:\n",
    "    i+=1\n",
    "    cv2.line(result,(x1,y1),(x2,y2),(255,0,0),1)\n",
    "print i\n",
    "\n",
    "cv2.imshow(\"res\",result)"
   ]
  },
  {
   "cell_type": "code",
   "execution_count": null,
   "id": "super-causing",
   "metadata": {},
   "outputs": [],
   "source": [
    "hist = cv2.calcHist([show_hist_image],[0],None,[256],[0,256])\n",
    "hist,bins = np.histogram(show_hist_image.ravel(),256,[0,256])\n",
    "plt.hist(show_hist_image.ravel(),256,[0,256]); plt.show()"
   ]
  },
  {
   "cell_type": "code",
   "execution_count": null,
   "id": "hindu-darwin",
   "metadata": {},
   "outputs": [],
   "source": [
    "invert_hist_image= np.invert(show_hist_image)"
   ]
  },
  {
   "cell_type": "code",
   "execution_count": null,
   "id": "assured-independence",
   "metadata": {},
   "outputs": [],
   "source": [
    "# invert_hist_image = cv2.imread(\n",
    "#         'D:/my_academia/dataset/ranzcr-clip-catheter-line-classification/test37/1.2.826.0.1.3680043.8.498.10003659706701445041816900371598078663.jpg'\n",
    "#     )\n",
    "plt.imshow(invert_hist_image, cmap = 'gray')"
   ]
  },
  {
   "cell_type": "code",
   "execution_count": null,
   "id": "split-bronze",
   "metadata": {},
   "outputs": [],
   "source": [
    "histi = cv2.calcHist([invert_hist_image],[0],None,[256],[0,256])\n",
    "histi,bins = np.histogram(invert_hist_image.ravel(),256,[0,256])\n",
    "plt.hist(invert_hist_image.ravel(),256,[0,256]); plt.show()"
   ]
  },
  {
   "cell_type": "code",
   "execution_count": null,
   "id": "widespread-mechanism",
   "metadata": {},
   "outputs": [],
   "source": [
    "def histogram_difference_for_inverts(directory):\n",
    "    \n",
    "    suspects = glob.glob(os.path.join(directory, '*.jpg'))\n",
    "    regulars, inverts, unclear = [],[], []\n",
    "    for pic in suspects:\n",
    "        example = cv2.imread(pic, cv2.IMREAD_GRAYSCALE)\n",
    "        lows =np.count_nonzero(example < (example.min()+25))\n",
    "        highs =np.count_nonzero(example > (example.max()-25))\n",
    "        if lows > highs:\n",
    "            regulars.append(pic)\n",
    "        elif highs > lows:\n",
    "            inverts.append(pic)\n",
    "        else:    \n",
    "            unclear.append(pic)\n",
    "           \n",
    "    return inverts        \n"
   ]
  },
  {
   "cell_type": "code",
   "execution_count": null,
   "id": "artificial-train",
   "metadata": {},
   "outputs": [],
   "source": [
    "def find_big_lines\n",
    "def dicoms_to_jpegs"
   ]
  },
  {
   "cell_type": "code",
   "execution_count": null,
   "id": "naval-christian",
   "metadata": {},
   "outputs": [],
   "source": [
    "histogram_difference_for_inverts('D:/my_academia/dataset/inverted_images')\n",
    "##print(type(inverted))\n",
    "#print(len(inverted))"
   ]
  },
  {
   "cell_type": "code",
   "execution_count": null,
   "id": "international-filing",
   "metadata": {},
   "outputs": [],
   "source": [
    "exemplar = cv2.imread('D:/my_academia/dataset/ranzcr-clip-catheter-line-classification/test37/1.2.826.0.1.3680043.8.498.10003659706701445041816900371598078663.jpg', cv2.IMREAD_GRAYSCALE)\n",
    "lows =np.count_nonzero(invert_hist_image < (invert_hist_image.min()+11))\n",
    "highs =np.count_nonzero(invert_hist_image > (invert_hist_image.max()-11))\n",
    "highs\n",
    "#lows"
   ]
  },
  {
   "cell_type": "markdown",
   "id": "bearing-insulation",
   "metadata": {},
   "source": []
  },
  {
   "cell_type": "markdown",
   "id": "outside-street",
   "metadata": {},
   "source": [
    "# Running experiment"
   ]
  },
  {
   "cell_type": "markdown",
   "id": "hearing-arrest",
   "metadata": {},
   "source": [
    "This section takes cleaning functions, run over all the images in folder, get result, apppend the result to the 'mother' csv, then run results from functions versus results from labeled problem in terms of sensitivity and specificity. \n"
   ]
  },
  {
   "cell_type": "markdown",
   "id": "latin-wagon",
   "metadata": {},
   "source": [
    "Sensitivity = Σ True positive/Σ (True positive + False Negative)\n",
    "\n",
    "Specificity = Σ True Negative/Σ (True negative + False Positive)"
   ]
  },
  {
   "cell_type": "code",
   "execution_count": null,
   "id": "reduced-print",
   "metadata": {},
   "outputs": [],
   "source": [
    "#find_by_sample_upper.__name__"
   ]
  },
  {
   "cell_type": "code",
   "execution_count": null,
   "id": "macro-victorian",
   "metadata": {},
   "outputs": [],
   "source": [
    "####################################################\n",
    "# other_intermediate = find_duplicated_images_todf('D:/my_academia/dataset/xray1000fromRANCZRKaggle')\n",
    "# other_intermediate"
   ]
  },
  {
   "cell_type": "code",
   "execution_count": null,
   "id": "fewer-nation",
   "metadata": {},
   "outputs": [],
   "source": [
    "# other_intermediate['images'] = 'D:/my_academia/dataset/xray1000fromRANCZRKaggle\\\\' + other_intermediate['images']\n",
    "# #other_intermediate\n"
   ]
  },
  {
   "cell_type": "code",
   "execution_count": null,
   "id": "illegal-arnold",
   "metadata": {},
   "outputs": [],
   "source": [
    "\n",
    "    \n",
    "functions = {\n",
    "    \n",
    "    find_by_sample_upper: (15,  125),\n",
    "    find_sample_upper_greater_than_lower: (10,),\n",
    "    find_outliers_by_mean_to_df: (10,),\n",
    "    find_tiny_image_differences: (),\n",
    "    #find_duplicated_images_todf: (),\n",
    "    find_suspect_text_by_legnth : (2,),\n",
    "    \n",
    "}\n",
    "intermediate_dataframe = None\n",
    "directory = 'D:/my_academia/dataset/within_domain_images'\n",
    "\n",
    "def colnames(func, df):\n",
    "    return {\n",
    "        cname: '{}_{}'.format(func.__name__, cname)\n",
    "        for cname in df.columns\n",
    "        if cname != 'images'\n",
    "    }\n",
    "\n",
    "for func, args in functions.items():\n",
    "    if intermediate_dataframe is None:\n",
    "        intermediate_dataframe = func(directory, *args)\n",
    "        intermediate_dataframe.rename(\n",
    "            columns=colnames(func, intermediate_dataframe),\n",
    "            inplace=True,\n",
    "        )\n",
    "    else:\n",
    "        merge_to = func(directory, *args)\n",
    "        merge_to.rename(columns=colnames(func, merge_to), inplace=True)\n",
    "        intermediate_dataframe = intermediate_dataframe.merge(merge_to, on='images')\n",
    "\n",
    "# = intermediate_dataframe_1    \n",
    "intermediate_dataframe_1 = intermediate_dataframe   \n",
    "intermediate_dataframe_1"
   ]
  },
  {
   "cell_type": "code",
   "execution_count": null,
   "id": "optional-howard",
   "metadata": {},
   "outputs": [],
   "source": [
    "   \n",
    "functions = {\n",
    "    \n",
    "    find_by_sample_upper: (15,  125),\n",
    "    find_sample_upper_greater_than_lower: (10,),\n",
    "    find_outliers_by_mean_to_df: (10,),\n",
    "    find_tiny_image_differences: (),\n",
    "    #find_duplicated_images_todf: (),\n",
    "    find_suspect_text_by_legnth : (2,),\n",
    "    \n",
    "}\n",
    "intermediate_dataframe = None\n",
    "directory = 'D:/my_academia/dataset/augment_to_veritcal_flipmirror'\n",
    "\n",
    "def colnames(func, df):\n",
    "    return {\n",
    "        cname: '{}_{}'.format(func.__name__, cname)\n",
    "        for cname in df.columns\n",
    "        if cname != 'images'\n",
    "    }\n",
    "\n",
    "for func, args in functions.items():\n",
    "    if intermediate_dataframe is None:\n",
    "        intermediate_dataframe = func(directory, *args)\n",
    "        intermediate_dataframe.rename(\n",
    "            columns=colnames(func, intermediate_dataframe),\n",
    "            inplace=True,\n",
    "        )\n",
    "    else:\n",
    "        merge_to = func(directory, *args)\n",
    "        merge_to.rename(columns=colnames(func, merge_to), inplace=True)\n",
    "        intermediate_dataframe = intermediate_dataframe.merge(merge_to, on='images')\n",
    "\n",
    "   \n",
    "intermediate_dataframe_2 = intermediate_dataframe   \n",
    "intermediate_dataframe_2"
   ]
  },
  {
   "cell_type": "code",
   "execution_count": null,
   "id": "metallic-action",
   "metadata": {},
   "outputs": [],
   "source": [
    "#inverted_finding = D:\\my_academia\\dataset\\inverted_images\n",
    "   #D:\\my_academia\\dataset\\augmented_to_inverted \n",
    "    \n",
    "functions = {\n",
    "    \n",
    "    find_by_sample_upper: (15,  125),\n",
    "    find_sample_upper_greater_than_lower: (10,),\n",
    "    find_outliers_by_mean_to_df: (10,),\n",
    "    find_tiny_image_differences: (),\n",
    "    #find_duplicated_images_todf: (),\n",
    "    find_suspect_text_by_legnth : (2,),\n",
    "    \n",
    "}\n",
    "intermediate_dataframe = None\n",
    "directory = 'D:/my_academia/dataset/augment_to_upside_down'\n",
    "\n",
    "def colnames(func, df):\n",
    "    return {\n",
    "        cname: '{}_{}'.format(func.__name__, cname)\n",
    "        for cname in df.columns\n",
    "        if cname != 'images'\n",
    "    }\n",
    "\n",
    "for func, args in functions.items():\n",
    "    if intermediate_dataframe is None:\n",
    "        intermediate_dataframe = func(directory, *args)\n",
    "        intermediate_dataframe.rename(\n",
    "            columns=colnames(func, intermediate_dataframe),\n",
    "            inplace=True,\n",
    "        )\n",
    "    else:\n",
    "        merge_to = func(directory, *args)\n",
    "        merge_to.rename(columns=colnames(func, merge_to), inplace=True)\n",
    "        intermediate_dataframe = intermediate_dataframe.merge(merge_to, on='images')\n",
    "\n",
    "# = intermediate_dataframe_1    \n",
    "intermediate_dataframe_3 = intermediate_dataframe   \n",
    "intermediate_dataframe_3"
   ]
  },
  {
   "cell_type": "code",
   "execution_count": null,
   "id": "rolled-colon",
   "metadata": {},
   "outputs": [],
   "source": [
    "\n",
    "functions = {\n",
    "    \n",
    "    find_by_sample_upper: (15,  125),\n",
    "    find_sample_upper_greater_than_lower: (10,),\n",
    "    find_outliers_by_mean_to_df: (10,),\n",
    "    find_tiny_image_differences: (),\n",
    "    #find_duplicated_images_todf: (),\n",
    "    find_suspect_text_by_legnth : (2,),\n",
    "    \n",
    "}\n",
    "intermediate_dataframe = None\n",
    "directory = 'D:/my_academia/dataset/augmented_to_inverted'\n",
    "\n",
    "def colnames(func, df):\n",
    "    return {\n",
    "        cname: '{}_{}'.format(func.__name__, cname)\n",
    "        for cname in df.columns\n",
    "        if cname != 'images'\n",
    "    }\n",
    "\n",
    "for func, args in functions.items():\n",
    "    if intermediate_dataframe is None:\n",
    "        intermediate_dataframe = func(directory, *args)\n",
    "        intermediate_dataframe.rename(\n",
    "            columns=colnames(func, intermediate_dataframe),\n",
    "            inplace=True,\n",
    "        )\n",
    "    else:\n",
    "        merge_to = func(directory, *args)\n",
    "        merge_to.rename(columns=colnames(func, merge_to), inplace=True)\n",
    "        intermediate_dataframe = intermediate_dataframe.merge(merge_to, on='images')\n",
    "\n",
    "intermediate_dataframe_4 = intermediate_dataframe   \n",
    "intermediate_dataframe_4"
   ]
  },
  {
   "cell_type": "code",
   "execution_count": null,
   "id": "induced-bermuda",
   "metadata": {},
   "outputs": [],
   "source": [
    "\n",
    "functions = {\n",
    "    \n",
    "    find_by_sample_upper: (15,  125),\n",
    "    find_sample_upper_greater_than_lower: (10,),\n",
    "    find_outliers_by_mean_to_df: (10,),\n",
    "    find_tiny_image_differences: (),\n",
    "    #find_duplicated_images_todf: (),\n",
    "    find_suspect_text_by_legnth : (2,),\n",
    "    \n",
    "}\n",
    "intermediate_dataframe = None\n",
    "directory = 'D:/my_academia/dataset/label_leaked_images'\n",
    "\n",
    "def colnames(func, df):\n",
    "    return {\n",
    "        cname: '{}_{}'.format(func.__name__, cname)\n",
    "        for cname in df.columns\n",
    "        if cname != 'images'\n",
    "    }\n",
    "\n",
    "for func, args in functions.items():\n",
    "    if intermediate_dataframe is None:\n",
    "        intermediate_dataframe = func(directory, *args)\n",
    "        intermediate_dataframe.rename(\n",
    "            columns=colnames(func, intermediate_dataframe),\n",
    "            inplace=True,\n",
    "        )\n",
    "    else:\n",
    "        merge_to = func(directory, *args)\n",
    "        merge_to.rename(columns=colnames(func, merge_to), inplace=True)\n",
    "        intermediate_dataframe = intermediate_dataframe.merge(merge_to, on='images')\n",
    "\n",
    "intermediate_dataframe_5 = intermediate_dataframe   \n",
    "intermediate_dataframe_5"
   ]
  },
  {
   "cell_type": "code",
   "execution_count": null,
   "id": "retired-inventory",
   "metadata": {},
   "outputs": [],
   "source": [
    "\n",
    "functions = {\n",
    "    \n",
    "    find_by_sample_upper: (15,  125),\n",
    "    find_sample_upper_greater_than_lower: (10,),\n",
    "    find_outliers_by_mean_to_df: (10,),\n",
    "    find_tiny_image_differences: (),\n",
    "    #find_duplicated_images_todf: (),\n",
    "    find_suspect_text_by_legnth : (2,),\n",
    "    \n",
    "}\n",
    "intermediate_dataframe = None\n",
    "directory = 'D:/my_academia/dataset/inverted_images'\n",
    "\n",
    "def colnames(func, df):\n",
    "    return {\n",
    "        cname: '{}_{}'.format(func.__name__, cname)\n",
    "        for cname in df.columns\n",
    "        if cname != 'images'\n",
    "    }\n",
    "\n",
    "for func, args in functions.items():\n",
    "    if intermediate_dataframe is None:\n",
    "        intermediate_dataframe = func(directory, *args)\n",
    "        intermediate_dataframe.rename(\n",
    "            columns=colnames(func, intermediate_dataframe),\n",
    "            inplace=True,\n",
    "        )\n",
    "    else:\n",
    "        merge_to = func(directory, *args)\n",
    "        merge_to.rename(columns=colnames(func, merge_to), inplace=True)\n",
    "        intermediate_dataframe = intermediate_dataframe.merge(merge_to, on='images')\n",
    "\n",
    "intermediate_dataframe_6 = intermediate_dataframe   \n",
    "intermediate_dataframe_6"
   ]
  },
  {
   "cell_type": "code",
   "execution_count": null,
   "id": "charming-penny",
   "metadata": {},
   "outputs": [],
   "source": [
    "\n",
    "functions = {\n",
    "    \n",
    "    find_by_sample_upper: (15,  125),\n",
    "    find_sample_upper_greater_than_lower: (10,),\n",
    "    find_outliers_by_mean_to_df: (10,),\n",
    "    find_tiny_image_differences: (),\n",
    "    #find_duplicated_images_todf: (),\n",
    "    find_suspect_text_by_legnth : (2,),\n",
    "    \n",
    "}\n",
    "intermediate_dataframe = None\n",
    "directory = 'D:/my_academia/dataset/random_within_domain'\n",
    "\n",
    "def colnames(func, df):\n",
    "    return {\n",
    "        cname: '{}_{}'.format(func.__name__, cname)\n",
    "        for cname in df.columns\n",
    "        if cname != 'images'\n",
    "    }\n",
    "\n",
    "for func, args in functions.items():\n",
    "    if intermediate_dataframe is None:\n",
    "        intermediate_dataframe = func(directory, *args)\n",
    "        intermediate_dataframe.rename(\n",
    "            columns=colnames(func, intermediate_dataframe),\n",
    "            inplace=True,\n",
    "        )\n",
    "    else:\n",
    "        merge_to = func(directory, *args)\n",
    "        merge_to.rename(columns=colnames(func, merge_to), inplace=True)\n",
    "        intermediate_dataframe = intermediate_dataframe.merge(merge_to, on='images')\n",
    "\n",
    "intermediate_dataframe_7 = intermediate_dataframe   \n",
    "intermediate_dataframe_7"
   ]
  },
  {
   "cell_type": "code",
   "execution_count": null,
   "id": "generous-magnet",
   "metadata": {},
   "outputs": [],
   "source": [
    "findings_dataframe = pd.concat([intermediate_dataframe_1,intermediate_dataframe_2,intermediate_dataframe_3,intermediate_dataframe_4,intermediate_dataframe_5,intermediate_dataframe_6,intermediate_dataframe_7])"
   ]
  },
  {
   "cell_type": "code",
   "execution_count": null,
   "id": "wound-tract",
   "metadata": {},
   "outputs": [],
   "source": [
    "findings_dataframe"
   ]
  },
  {
   "cell_type": "code",
   "execution_count": null,
   "id": "sexual-advisory",
   "metadata": {},
   "outputs": [],
   "source": [
    "short_to_problem =result2[['problem', 'image_path']]\n",
    "short_to_problem['images'] = short_to_problem['image_path']\n"
   ]
  },
  {
   "cell_type": "code",
   "execution_count": null,
   "id": "identified-bernard",
   "metadata": {},
   "outputs": [],
   "source": [
    "short_to_problem"
   ]
  },
  {
   "cell_type": "code",
   "execution_count": null,
   "id": "strange-characteristic",
   "metadata": {},
   "outputs": [],
   "source": [
    "short_to_problem[100:190]"
   ]
  },
  {
   "cell_type": "code",
   "execution_count": null,
   "id": "afraid-athens",
   "metadata": {},
   "outputs": [],
   "source": [
    "short_to_problem_plus = short_to_problem.merge(findings_dataframe, on = 'images', how= 'inner')"
   ]
  },
  {
   "cell_type": "code",
   "execution_count": null,
   "id": "normal-athens",
   "metadata": {},
   "outputs": [],
   "source": [
    "short_to_problem_plus"
   ]
  },
  {
   "cell_type": "code",
   "execution_count": null,
   "id": "voluntary-penetration",
   "metadata": {},
   "outputs": [],
   "source": [
    "find_by_sample_upper_estimates_frame = short_to_problem_plus[['problem','images','find_by_sample_upper_estimates_b_find_by_sample_upper']].copy(deep = True)"
   ]
  },
  {
   "cell_type": "code",
   "execution_count": null,
   "id": "valued-accuracy",
   "metadata": {},
   "outputs": [],
   "source": [
    "find_by_sample_upper_estimates_frame"
   ]
  },
  {
   "cell_type": "code",
   "execution_count": null,
   "id": "present-commissioner",
   "metadata": {},
   "outputs": [],
   "source": [
    "find_by_sample_upper_estimates_frame.loc[\n",
    "    find_by_sample_upper_estimates_frame['problem'] == 'original_inverted', 'reality'\n",
    "] = 'pos'\n",
    "find_by_sample_upper_estimates_frame.loc[\n",
    "    find_by_sample_upper_estimates_frame['problem'] == 'inverted', 'reality'\n",
    "] = 'pos'\n",
    "find_by_sample_upper_estimates_frame.loc[\n",
    "    (find_by_sample_upper_estimates_frame['problem'] != 'original_inverted') & \n",
    "    (find_by_sample_upper_estimates_frame['problem'] != 'inverted') , \n",
    "    'reality'\n",
    "] = 'neg'"
   ]
  },
  {
   "cell_type": "code",
   "execution_count": null,
   "id": "aquatic-active",
   "metadata": {},
   "outputs": [],
   "source": [
    "find_by_sample_upper_estimates_frame"
   ]
  },
  {
   "cell_type": "code",
   "execution_count": null,
   "id": "accompanied-martin",
   "metadata": {},
   "outputs": [],
   "source": [
    "reality = (find_by_sample_upper_estimates_frame['reality'] == 'pos')\n",
    "df = find_by_sample_upper_estimates_frame\n",
    "true_positives = df['find_by_sample_upper_estimates_b_find_by_sample_upper'] & reality\n",
    "true_negatives = ~df['find_by_sample_upper_estimates_b_find_by_sample_upper'] & ~reality\n",
    "false_positives = df['find_by_sample_upper_estimates_b_find_by_sample_upper'] & ~reality\n",
    "\n",
    "df['prediction_correctness'] = 'False Negative'\n",
    "df.loc[true_positives, 'prediction_correctness'] = 'True Positive'\n",
    "df.loc[true_negatives, 'prediction_correctness'] = 'True Negative'\n",
    "df.loc[false_positives, 'prediction_correctness'] = 'False Positive'\n",
    "df"
   ]
  },
  {
   "cell_type": "code",
   "execution_count": null,
   "id": "tropical-montgomery",
   "metadata": {},
   "outputs": [],
   "source": [
    "find_by_sample_upper_estimates_frame.problem.unique()"
   ]
  },
  {
   "cell_type": "code",
   "execution_count": null,
   "id": "economic-kidney",
   "metadata": {},
   "outputs": [],
   "source": [
    "#Sensitivity = Σ True positive/Σ (Ture positive + False Negative)\n",
    "\n",
    "#Specificity = Σ False positive/Σ (True negative + False Positive)\n",
    "\n",
    "true_pos = len(df[df.prediction_correctness == 'True Positive'])\n",
    "false_pos = len(df[df.prediction_correctness == 'False Positive'])\n",
    "true_pos = len(df[df.prediction_correctness == 'True Negative'])\n",
    "false_pos = len(df[df.prediction_correctness == 'False Positive'])\n",
    "print(false_pos)\n",
    "#sensitivity_df = df.prediction_correctness "
   ]
  },
  {
   "cell_type": "code",
   "execution_count": null,
   "id": "familiar-wyoming",
   "metadata": {},
   "outputs": [],
   "source": [
    "df.prediction_correctness.value_counts()"
   ]
  },
  {
   "cell_type": "code",
   "execution_count": null,
   "id": "toxic-stable",
   "metadata": {},
   "outputs": [],
   "source": [
    "counts = df.prediction_correctness.value_counts()\n",
    "sensitivityA = counts['True Positive'] / (counts['True Positive'] + counts['False Negative'])\n",
    "# sensitivity ofalgorithm A for inverted images\n",
    "sensitivityA"
   ]
  },
  {
   "cell_type": "code",
   "execution_count": null,
   "id": "critical-murray",
   "metadata": {},
   "outputs": [],
   "source": [
    "specificityA = counts['True Negative'] / (counts['True Negative'] + counts['False Positive'])\n",
    "# specificty ofalgorithm A for inverted images\n",
    "\n",
    "specificityA"
   ]
  },
  {
   "cell_type": "code",
   "execution_count": null,
   "id": "beneficial-workplace",
   "metadata": {},
   "outputs": [],
   "source": [
    "\n",
    "# try later \n",
    "import pydicom\n",
    "import dicognito.anonymizer\n",
    "\n",
    "anonymizer = dicognito.anonymizer.Anonymizer()\n",
    "\n",
    "for original_filename in (\"original1.dcm\"):\n",
    "    with pydicom.dcmread(original_filename) as dataset:\n",
    "        anonymizer.anonymize(dataset)\n",
    "        dataset.save_as(\"clean-\" + original_filename)"
   ]
  }
 ],
 "metadata": {
  "kernelspec": {
   "display_name": "Python 3",
   "language": "python",
   "name": "python3"
  },
  "language_info": {
   "codemirror_mode": {
    "name": "ipython",
    "version": 3
   },
   "file_extension": ".py",
   "mimetype": "text/x-python",
   "name": "python",
   "nbconvert_exporter": "python",
   "pygments_lexer": "ipython3",
   "version": "3.7.9"
  },
  "toc": {
   "base_numbering": 1,
   "nav_menu": {},
   "number_sections": true,
   "sideBar": true,
   "skip_h1_title": false,
   "title_cell": "Table of Contents",
   "title_sidebar": "Contents",
   "toc_cell": false,
   "toc_position": {},
   "toc_section_display": true,
   "toc_window_display": false
  }
 },
 "nbformat": 4,
 "nbformat_minor": 5
}
