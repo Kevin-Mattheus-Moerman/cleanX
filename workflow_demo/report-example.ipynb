{
 "cells": [
  {
   "cell_type": "code",
   "execution_count": 1,
   "id": "af334dc1",
   "metadata": {},
   "outputs": [],
   "source": [
    "import sys\n",
    "sys.path = ['/home/wvxvw/src/cleanX/'] + sys.path"
   ]
  },
  {
   "cell_type": "code",
   "execution_count": 2,
   "id": "9f3fe24d",
   "metadata": {},
   "outputs": [],
   "source": [
    "from cleanX.dataset_processing import MLSetup"
   ]
  },
  {
   "cell_type": "code",
   "execution_count": 3,
   "id": "5cc14bb3",
   "metadata": {},
   "outputs": [
    {
     "data": {
      "text/html": [
       "<ul><li><h1>Duplicates</h1></li><ul></ul><li><h1>Leakage</h1></li><ul></ul><li><h1>Value Count</h1></li><ul></ul><li><h1>Knowledge</h1></li><ul></ul></ul>"
      ],
      "text/plain": [
       "<IPython.core.display.HTML object>"
      ]
     },
     "execution_count": 3,
     "metadata": {},
     "output_type": "execute_result"
    }
   ],
   "source": [
    "setup = MLSetup('example_csv.csv', 'example_csv.csv')\n",
    "report = setup.generate_report()\n",
    "report.to_ipwidget()"
   ]
  },
  {
   "cell_type": "code",
   "execution_count": null,
   "id": "00865485",
   "metadata": {},
   "outputs": [],
   "source": []
  }
 ],
 "metadata": {
  "kernelspec": {
   "display_name": "Python 3 (ipykernel)",
   "language": "python",
   "name": "python3"
  },
  "language_info": {
   "codemirror_mode": {
    "name": "ipython",
    "version": 3
   },
   "file_extension": ".py",
   "mimetype": "text/x-python",
   "name": "python",
   "nbconvert_exporter": "python",
   "pygments_lexer": "ipython3",
   "version": "3.8.10"
  }
 },
 "nbformat": 4,
 "nbformat_minor": 5
}
